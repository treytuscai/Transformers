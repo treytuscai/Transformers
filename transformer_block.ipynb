{
 "cells": [
  {
   "cell_type": "markdown",
   "metadata": {},
   "source": [
    "Trey Tuscai and Gordon Doore\n",
    "\n",
    "Spring 2025\n",
    "\n",
    "CS 444: Deep Learning"
   ]
  },
  {
   "cell_type": "code",
   "execution_count": 19,
   "metadata": {},
   "outputs": [
    {
     "name": "stdout",
     "output_type": "stream",
     "text": [
      "The autoreload extension is already loaded. To reload it, use:\n",
      "  %reload_ext autoreload\n"
     ]
    }
   ],
   "source": [
    "import numpy as np\n",
    "import tensorflow as tf\n",
    "import matplotlib.pyplot as plt\n",
    "\n",
    "plt.style.use(['seaborn-v0_8-colorblind', 'seaborn-v0_8-darkgrid'])\n",
    "plt.rcParams.update({'font.size': 20})\n",
    "\n",
    "np.set_printoptions(suppress=True, precision=4)\n",
    "\n",
    "# Automatically reload your external source code\n",
    "%load_ext autoreload\n",
    "%autoreload 2"
   ]
  },
  {
   "cell_type": "markdown",
   "metadata": {},
   "source": [
    "# Project 4 | Transformers\n",
    "\n",
    "The focus of this project is on the **Transformer neural network architecture**, which was introduced in the (now famous) paper *Attention is All you Need* by [Vaswani et al. (2017)](https://arxiv.org/abs/1706.03762). This neural network architecture is THE foundation of all modern large language models (e.g. OpenAI's GPT line of models, Anthropic Claude, Google Gemini, Meta Llama, DeepSeek, etc.). You will implement and train transformer networks on large amounts of text data. The transformer networks in this project adhere to the general structure of OpenAI's **Generative Pretrained Transformer (GPT)** models.\n",
    "\n",
    "Once you build on your deep learning library to support the transformer architecture in this notebook, you will train small transformers to add and multiply numbers (i.e. evaluate strings of arithmetic operations, such as `'1+1='`). The last part of the project focuses on training larger transformers on a large text corpus — the entire works of William Shakespeare. When you prompt your transformers with some starter text, they will generate novel text that follows your prompt and generally resembles the text used to train the network (e.g. a Shakespearian play).\n",
    "\n",
    "<!-- #### Week 1: Build a transformer neural network -->"
   ]
  },
  {
   "cell_type": "markdown",
   "metadata": {},
   "source": [
    "![Some fun](images/transformer.png)"
   ]
  },
  {
   "cell_type": "markdown",
   "metadata": {},
   "source": [
    "## Task 1: Generate the addition dataset\n",
    "\n",
    "In this task, you will write code to generate and preprocess a dataset composed of strings that represent arithmetic addition expressions involving up to 2 digit non-negative integer operands. For example, `'20+30=50'` and `'2+30=32'`are allowed, but not `'300+5=305'`. You will train a transformer on a large numbers of such expressions then you will prompt it to generate the answer to the right of the equals sign. For example, once trained you could prompt the transformer with `'21+23='` and it should return `'44'`.\n",
    "\n",
    "#### Data format\n",
    "\n",
    "In this project, we will be working with text data and we are implementing a **character-level model** (unlike the word-level model used in the Word Embedding project). This means that each data sample is a sequence of `T` characters (i.e. tokens), which, for example, could be a part of a sentence or the characters that make up an arithmetic expression. So all the data samples in the dataset will have shape `(N, T)`. Just like in the Word Embedding project, we int-code each char/token in the dataset based on the character's position in the vocabulary."
   ]
  },
  {
   "cell_type": "code",
   "execution_count": 20,
   "metadata": {},
   "outputs": [],
   "source": [
    "from addition_dataset import *"
   ]
  },
  {
   "cell_type": "markdown",
   "metadata": {},
   "source": [
    "### 1a. Verify `make_addition_expressions` outputs\n",
    "\n",
    "In the cell below, use the provided `make_addition_expressions` to generate 25,000 addition expressions involving at most 2 digit operands (i.e. maximum operand of `99`). Use the default random seed. Assign the list of addition expressions to a variable called `addition_ds` and the vocabulary dictionary to a variable called `char2ind_map`.\n",
    "\n",
    "When executed, the function should print:\n",
    "\n",
    "```\n",
    "First 5/25000 expressions:\n",
    "  ['4', '7', '+', '5', '1', '=', '9', '8', '.', '#']\n",
    "  ['7', '5', '+', '9', '5', '=', '1', '7', '0', '.']\n",
    "  ['3', '+', '1', '4', '=', '1', '7', '.', '#', '#']\n",
    "  ['8', '2', '+', '9', '4', '=', '1', '7', '6', '.']\n",
    "  ['2', '4', '+', '3', '1', '=', '5', '5', '.', '#']\n",
    "```\n",
    "\n",
    "#### Token encoding\n",
    "\n",
    "To aid in interpretability of the int-coded tokens, we will represent the each `0-9` digit of the integer operands being summed as `0-9` in the int coding. We map the following chars to the next available ints in our coding scheme:\n",
    "- `'+'` → 10\n",
    "- `'='` → 11\n",
    "\n",
    "We introduce a \"fake\" token `'.'` (int code: 12) within our vocabulary, our data samples, and our labels, which indicates the end of each addition expression (**end token**). For example `'47+51=98.'`. This helps the transformer know when the last \"real\" token/char in each addition expression has been reached (i.e. there are no more numbers to the right) and when it generates text after training, the transformer can output the int code corresponding `'.'` to signify that it is done generating text.\n",
    "\n",
    "We introduce another \"fake\" token `'#'` (int code: 13), which we call the **padding token**. Our transformers must be trained on fixed-length sequences, but different addition expressions have different length (i.e. the length of `'1+1=2'` is shorter than `'1+9=10'`). To overcome this issue with samples in our dataset, we use the padding token to right-pad any expression that has fewer characters than our longest supported expression `'99+99=198'`."
   ]
  },
  {
   "cell_type": "code",
   "execution_count": 21,
   "metadata": {},
   "outputs": [
    {
     "name": "stdout",
     "output_type": "stream",
     "text": [
      "First 5/25000 expressions:\n",
      "  ['4', '7', '+', '5', '1', '=', '9', '8', '.', '#']\n",
      "  ['7', '5', '+', '9', '5', '=', '1', '7', '0', '.']\n",
      "  ['3', '+', '1', '4', '=', '1', '7', '.', '#', '#']\n",
      "  ['8', '2', '+', '9', '4', '=', '1', '7', '6', '.']\n",
      "  ['2', '4', '+', '3', '1', '=', '5', '5', '.', '#']\n"
     ]
    }
   ],
   "source": [
    "addition_ds, char2ind_map = make_addition_expressions(N=25000)"
   ]
  },
  {
   "cell_type": "markdown",
   "metadata": {},
   "source": [
    "### 1b. Create addition int-coded dataset samples and labels\n",
    "\n",
    "To do this we must\n",
    "- convert each char in each addition expression into an int-code (*using the vocabulary*).\n",
    "- define the \"class labels\" or the characters we want the transformer to predict at each time step. This is simply the int code of next character in each the expression to the right of the current one. For example, for `'9+2=11'` the first token in the data sample is `9` and the first class label is `10` (the int code for `'+'`).\n",
    "\n",
    "Implement `make_addition_samples_and_labels` in `addition_dataset.py` to perform the above tasks then test your code below."
   ]
  },
  {
   "cell_type": "code",
   "execution_count": 22,
   "metadata": {},
   "outputs": [
    {
     "name": "stdout",
     "output_type": "stream",
     "text": [
      "First few samples (encoded):\n",
      "[4, 7, 10, 5, 1, 11, 9, 8, 12]\n",
      "[7, 5, 10, 9, 5, 11, 1, 7, 0]\n",
      "[3, 10, 1, 4, 11, 1, 7, 12, 13]\n",
      "[8, 2, 10, 9, 4, 11, 1, 7, 6]\n",
      "[2, 4, 10, 3, 1, 11, 5, 5, 12]\n",
      "First few labels (encoded):\n",
      "[7, 10, 5, 1, 11, 9, 8, 12, 13]\n",
      "[5, 10, 9, 5, 11, 1, 7, 0, 12]\n",
      "[10, 1, 4, 11, 1, 7, 12, 13, 13]\n",
      "[2, 10, 9, 4, 11, 1, 7, 6, 12]\n",
      "[4, 10, 3, 1, 11, 5, 5, 12, 13]\n"
     ]
    }
   ],
   "source": [
    "x_int_test, y_int_test = make_addition_samples_and_labels(addition_ds, char2ind_map)\n",
    "\n",
    "print('First few samples (encoded):')\n",
    "for i in range(5):\n",
    "    print(x_int_test[i])\n",
    "print('First few labels (encoded):')\n",
    "for i in range(5):\n",
    "    print(y_int_test[i])"
   ]
  },
  {
   "cell_type": "markdown",
   "metadata": {},
   "source": [
    "The above should print:\n",
    "\n",
    "```\n",
    "First few samples (encoded):\n",
    "[4, 7, 10, 5, 1, 11, 9, 8, 12]\n",
    "[7, 5, 10, 9, 5, 11, 1, 7, 0]\n",
    "[3, 10, 1, 4, 11, 1, 7, 12, 13]\n",
    "[8, 2, 10, 9, 4, 11, 1, 7, 6]\n",
    "[2, 4, 10, 3, 1, 11, 5, 5, 12]\n",
    "First few labels (encoded):\n",
    "[7, 10, 5, 1, 11, 9, 8, 12, 13]\n",
    "[5, 10, 9, 5, 11, 1, 7, 0, 12]\n",
    "[10, 1, 4, 11, 1, 7, 12, 13, 13]\n",
    "[2, 10, 9, 4, 11, 1, 7, 6, 12]\n",
    "[4, 10, 3, 1, 11, 5, 5, 12, 13]\n",
    "```"
   ]
  },
  {
   "cell_type": "markdown",
   "metadata": {},
   "source": [
    "### 1c. Create dictionary converting int-coded tokens back into chars\n",
    "\n",
    "Your transformer will output ints — the int-coded representation of the predicted next char. For example, if the transformer outputs `'11'` that should be converted to `'='` for interpretability. \n",
    "\n",
    "Implement and test `make_ind2char_mapping` in `addition_dataset.py` to create the dictionary that will use the vocabulary to map int-coded representations of tokens back to chars."
   ]
  },
  {
   "cell_type": "code",
   "execution_count": 23,
   "metadata": {},
   "outputs": [
    {
     "name": "stdout",
     "output_type": "stream",
     "text": [
      "Here is your ind2char_map:\n",
      "{0: '0', 1: '1', 2: '2', 3: '3', 4: '4', 5: '5', 6: '6', 7: '7', 8: '8', 9: '9', 10: '+', 11: '=', 12: '.', 13: '#'}\n",
      "it should be\n",
      "{0: '0', 1: '1', 2: '2', 3: '3', 4: '4', 5: '5', 6: '6', 7: '7', 8: '8', 9: '9', 10: '+', 11: '=', 12: '.', 13: '#'}\n",
      "Here is your char2ind_map:\n",
      "{'0': 0, '1': 1, '2': 2, '3': 3, '4': 4, '5': 5, '6': 6, '7': 7, '8': 8, '9': 9, '+': 10, '=': 11, '.': 12, '#': 13}\n",
      "it should be\n",
      "{'0': 0, '1': 1, '2': 2, '3': 3, '4': 4, '5': 5, '6': 6, '7': 7, '8': 8, '9': 9, '+': 10, '=': 11, '.': 12, '#': 13}\n"
     ]
    }
   ],
   "source": [
    "ind2char_map = make_ind2char_mapping(char2ind_map)\n",
    "\n",
    "print(f'Here is your ind2char_map:\\n{ind2char_map}\\nit should be')\n",
    "print(\"{0: '0', 1: '1', 2: '2', 3: '3', 4: '4', 5: '5', 6: '6', 7: '7', 8: '8', 9: '9', 10: '+', 11: '=', 12: '.', 13: '#'}\")\n",
    "print(f'Here is your char2ind_map:\\n{char2ind_map}\\nit should be')\n",
    "print(\"{'0': 0, '1': 1, '2': 2, '3': 3, '4': 4, '5': 5, '6': 6, '7': 7, '8': 8, '9': 9, '+': 10, '=': 11, '.': 12, '#': 13}\")"
   ]
  },
  {
   "cell_type": "markdown",
   "metadata": {},
   "source": [
    "### 1d. Convert from int-coded tokens back to characters\n",
    "\n",
    "Because you will prompt your transformer with string input (like a chatbot) and we would like to make sense of the transformer predictions, let's write a function (`convert_int2str`) that automates the process of taking int-coded samples back into human-readable characters then test it below."
   ]
  },
  {
   "cell_type": "code",
   "execution_count": 24,
   "metadata": {},
   "outputs": [
    {
     "name": "stdout",
     "output_type": "stream",
     "text": [
      "First few samples converted back to chars:\n",
      "['4', '7', '+', '5', '1', '=', '9', '8', '.']\n",
      "['7', '5', '+', '9', '5', '=', '1', '7', '0']\n",
      "['3', '+', '1', '4', '=', '1', '7', '.', '#']\n",
      "['8', '2', '+', '9', '4', '=', '1', '7', '6']\n",
      "['2', '4', '+', '3', '1', '=', '5', '5', '.']\n",
      "First few labels converted back to chars:\n",
      "['7', '+', '5', '1', '=', '9', '8', '.', '#']\n",
      "['5', '+', '9', '5', '=', '1', '7', '0', '.']\n",
      "['+', '1', '4', '=', '1', '7', '.', '#', '#']\n",
      "['2', '+', '9', '4', '=', '1', '7', '6', '.']\n",
      "['4', '+', '3', '1', '=', '5', '5', '.', '#']\n",
      "\n"
     ]
    }
   ],
   "source": [
    "x_str_test = convert_int2str(x_int_test, ind2char_map)\n",
    "y_str_test = convert_int2str(y_int_test, ind2char_map)\n",
    "\n",
    "print('First few samples converted back to chars:')\n",
    "for i in range(5):\n",
    "    print(x_str_test[i])\n",
    "print('First few labels converted back to chars:')\n",
    "for i in range(5):\n",
    "    print(y_str_test[i])\n",
    "print()"
   ]
  },
  {
   "cell_type": "markdown",
   "metadata": {},
   "source": [
    "The above cell should output:\n",
    "\n",
    "```\n",
    "First few samples:\n",
    "['4', '7', '+', '5', '1', '=', '9', '8', '.']\n",
    "['7', '5', '+', '9', '5', '=', '1', '7', '0']\n",
    "['3', '+', '1', '4', '=', '1', '7', '.', '#']\n",
    "['8', '2', '+', '9', '4', '=', '1', '7', '6']\n",
    "['2', '4', '+', '3', '1', '=', '5', '5', '.']\n",
    "First few labels:\n",
    "['7', '+', '5', '1', '=', '9', '8', '.', '#']\n",
    "['5', '+', '9', '5', '=', '1', '7', '0', '.']\n",
    "['+', '1', '4', '=', '1', '7', '.', '#', '#']\n",
    "['2', '+', '9', '4', '=', '1', '7', '6', '.']\n",
    "['4', '+', '3', '1', '=', '5', '5', '.', '#']\n",
    "```"
   ]
  },
  {
   "cell_type": "markdown",
   "metadata": {},
   "source": [
    "### 1e. Create train-validation split\n",
    "\n",
    "Implement `make_train_val_split` in `addition_dataset.py` to divide the dataset into training and validation split then run the code below to check your implementation."
   ]
  },
  {
   "cell_type": "code",
   "execution_count": 25,
   "metadata": {},
   "outputs": [
    {
     "name": "stdout",
     "output_type": "stream",
     "text": [
      "The training samples shape is: (22500, 9) and should be (22500, 9).\n",
      "The training labels shape is: (22500, 9) and should be (22500, 9).\n",
      "The validation samples shape is: (2500, 9) and should be (2500, 9).\n",
      "The validation labels shape is: (2500, 9) and should be (2500, 9).\n"
     ]
    }
   ],
   "source": [
    "x_train_test, y_train_test, x_val_test, y_val_test = make_train_val_split(x_int_test, y_int_test)\n",
    "\n",
    "print(f'The training samples shape is: {x_train_test.shape} and should be (22500, 9).')\n",
    "print(f'The training labels shape is: {y_train_test.shape} and should be (22500, 9).')\n",
    "print(f'The validation samples shape is: {x_val_test.shape} and should be (2500, 9).')\n",
    "print(f'The validation labels shape is: {y_val_test.shape} and should be (2500, 9).')"
   ]
  },
  {
   "cell_type": "markdown",
   "metadata": {},
   "source": [
    "### 1f. Create addition dataset prompts and expected output\n",
    "\n",
    "After training the transformer on expressions such as `'1+1=2.####'`, you will prompt it with `1+1=` and we expect it to generate `'2.'` (the `'.'` indicates it is done generating text). Let's write the `split_sum_and_answer` function to automate the process of generating the prompts and expected outputs for samples in either the train or validation sets."
   ]
  },
  {
   "cell_type": "code",
   "execution_count": 26,
   "metadata": {},
   "outputs": [
    {
     "name": "stdout",
     "output_type": "stream",
     "text": [
      "First five training prompts and answers:\n",
      "prompt: 47+51= | answer: 98.\n",
      "prompt: 75+95= | answer: 170\n",
      "prompt: 3+14= | answer: 17.#\n",
      "prompt: 82+94= | answer: 176\n",
      "prompt: 24+31= | answer: 55.\n"
     ]
    }
   ],
   "source": [
    "lhs_lists, ans_lists = split_sum_and_answer(x_str_test)\n",
    "\n",
    "print('First five training prompts and answers:')\n",
    "for i in range(5):\n",
    "    print(f'prompt: {lhs_lists[i]} | answer: {ans_lists[i]}')"
   ]
  },
  {
   "cell_type": "markdown",
   "metadata": {},
   "source": [
    "The above cell should output:\n",
    "\n",
    "```\n",
    "First five training prompts and answers:\n",
    "prompt: 47+51= | answer: 98.\n",
    "prompt: 75+95= | answer: 170\n",
    "prompt: 3+14= | answer: 17.#\n",
    "prompt: 82+94= | answer: 176\n",
    "prompt: 24+31= | answer: 55.\n",
    "```"
   ]
  },
  {
   "cell_type": "markdown",
   "metadata": {},
   "source": [
    "### 1g. Automate addition dataset preprocessing\n",
    "\n",
    "Call the functions that you wrote to get and preprocess the addition dataset all in one function called `get_addition_dataset`."
   ]
  },
  {
   "cell_type": "code",
   "execution_count": 27,
   "metadata": {},
   "outputs": [
    {
     "name": "stdout",
     "output_type": "stream",
     "text": [
      "First 5/100 expressions:\n",
      "  ['4', '7', '+', '5', '1', '=', '9', '8', '.', '#']\n",
      "  ['7', '5', '+', '9', '5', '=', '1', '7', '0', '.']\n",
      "  ['3', '+', '1', '4', '=', '1', '7', '.', '#', '#']\n",
      "  ['8', '2', '+', '9', '4', '=', '1', '7', '6', '.']\n",
      "  ['2', '4', '+', '3', '1', '=', '5', '5', '.', '#']\n",
      "The shape of your training samples is (90, 9) and it should be (90, 9).\n",
      "The shape of your training labels is (90, 9) and it should be (90, 9).\n",
      "The shape of your val samples is (10, 9) and it should be (10, 9).\n",
      "The shape of your val labels is (10, 9) and it should be (10, 9).\n"
     ]
    }
   ],
   "source": [
    "x_train_test, y_train_test, x_val_test, y_val_test, char2ind_map_test = get_addition_dataset(N=100)\n",
    "print(f'The shape of your training samples is {x_train_test.shape} and it should be (90, 9).')\n",
    "print(f'The shape of your training labels is {y_train_test.shape} and it should be (90, 9).')\n",
    "print(f'The shape of your val samples is {x_val_test.shape} and it should be (10, 9).')\n",
    "print(f'The shape of your val labels is {y_val_test.shape} and it should be (10, 9).')\n",
    "\n",
    "# We need int coded everything! i.e. tf.int32s\n",
    "assert x_train_test.dtype == tf.int32\n",
    "assert y_train_test.dtype == tf.int32\n",
    "assert x_val_test.dtype == tf.int32\n",
    "assert y_val_test.dtype == tf.int32"
   ]
  },
  {
   "cell_type": "markdown",
   "metadata": {},
   "source": [
    "## Task 2. Transformer Embedding layer\n",
    "\n",
    "With the addition dataset ready, let's start implementing the transformer!\n",
    "\n",
    "As with CBOW, we use an embedding layer to allow us to select the \"y weights\" that have indices equal to those in our current mini-batch of ints (*e.g. the int-coded addition expressions*). There are two slight changes in the transformer embedding layer compared to the `DenseEmbedding` we used in CBOW:\n",
    "1. We will \"turn off\"/disable the bias.\n",
    "2. We do not need the special casing in `compute_net_input` to handle the lazy initialization. Simply initialize the weights from within the constructor because we know both the number of input features and the number of units in the layer when building the layer (i.e. there is no lazy initialization in this layer).\n",
    "\n"
   ]
  },
  {
   "cell_type": "code",
   "execution_count": 28,
   "metadata": {},
   "outputs": [],
   "source": [
    "from transformer_layers import Embedding"
   ]
  },
  {
   "cell_type": "markdown",
   "metadata": {},
   "source": [
    "### 2a. Copy over deeplib files\n",
    "\n",
    "Copy over your latest versions of `layers.py`, `block.py`, `network.py`, and `tf_util.py` from your previous project to your current working directory."
   ]
  },
  {
   "cell_type": "markdown",
   "metadata": {},
   "source": [
    "### 2b. Implement `Embedding` layer\n",
    "\n",
    "The `Embedding` class is located in `transformer_layers.py`."
   ]
  },
  {
   "cell_type": "markdown",
   "metadata": {},
   "source": [
    "#### Test: Constructor and weights"
   ]
  },
  {
   "cell_type": "code",
   "execution_count": 29,
   "metadata": {},
   "outputs": [
    {
     "name": "stdout",
     "output_type": "stream",
     "text": [
      "Your weights are:\n",
      "[[ 0.8724  0.2442 -0.2423]\n",
      " [-0.5982 -0.7141  0.2715]\n",
      " [-0.0081  0.6864  0.3479]\n",
      " [ 0.3462 -0.4074 -0.25  ]\n",
      " [ 0.4582 -0.4027 -0.5542]]\n",
      "and should be:\n",
      "[[ 0.8724  0.2442 -0.2423]\n",
      " [-0.5982 -0.7141  0.2715]\n",
      " [-0.0081  0.6864  0.3479]\n",
      " [ 0.3462 -0.4074 -0.25  ]\n",
      " [ 0.4582 -0.4027 -0.5542]]\n"
     ]
    }
   ],
   "source": [
    "tf.random.set_seed(0)\n",
    "emb = Embedding('EmbeddingLayer', input_dim=5, embed_dim=3)\n",
    "print('Your weights are:')\n",
    "print(emb.get_wts().numpy())\n",
    "print('and should be:')\n",
    "print('''[[ 0.8724  0.2442 -0.2423]\n",
    " [-0.5982 -0.7141  0.2715]\n",
    " [-0.0081  0.6864  0.3479]\n",
    " [ 0.3462 -0.4074 -0.25  ]\n",
    " [ 0.4582 -0.4027 -0.5542]]''')\n"
   ]
  },
  {
   "cell_type": "markdown",
   "metadata": {},
   "source": [
    "#### Test: Layer summary and netAct shapes"
   ]
  },
  {
   "cell_type": "code",
<<<<<<< Updated upstream
   "execution_count": 30,
   "metadata": {},
   "outputs": [
    {
     "name": "stdout",
     "output_type": "stream",
     "text": [
      "Embedding layer summary:\n",
      "Embedding layer output(EmbeddingLayer) shape: [3, 2, 3]\n",
      "it should be:\n",
      "Embedding layer output(EmbeddingLayer) shape: [3, 2, 3]\n"
=======
   "execution_count": 75,
   "metadata": {},
   "outputs": [
    {
     "ename": "TypeError",
     "evalue": "Input must be either real or complex. Received integer type <dtype: 'int32'>.",
     "output_type": "error",
     "traceback": [
      "\u001b[0;31m---------------------------------------------------------------------------\u001b[0m",
      "\u001b[0;31mTypeError\u001b[0m                                 Traceback (most recent call last)",
      "Cell \u001b[0;32mIn[75], line 2\u001b[0m\n\u001b[1;32m      1\u001b[0m test_minibatch \u001b[38;5;241m=\u001b[39m tf\u001b[38;5;241m.\u001b[39mVariable([[\u001b[38;5;241m1\u001b[39m, \u001b[38;5;241m2\u001b[39m], [\u001b[38;5;241m0\u001b[39m, \u001b[38;5;241m2\u001b[39m], [\u001b[38;5;241m3\u001b[39m, \u001b[38;5;241m4\u001b[39m]], dtype\u001b[38;5;241m=\u001b[39mtf\u001b[38;5;241m.\u001b[39mint32)\n\u001b[0;32m----> 2\u001b[0m \u001b[43memb\u001b[49m\u001b[43m(\u001b[49m\u001b[43mtest_minibatch\u001b[49m\u001b[43m)\u001b[49m\n\u001b[1;32m      3\u001b[0m \u001b[38;5;28mprint\u001b[39m(\u001b[38;5;124m'\u001b[39m\u001b[38;5;124mEmbedding layer summary:\u001b[39m\u001b[38;5;124m'\u001b[39m)\n\u001b[1;32m      4\u001b[0m \u001b[38;5;28mprint\u001b[39m(emb)\n",
      "File \u001b[0;32m~/Documents/GitHub/Transformers/layers.py:198\u001b[0m, in \u001b[0;36mLayer.__call__\u001b[0;34m(self, x)\u001b[0m\n\u001b[1;32m    196\u001b[0m     \u001b[38;5;28;01mif\u001b[39;00m \u001b[38;5;28mself\u001b[39m\u001b[38;5;241m.\u001b[39mln_gain \u001b[38;5;129;01mis\u001b[39;00m \u001b[38;5;28;01mNone\u001b[39;00m \u001b[38;5;129;01mor\u001b[39;00m \u001b[38;5;28mself\u001b[39m\u001b[38;5;241m.\u001b[39mln_bias \u001b[38;5;129;01mis\u001b[39;00m \u001b[38;5;28;01mNone\u001b[39;00m:\n\u001b[1;32m    197\u001b[0m         \u001b[38;5;28mself\u001b[39m\u001b[38;5;241m.\u001b[39minit_layernorm_params(x)\n\u001b[0;32m--> 198\u001b[0m     x \u001b[38;5;241m=\u001b[39m \u001b[38;5;28;43mself\u001b[39;49m\u001b[38;5;241;43m.\u001b[39;49m\u001b[43mcompute_layer_norm\u001b[49m\u001b[43m(\u001b[49m\u001b[43mx\u001b[49m\u001b[43m)\u001b[49m\n\u001b[1;32m    200\u001b[0m net_in \u001b[38;5;241m=\u001b[39m \u001b[38;5;28mself\u001b[39m\u001b[38;5;241m.\u001b[39mcompute_net_input(x)\n\u001b[1;32m    201\u001b[0m \u001b[38;5;28;01mif\u001b[39;00m \u001b[38;5;28mself\u001b[39m\u001b[38;5;241m.\u001b[39mdo_batch_norm \u001b[38;5;129;01mand\u001b[39;00m \u001b[38;5;28mself\u001b[39m\u001b[38;5;241m.\u001b[39mbn_mean \u001b[38;5;129;01mis\u001b[39;00m \u001b[38;5;129;01mnot\u001b[39;00m \u001b[38;5;28;01mNone\u001b[39;00m:\n",
      "File \u001b[0;32m~/Documents/GitHub/Transformers/layers.py:370\u001b[0m, in \u001b[0;36mLayer.compute_layer_norm\u001b[0;34m(self, x, eps)\u001b[0m\n\u001b[1;32m    351\u001b[0m \u001b[38;5;250m\u001b[39m\u001b[38;5;124;03m'''Computes layer normalization for the input tensor. Layer normalization normalizes the activations of the\u001b[39;00m\n\u001b[1;32m    352\u001b[0m \u001b[38;5;124;03mneurons in a layer for each data point independently, rather than across the batch.\u001b[39;00m\n\u001b[1;32m    353\u001b[0m \n\u001b[0;32m   (...)\u001b[0m\n\u001b[1;32m    366\u001b[0m \u001b[38;5;124;03m    The normalized tensor with the same shape as the input tensor.\u001b[39;00m\n\u001b[1;32m    367\u001b[0m \u001b[38;5;124;03m'''\u001b[39;00m\n\u001b[1;32m    369\u001b[0m layer_mean \u001b[38;5;241m=\u001b[39m tf\u001b[38;5;241m.\u001b[39mreduce_mean(x, axis\u001b[38;5;241m=\u001b[39m\u001b[38;5;241m-\u001b[39m\u001b[38;5;241m1\u001b[39m, keepdims\u001b[38;5;241m=\u001b[39m\u001b[38;5;28;01mTrue\u001b[39;00m)\n\u001b[0;32m--> 370\u001b[0m layer_stdev \u001b[38;5;241m=\u001b[39m \u001b[43mtf\u001b[49m\u001b[38;5;241;43m.\u001b[39;49m\u001b[43mmath\u001b[49m\u001b[38;5;241;43m.\u001b[39;49m\u001b[43mreduce_std\u001b[49m\u001b[43m(\u001b[49m\u001b[43mx\u001b[49m\u001b[43m,\u001b[49m\u001b[43m \u001b[49m\u001b[43maxis\u001b[49m\u001b[38;5;241;43m=\u001b[39;49m\u001b[38;5;241;43m-\u001b[39;49m\u001b[38;5;241;43m1\u001b[39;49m\u001b[43m,\u001b[49m\u001b[43m \u001b[49m\u001b[43mkeepdims\u001b[49m\u001b[38;5;241;43m=\u001b[39;49m\u001b[38;5;28;43;01mTrue\u001b[39;49;00m\u001b[43m)\u001b[49m\n\u001b[1;32m    371\u001b[0m normalized \u001b[38;5;241m=\u001b[39m (x \u001b[38;5;241m-\u001b[39m layer_mean) \u001b[38;5;241m/\u001b[39m (layer_stdev \u001b[38;5;241m+\u001b[39m eps)\n\u001b[1;32m    373\u001b[0m \u001b[38;5;28;01mreturn\u001b[39;00m \u001b[38;5;28mself\u001b[39m\u001b[38;5;241m.\u001b[39mln_gain \u001b[38;5;241m*\u001b[39m normalized \u001b[38;5;241m+\u001b[39m \u001b[38;5;28mself\u001b[39m\u001b[38;5;241m.\u001b[39mln_bias\n",
      "File \u001b[0;32m~/opt/anaconda3/envs/cs444/lib/python3.10/site-packages/tensorflow/python/util/traceback_utils.py:153\u001b[0m, in \u001b[0;36mfilter_traceback.<locals>.error_handler\u001b[0;34m(*args, **kwargs)\u001b[0m\n\u001b[1;32m    151\u001b[0m \u001b[38;5;28;01mexcept\u001b[39;00m \u001b[38;5;167;01mException\u001b[39;00m \u001b[38;5;28;01mas\u001b[39;00m e:\n\u001b[1;32m    152\u001b[0m   filtered_tb \u001b[38;5;241m=\u001b[39m _process_traceback_frames(e\u001b[38;5;241m.\u001b[39m__traceback__)\n\u001b[0;32m--> 153\u001b[0m   \u001b[38;5;28;01mraise\u001b[39;00m e\u001b[38;5;241m.\u001b[39mwith_traceback(filtered_tb) \u001b[38;5;28;01mfrom\u001b[39;00m\u001b[38;5;250m \u001b[39m\u001b[38;5;28;01mNone\u001b[39;00m\n\u001b[1;32m    154\u001b[0m \u001b[38;5;28;01mfinally\u001b[39;00m:\n\u001b[1;32m    155\u001b[0m   \u001b[38;5;28;01mdel\u001b[39;00m filtered_tb\n",
      "File \u001b[0;32m~/opt/anaconda3/envs/cs444/lib/python3.10/site-packages/tensorflow/python/ops/math_ops.py:2746\u001b[0m, in \u001b[0;36mreduce_variance\u001b[0;34m(input_tensor, axis, keepdims, name)\u001b[0m\n\u001b[1;32m   2744\u001b[0m means \u001b[38;5;241m=\u001b[39m reduce_mean(input_tensor, axis\u001b[38;5;241m=\u001b[39maxis, keepdims\u001b[38;5;241m=\u001b[39m\u001b[38;5;28;01mTrue\u001b[39;00m)\n\u001b[1;32m   2745\u001b[0m \u001b[38;5;28;01mif\u001b[39;00m means\u001b[38;5;241m.\u001b[39mdtype\u001b[38;5;241m.\u001b[39mis_integer:\n\u001b[0;32m-> 2746\u001b[0m   \u001b[38;5;28;01mraise\u001b[39;00m \u001b[38;5;167;01mTypeError\u001b[39;00m(\u001b[38;5;124mf\u001b[39m\u001b[38;5;124m\"\u001b[39m\u001b[38;5;124mInput must be either real or complex. \u001b[39m\u001b[38;5;124m\"\u001b[39m\n\u001b[1;32m   2747\u001b[0m                   \u001b[38;5;124mf\u001b[39m\u001b[38;5;124m\"\u001b[39m\u001b[38;5;124mReceived integer type \u001b[39m\u001b[38;5;132;01m{\u001b[39;00mmeans\u001b[38;5;241m.\u001b[39mdtype\u001b[38;5;132;01m}\u001b[39;00m\u001b[38;5;124m.\u001b[39m\u001b[38;5;124m\"\u001b[39m)\n\u001b[1;32m   2748\u001b[0m diff \u001b[38;5;241m=\u001b[39m input_tensor \u001b[38;5;241m-\u001b[39m means\n\u001b[1;32m   2749\u001b[0m \u001b[38;5;28;01mif\u001b[39;00m diff\u001b[38;5;241m.\u001b[39mdtype\u001b[38;5;241m.\u001b[39mis_complex:\n\u001b[1;32m   2750\u001b[0m   \u001b[38;5;66;03m# For complex values we need to take the absolute value before squaring.\u001b[39;00m\n\u001b[1;32m   2751\u001b[0m   \u001b[38;5;66;03m# This is achieved by multiplying with the conjugate.\u001b[39;00m\n",
      "\u001b[0;31mTypeError\u001b[0m: Input must be either real or complex. Received integer type <dtype: 'int32'>."
>>>>>>> Stashed changes
     ]
    }
   ],
   "source": [
    "test_minibatch = tf.Variable([[1, 2], [0, 2], [3, 4]], dtype=tf.int32)\n",
    "emb(test_minibatch)\n",
    "print('Embedding layer summary:')\n",
    "print(emb)\n",
    "print('it should be:')\n",
    "print('Embedding layer output(EmbeddingLayer) shape: [3, 2, 3]')"
   ]
  },
  {
   "cell_type": "markdown",
   "metadata": {},
   "source": [
    "#### Test: Activation values"
   ]
  },
  {
   "cell_type": "code",
   "execution_count": 31,
   "metadata": {},
   "outputs": [
    {
     "name": "stdout",
     "output_type": "stream",
     "text": [
      "For the test mini-batch, the netActs are:\n",
      "[[[-0.5982 -0.7141  0.2715]\n",
      "  [-0.0081  0.6864  0.3479]]\n",
      "\n",
      " [[ 0.8724  0.2442 -0.2423]\n",
      "  [-0.0081  0.6864  0.3479]]\n",
      "\n",
      " [[ 0.3462 -0.4074 -0.25  ]\n",
      "  [ 0.4582 -0.4027 -0.5542]]]\n",
      "and they should be:\n",
      "[[[-0.5982 -0.7141  0.2715]\n",
      "  [-0.0081  0.6864  0.3479]]\n",
      "\n",
      " [[ 0.8724  0.2442 -0.2423]\n",
      "  [-0.0081  0.6864  0.3479]]\n",
      "\n",
      " [[ 0.3462 -0.4074 -0.25  ]\n",
      "  [ 0.4582 -0.4027 -0.5542]]]\n"
     ]
    }
   ],
   "source": [
    "print('For the test mini-batch, the netActs are:')\n",
    "print(emb(test_minibatch).numpy())\n",
    "print('and they should be:')\n",
    "print('''[[[-0.5982 -0.7141  0.2715]\n",
    "  [-0.0081  0.6864  0.3479]]\n",
    "\n",
    " [[ 0.8724  0.2442 -0.2423]\n",
    "  [-0.0081  0.6864  0.3479]]\n",
    "\n",
    " [[ 0.3462 -0.4074 -0.25  ]\n",
    "  [ 0.4582 -0.4027 -0.5542]]]''')"
   ]
  },
  {
   "cell_type": "markdown",
   "metadata": {},
   "source": [
    "### 2c. Questions\n",
    "\n",
    "**Question 1:** In the above test code, use minimal jargon to explain what each of the three values in the netAct shape `[3, 2, 3]` mean **and** where they came from."
   ]
  },
  {
   "cell_type": "markdown",
   "metadata": {},
   "source": [
    "**Answer 1:** The netAct shape is (B,T,H), so B=3, T=2, and H=3. B represents the number of sequences (examples) in the mini-batch, T represents the number of characters (or tokens) in each sequence, and H represents the number of features (the hidden dimension) at each character/token position."
   ]
  },
  {
   "cell_type": "markdown",
   "metadata": {},
   "source": [
    "## Task 3. Implement the Transformer Block\n",
    "\n",
    "Analogous to Inception Net and ResNet, transformers contain a fundamental block called the Transformer Block that is copy-pasted many times sequentially in the network. Since there are fair number of layers within the Transformer Block, we will define several \"helper blocks\" or \"subblocks\" to help us make the organization more manageable. These helper blocks are:\n",
    "1. `QueryKeyValueBlock`: Handles the projection/embedding/mapping of the input signal into the three parallel `Dense` layers that learn the attention queries, keys, and values.\n",
    "2. `AttentionBlock`: Implements the attention mechanism (*involves a Dropout layer that operates on the attention values*).\n",
    "3. `MultiHeadAttentionBlock`: Organizes the sequential processing of input signals through the above two blocks as well as subsequent Dense and Dropout layers: `QueryKeyValueBlock` → `AttentionBlock` → `Dense` layer → `Dropout` layer.\n",
    "4. `MLPBlock`: Final stages of the transformer block. `Dense` layer → `Dense` layer → `Dropout` layer."
   ]
  },
  {
   "cell_type": "markdown",
   "metadata": {},
   "source": [
    "### 3a. Layer normalization\n",
    "\n",
    "Transformers replace batch normalization with **layer normalization**. Fortunately, layer normalization (\"layer norm\") is much simpler to implement than batch normalization because it does NOT require any special handling of training and non-training network state and there are no moving averages to manage! If we think of batch norm as the middle of the netIn and netAct \"sandwich\", layer norm shuffles the order and becomes the \"bottom bun\":\n",
    "\n",
    "Layer norm → netIn → netAct\n",
    "\n",
    "Make the following updates to `layer.py` to add support for layer normalization:\n",
    "\n",
    "1. `Layer` constructor: If you are not already, set the parameter `do_layer_norm` as an instance variable.\n",
    "2. Implement the `init_layernorm_params` method in `Layer` to initialize the parameters related to layer norm.\n",
    "3. Implement the `compute_layer_norm` method in `Layer` to compute the layer normalization on the input the layer receives from the previous layer/block.\n",
    "4. `Layer` `__call__` method: Add code to support Layer norm BEFORE computing net_in. If we are doing layer norm in the layer, call `compute_layer_norm` on the layer's input. Reassign `x` as the output of the layer norm computation. If the layer norm gain parameter is still `None` before computing the layer norm, call the `init_layernorm_params` method."
   ]
  },
  {
   "cell_type": "code",
   "execution_count": 32,
   "metadata": {},
   "outputs": [],
   "source": [
    "from layers import Dense"
   ]
  },
  {
   "cell_type": "markdown",
   "metadata": {},
   "source": [
    "#### Test: Layer normalization (2D input, linear activation)"
   ]
  },
  {
   "cell_type": "code",
   "execution_count": 33,
   "metadata": {},
   "outputs": [
    {
     "name": "stdout",
     "output_type": "stream",
     "text": [
      "Your netActs are:\n",
      "tf.Tensor(\n",
      "[[ 0.4998 -0.2505  1.0032 -1.4304]\n",
      " [ 0.5902 -0.1433  1.1012 -1.5475]], shape=(2, 4), dtype=float32)\n",
      "and should be:\n",
      "tf.Tensor(\n",
      "[[ 0.4998 -0.2505  1.0032 -1.4304]\n",
      " [ 0.5902 -0.1433  1.1012 -1.5475]], shape=(2, 4), dtype=float32)\n"
     ]
    }
   ],
   "source": [
    "tf.random.set_seed(0)\n",
    "x_test = tf.random.uniform(shape=(2, 3))\n",
    "test_dense = Dense('testDense', 4, activation='linear', wt_init='he', do_layer_norm=True)\n",
    "test_net_acts = test_dense(x_test)\n",
    "print('Your netActs are:')\n",
    "print(test_net_acts)\n",
    "print('and should be:')\n",
    "print('''tf.Tensor(\n",
    "[[ 0.4998 -0.2505  1.0032 -1.4304]\n",
    " [ 0.5902 -0.1433  1.1012 -1.5475]], shape=(2, 4), dtype=float32)''')"
   ]
  },
  {
   "cell_type": "markdown",
   "metadata": {},
   "source": [
    "#### Test: Layer normalization (2D input, ReLU activation)"
   ]
  },
  {
   "cell_type": "code",
   "execution_count": 34,
   "metadata": {},
   "outputs": [
    {
     "name": "stdout",
     "output_type": "stream",
     "text": [
      "Your netActs are:\n",
      "tf.Tensor(\n",
      "[[0.4429 1.035  0.    ]\n",
      " [1.2696 0.5866 0.8557]\n",
      " [0.     0.     2.2657]\n",
      " [0.     0.     2.0688]], shape=(4, 3), dtype=float32)\n",
      "and should be:\n",
      "tf.Tensor(\n",
      "[[0.4429 1.035  0.    ]\n",
      " [1.2696 0.5866 0.8557]\n",
      " [0.     0.     2.2657]\n",
      " [0.     0.     2.0688]], shape=(4, 3), dtype=float32)\n"
     ]
    }
   ],
   "source": [
    "tf.random.set_seed(1)\n",
    "x_test = tf.random.uniform(shape=(4, 7))\n",
    "test_dense = Dense('testDense', 3, activation='relu', wt_init='he', do_layer_norm=True)\n",
    "test_net_acts = test_dense(x_test)\n",
    "print('Your netActs are:')\n",
    "print(test_net_acts)\n",
    "print('and should be:')\n",
    "print('''tf.Tensor(\n",
    "[[0.4429 1.035  0.    ]\n",
    " [1.2696 0.5866 0.8557]\n",
    " [0.     0.     2.2657]\n",
    " [0.     0.     2.0688]], shape=(4, 3), dtype=float32)''')"
   ]
  },
  {
   "cell_type": "markdown",
   "metadata": {},
   "source": [
    "#### Test: Layer normalization (3D input, linear activation)\n",
    "\n",
    "3D input to a Dense layer seems odd, but this will happen due to the presence of the sequences."
   ]
  },
  {
   "cell_type": "code",
   "execution_count": 35,
   "metadata": {},
   "outputs": [
    {
     "name": "stdout",
     "output_type": "stream",
     "text": [
      "Your netActs are:\n",
      "tf.Tensor(\n",
      "[[[ 0.5571  1.7315  1.3083 -0.7988 -1.6684]\n",
      "  [ 0.5577  0.2769  1.8077  0.0518 -0.9832]\n",
      "  [-0.228  -2.0974 -0.0605  1.1388  1.3377]\n",
      "  [ 0.5715  1.6396  1.3886 -0.7396 -1.647 ]]\n",
      "\n",
      " [[-0.5426 -0.1613 -1.7958 -0.1136  0.9057]\n",
      "  [-0.1164  1.5696 -0.9337 -0.9621 -0.5623]\n",
      "  [-0.1331 -2.0135  0.2345  1.1261  1.1531]\n",
      "  [ 0.5502  1.7635  1.2736 -0.8201 -1.6728]]], shape=(2, 4, 5), dtype=float32)\n",
      "and should be:\n",
      "tf.Tensor(\n",
      "[[[ 0.5571  1.7315  1.3083 -0.7988 -1.6684]\n",
      "  [ 0.5577  0.2769  1.8077  0.0518 -0.9832]\n",
      "  [-0.228  -2.0974 -0.0605  1.1388  1.3377]\n",
      "  [ 0.5715  1.6396  1.3886 -0.7396 -1.647 ]]\n",
      "\n",
      " [[-0.5426 -0.1613 -1.7958 -0.1136  0.9057]\n",
      "  [-0.1164  1.5696 -0.9337 -0.9621 -0.5623]\n",
      "  [-0.1331 -2.0135  0.2345  1.1261  1.1531]\n",
      "  [ 0.5502  1.7635  1.2736 -0.8201 -1.6728]]], shape=(2, 4, 5), dtype=float32)\n"
     ]
    }
   ],
   "source": [
    "tf.random.set_seed(2)\n",
    "x_test = tf.random.uniform(shape=(2, 4, 3))\n",
    "test_dense = Dense('testDense', 5, activation='linear', wt_init='he', do_layer_norm=True)\n",
    "test_net_acts = test_dense(x_test)\n",
    "print('Your netActs are:')\n",
    "print(test_net_acts)\n",
    "print('and should be:')\n",
    "print('''tf.Tensor(\n",
    "[[[ 0.5571  1.7315  1.3083 -0.7988 -1.6684]\n",
    "  [ 0.5577  0.2769  1.8077  0.0518 -0.9832]\n",
    "  [-0.228  -2.0974 -0.0605  1.1388  1.3377]\n",
    "  [ 0.5715  1.6396  1.3886 -0.7396 -1.647 ]]\n",
    "\n",
    " [[-0.5426 -0.1613 -1.7958 -0.1136  0.9057]\n",
    "  [-0.1164  1.5696 -0.9337 -0.9621 -0.5623]\n",
    "  [-0.1331 -2.0135  0.2345  1.1261  1.1531]\n",
    "  [ 0.5502  1.7635  1.2736 -0.8201 -1.6728]]], shape=(2, 4, 5), dtype=float32)''')"
   ]
  },
  {
   "cell_type": "markdown",
   "metadata": {},
   "source": [
    "### 3b. Implement `QueryKeyValueBlock`\n",
    "\n",
    "The class for this block is in `transformer_blocks.py`. This block handles the projection/embedding/mapping of the input signal into the three parallel `Dense` layers that learn the attention queries, keys, and values. It projects the input signal from `H_embed` in the `Embedding` layer to `H_qkv` units in each of the queries, keys, and values `Dense` layers."
   ]
  },
  {
   "cell_type": "code",
   "execution_count": 36,
   "metadata": {},
   "outputs": [],
   "source": [
    "from transformer_blocks import QueryKeyValueBlock"
   ]
  },
  {
   "cell_type": "markdown",
   "metadata": {},
   "source": [
    "#### Test: `QueryKeyValueBlock`"
   ]
  },
  {
   "cell_type": "code",
   "execution_count": 37,
   "metadata": {},
   "outputs": [
    {
     "name": "stdout",
     "output_type": "stream",
     "text": [
      "Your queries shape=(2, 4, 3) and should be (2, 4, 3)\n",
      "Your keys shape=(2, 4, 3) and should be (2, 4, 3)\n",
      "Your values shape=(2, 4, 3) and should be (2, 4, 3)\n",
      "Your queries for 1st sample:\n",
      "[[-0.1059  0.0967  0.9469]\n",
      " [ 0.565  -0.3605 -0.0556]\n",
      " [-2.3749  0.6514 -1.7692]\n",
      " [-2.7052  1.3316  0.6261]]\n",
      "and they should be:\n",
      "[[-0.1059  0.0967  0.9469]\n",
      " [ 0.565  -0.3605 -0.0556]\n",
      " [-2.3749  0.6514 -1.7692]\n",
      " [-2.7052  1.3316  0.6261]]\n",
      "Your keys for 2nd sample:\n",
      "[[ 1.8961  1.0138  0.2909]\n",
      " [ 1.1773  1.6024 -0.6112]\n",
      " [ 0.8273  2.0583  0.5604]\n",
      " [-0.6342 -0.1947 -0.1052]]\n",
      "and they should be:\n",
      "[[ 1.8961  1.0138  0.2909]\n",
      " [ 1.1773  1.6024 -0.6112]\n",
      " [ 0.8273  2.0583  0.5604]\n",
      " [-0.6342 -0.1947 -0.1052]]\n"
     ]
    }
   ],
   "source": [
    "tf.random.set_seed(0)\n",
    "x_q = tf.random.uniform(shape=(2, 4, 7))\n",
    "x_k = tf.random.uniform(shape=(2, 4, 7))\n",
    "x_v = tf.random.uniform(shape=(2, 4, 7))\n",
    "qkv = QueryKeyValueBlock('test', units=3, prev_layer_or_block=None)\n",
    "act_q, act_k, act_v = qkv(x_q, x_k, x_v)\n",
    "print(f'Your queries shape={act_q.shape} and should be (2, 4, 3)')\n",
    "print(f'Your keys shape={act_k.shape} and should be (2, 4, 3)')\n",
    "print(f'Your values shape={act_v.shape} and should be (2, 4, 3)')\n",
    "print(f'Your queries for 1st sample:')\n",
    "print(act_q[0].numpy())\n",
    "print('and they should be:')\n",
    "print('''[[-0.1059  0.0967  0.9469]\n",
    " [ 0.565  -0.3605 -0.0556]\n",
    " [-2.3749  0.6514 -1.7692]\n",
    " [-2.7052  1.3316  0.6261]]''')\n",
    "print(f'Your keys for 2nd sample:')\n",
    "print(act_k[1].numpy())\n",
    "print('and they should be:')\n",
    "print('''[[ 1.8961  1.0138  0.2909]\n",
    " [ 1.1773  1.6024 -0.6112]\n",
    " [ 0.8273  2.0583  0.5604]\n",
    " [-0.6342 -0.1947 -0.1052]]''')"
   ]
  },
  {
   "cell_type": "code",
   "execution_count": 38,
   "metadata": {},
   "outputs": [
    {
     "name": "stdout",
     "output_type": "stream",
     "text": [
      "Your values for 1st sample:\n",
      "[[ 2.8008 -0.1346  0.6618]\n",
      " [-1.1517  0.3497 -0.1807]\n",
      " [ 2.8561 -0.2845  2.1165]\n",
      " [-1.9511  1.0497 -0.966 ]]\n",
      "and they should be:\n",
      "[[ 2.8008 -0.1346  0.6618]\n",
      " [-1.1517  0.3497 -0.1807]\n",
      " [ 2.8561 -0.2845  2.1165]\n",
      " [-1.9511  1.0497 -0.966 ]]\n"
     ]
    }
   ],
   "source": [
    "print(f'Your values for 1st sample:')\n",
    "print(act_v[0].numpy())\n",
    "print('and they should be:')\n",
    "print('''[[ 2.8008 -0.1346  0.6618]\n",
    " [-1.1517  0.3497 -0.1807]\n",
    " [ 2.8561 -0.2845  2.1165]\n",
    " [-1.9511  1.0497 -0.966 ]]''')"
   ]
  },
  {
   "cell_type": "markdown",
   "metadata": {},
   "source": [
    "### 3c. Implement Multi-headed attention layer\n",
    "\n",
    "Multi-headed attention is a hybrid between a \"layer\" and a \"block\". It would be a layer, except it has a Dropout layer built into its core operations, which makes it more like a block. In this project, we treat it as a `Block` because it technically has the Dropout layer inside it. Implement multi-headed attention in `AttentionBlock` and test your implementation below.\n",
    "\n",
    "#### Attention equations\n",
    "\n",
    "After some reformatting, the 1st stage of attention ($A_1$) is computed as:\n",
    "\n",
    "$$\n",
    "A_1 = \\frac{QK^T}{g_A}\n",
    "$$\n",
    "\n",
    "where $Q$ are the queries, $K$ are the keys, and $g_A$ is the attention gain. $A$ has shape `(N, A, T, T)`, where `A` is the number of attention heads and `T` is the sequence length. $Q$ has shape `(N, A, T, H_qkv/A)` and $K^T$ has shape `(N, A, H_qkv/A, T)`, where `H_qkv` is the number of number of units in the query, key, and value `Dense` layers in the `QueryKeyValueBlock` block. The attention gain is:\n",
    "\n",
    "$$\n",
    "g_A = 1/\\sqrt{H_{qkv}/A}\n",
    "$$\n",
    "\n",
    "Next:\n",
    "- After applying the causal mask to $A_1$ to get $A_2$, we apply the softmax: $A_3 = \\text{softmax}(A_2)$.\n",
    "- We apply dropout to the attention values to obtain $A_4$.\n",
    "- Finally, we compute the attention output:\n",
    "\n",
    "$$\n",
    "A_5 = A_4V\n",
    "$$\n",
    "\n",
    "where $V$ are the values (shape: `(N, A, T, H_qkv/A)`)"
   ]
  },
  {
   "cell_type": "code",
   "execution_count": 39,
   "metadata": {},
   "outputs": [],
   "source": [
    "from transformer_blocks import AttentionBlock"
   ]
  },
  {
   "cell_type": "markdown",
   "metadata": {},
   "source": [
    "#### Test: `AttentionBlock` (no causal mask, no dropout) "
   ]
  },
  {
   "cell_type": "code",
   "execution_count": 40,
   "metadata": {},
   "outputs": [
    {
     "name": "stdout",
     "output_type": "stream",
     "text": [
      "Your attention output is:\n",
      "tf.Tensor(\n",
      "[[[0.3637 0.7639 0.472  0.5611 0.687  0.1123 0.5028 0.5486]\n",
      "  [0.3632 0.767  0.457  0.5766 0.6813 0.1139 0.5032 0.5514]\n",
      "  [0.365  0.765  0.4721 0.5543 0.6693 0.1033 0.502  0.551 ]]\n",
      "\n",
      " [[0.5859 0.2788 0.6017 0.7209 0.6321 0.4318 0.6108 0.7472]\n",
      "  [0.5928 0.3031 0.6216 0.7441 0.6174 0.4281 0.6139 0.7434]\n",
      "  [0.5788 0.3034 0.6145 0.7363 0.5735 0.4389 0.607  0.7457]]], shape=(2, 3, 8), dtype=float32)\n",
      "and it should be:\n",
      "tf.Tensor(\n",
      "[[[0.3637 0.7639 0.472  0.5611 0.687  0.1123 0.5028 0.5486]\n",
      "  [0.3632 0.767  0.457  0.5766 0.6813 0.1139 0.5032 0.5514]\n",
      "  [0.365  0.765  0.4721 0.5543 0.6693 0.1033 0.502  0.551 ]]\n",
      "\n",
      " [[0.5859 0.2788 0.6017 0.7209 0.6321 0.4318 0.6108 0.7472]\n",
      "  [0.5928 0.3031 0.6216 0.7441 0.6174 0.4281 0.6139 0.7434]\n",
      "  [0.5788 0.3034 0.6145 0.7363 0.5735 0.4389 0.607  0.7457]]], shape=(2, 3, 8), dtype=float32)\n"
     ]
    }
   ],
   "source": [
    "tf.random.set_seed(0)\n",
    "q = tf.random.uniform(shape=(2, 3, 8))\n",
    "k = tf.random.uniform(shape=(2, 3, 8))\n",
    "v = tf.random.uniform(shape=(2, 3, 8))\n",
    "\n",
    "aBlock = AttentionBlock('testAttnBlock', num_heads=4, units=8, dropout_rate=0., causal=False, prev_layer_or_block=None)\n",
    "attnOut = aBlock(q, k, v)\n",
    "print('Your attention output is:')\n",
    "print(attnOut)\n",
    "print('and it should be:')\n",
    "print('''tf.Tensor(\n",
    "[[[0.3637 0.7639 0.472  0.5611 0.687  0.1123 0.5028 0.5486]\n",
    "  [0.3632 0.767  0.457  0.5766 0.6813 0.1139 0.5032 0.5514]\n",
    "  [0.365  0.765  0.4721 0.5543 0.6693 0.1033 0.502  0.551 ]]\n",
    "\n",
    " [[0.5859 0.2788 0.6017 0.7209 0.6321 0.4318 0.6108 0.7472]\n",
    "  [0.5928 0.3031 0.6216 0.7441 0.6174 0.4281 0.6139 0.7434]\n",
    "  [0.5788 0.3034 0.6145 0.7363 0.5735 0.4389 0.607  0.7457]]], shape=(2, 3, 8), dtype=float32)''')"
   ]
  },
  {
   "cell_type": "markdown",
   "metadata": {},
   "source": [
    "#### Test: `AttentionBlock` (Causal mask, no dropout) "
   ]
  },
  {
   "cell_type": "code",
   "execution_count": 41,
   "metadata": {},
   "outputs": [
    {
     "name": "stdout",
     "output_type": "stream",
     "text": [
      "Your attention output is:\n",
      "tf.Tensor(\n",
      "[[[0.1952 0.7402 0.4878 0.8753 0.4071 0.0145 0.7095 0.3655]\n",
      "  [0.3854 0.8194 0.3147 0.7147 0.5393 0.0098 0.5311 0.4688]\n",
      "  [0.365  0.765  0.4721 0.5543 0.6693 0.1033 0.502  0.551 ]]\n",
      "\n",
      " [[0.1698 0.2402 0.9734 0.983  0.0376 0.4883 0.506  0.9527]\n",
      "  [0.5098 0.436  0.7985 0.9104 0.343  0.4935 0.6095 0.874 ]\n",
      "  [0.5788 0.3034 0.6145 0.7363 0.5735 0.4389 0.607  0.7457]]], shape=(2, 3, 8), dtype=float32)\n",
      "and it should be:\n",
      "tf.Tensor(\n",
      "[[[0.1952 0.7402 0.4878 0.8753 0.4071 0.0145 0.7095 0.3655]\n",
      "  [0.3854 0.8194 0.3147 0.7147 0.5393 0.0098 0.5311 0.4688]\n",
      "  [0.365  0.765  0.4721 0.5543 0.6693 0.1033 0.502  0.551 ]]\n",
      "\n",
      " [[0.1698 0.2402 0.9734 0.983  0.0376 0.4883 0.506  0.9527]\n",
      "  [0.5098 0.436  0.7985 0.9104 0.343  0.4935 0.6095 0.874 ]\n",
      "  [0.5788 0.3034 0.6145 0.7363 0.5735 0.4389 0.607  0.7457]]], shape=(2, 3, 8), dtype=float32)\n"
     ]
    }
   ],
   "source": [
    "tf.random.set_seed(0)\n",
    "q = tf.random.uniform(shape=(2, 3, 8))\n",
    "k = tf.random.uniform(shape=(2, 3, 8))\n",
    "v = tf.random.uniform(shape=(2, 3, 8))\n",
    "\n",
    "aBlock = AttentionBlock('testAttnBlock', num_heads=4, units=8, dropout_rate=0., causal=True, prev_layer_or_block=None)\n",
    "attnOut = aBlock(q, k, v)\n",
    "print('Your attention output is:')\n",
    "print(attnOut)\n",
    "print('and it should be:')\n",
    "print('''tf.Tensor(\n",
    "[[[0.1952 0.7402 0.4878 0.8753 0.4071 0.0145 0.7095 0.3655]\n",
    "  [0.3854 0.8194 0.3147 0.7147 0.5393 0.0098 0.5311 0.4688]\n",
    "  [0.365  0.765  0.4721 0.5543 0.6693 0.1033 0.502  0.551 ]]\n",
    "\n",
    " [[0.1698 0.2402 0.9734 0.983  0.0376 0.4883 0.506  0.9527]\n",
    "  [0.5098 0.436  0.7985 0.9104 0.343  0.4935 0.6095 0.874 ]\n",
    "  [0.5788 0.3034 0.6145 0.7363 0.5735 0.4389 0.607  0.7457]]], shape=(2, 3, 8), dtype=float32)''')"
   ]
  },
  {
   "cell_type": "markdown",
   "metadata": {},
   "source": [
    "#### Test 1/2: `AttentionBlock` (Causal mask, Dropout)\n",
    "\n",
    "Training mode"
   ]
  },
  {
   "cell_type": "code",
   "execution_count": 42,
   "metadata": {},
   "outputs": [
    {
     "name": "stdout",
     "output_type": "stream",
     "text": [
      "<tf.Variable 'Variable:0' shape=() dtype=bool, numpy=True>\n",
      "Your attention output is:\n",
      "tf.Tensor(\n",
      "[[[1.0366 0.7928 0.6434 0.     0.     0.    ]\n",
      "  [0.626  0.8372 0.629  0.4634 0.685  0.1583]]\n",
      "\n",
      " [[0.     0.     0.     0.     0.     0.    ]\n",
      "  [0.2705 0.059  0.6044 0.7146 0.5982 0.3584]]], shape=(2, 2, 6), dtype=float32)\n",
      "and it should be:\n",
      "tf.Tensor(\n",
      "[[[1.0366 0.7928 0.6434 0.     0.     0.    ]\n",
      "  [0.626  0.8372 0.629  0.4634 0.685  0.1583]]\n",
      "\n",
      " [[0.     0.     0.     0.     0.     0.    ]\n",
      "  [0.2705 0.059  0.6044 0.7146 0.5982 0.3584]]], shape=(2, 2, 6), dtype=float32)\n"
     ]
    }
   ],
   "source": [
    "tf.random.set_seed(1)\n",
    "q = tf.random.uniform(shape=(2, 2, 6))\n",
    "k = tf.random.uniform(shape=(2, 2, 6))\n",
    "v = tf.random.uniform(shape=(2, 2, 6))\n",
    "\n",
    "tf.random.set_seed(2)\n",
    "aBlock = AttentionBlock('testAttnBlock', num_heads=2, units=6, dropout_rate=0.2, causal=True, prev_layer_or_block=None)\n",
    "aBlock.set_mode(is_training=True)\n",
    "print(aBlock.dropout_layer.get_mode())\n",
    "attnOut = aBlock(q, k, v)\n",
    "print('Your attention output is:')\n",
    "print(attnOut)\n",
    "print('and it should be:')\n",
    "print('''tf.Tensor(\n",
    "[[[1.0366 0.7928 0.6434 0.     0.     0.    ]\n",
    "  [0.626  0.8372 0.629  0.4634 0.685  0.1583]]\n",
    "\n",
    " [[0.     0.     0.     0.     0.     0.    ]\n",
    "  [0.2705 0.059  0.6044 0.7146 0.5982 0.3584]]], shape=(2, 2, 6), dtype=float32)''')"
   ]
  },
  {
   "cell_type": "markdown",
   "metadata": {},
   "source": [
    "#### Test 2/2: `AttentionBlock` (Causal mask, Dropout)\n",
    "\n",
    "Predict mode"
   ]
  },
  {
   "cell_type": "code",
   "execution_count": 43,
   "metadata": {},
   "outputs": [
    {
     "name": "stdout",
     "output_type": "stream",
     "text": [
      "Your attention output is:\n",
      "tf.Tensor(\n",
      "[[[0.8293 0.6342 0.5147 0.3911 0.5809 0.0485]\n",
      "  [0.5008 0.6698 0.5032 0.3708 0.548  0.1266]]\n",
      "\n",
      " [[0.8486 0.9441 0.5264 0.3821 0.2798 0.0338]\n",
      "  [0.6398 0.5183 0.7462 0.5717 0.4785 0.2867]]], shape=(2, 2, 6), dtype=float32)\n",
      "and it should be:\n",
      "tf.Tensor(\n",
      "[[[0.8293 0.6342 0.5147 0.3911 0.5809 0.0485]\n",
      "  [0.5008 0.6698 0.5032 0.3708 0.548  0.1266]]\n",
      "\n",
      " [[0.8486 0.9441 0.5264 0.3821 0.2798 0.0338]\n",
      "  [0.6398 0.5183 0.7462 0.5717 0.4785 0.2867]]], shape=(2, 2, 6), dtype=float32)\n"
     ]
    }
   ],
   "source": [
    "aBlock.set_mode(is_training=False)\n",
    "attnOut = aBlock(q, k, v)\n",
    "print('Your attention output is:')\n",
    "print(attnOut)\n",
    "print('and it should be:')\n",
    "print('''tf.Tensor(\n",
    "[[[0.8293 0.6342 0.5147 0.3911 0.5809 0.0485]\n",
    "  [0.5008 0.6698 0.5032 0.3708 0.548  0.1266]]\n",
    "\n",
    " [[0.8486 0.9441 0.5264 0.3821 0.2798 0.0338]\n",
    "  [0.6398 0.5183 0.7462 0.5717 0.4785 0.2867]]], shape=(2, 2, 6), dtype=float32)''')"
   ]
  },
  {
   "cell_type": "markdown",
   "metadata": {},
   "source": [
    "### 3d. Implement `MultiHeadAttentionBlock`\n",
    "\n",
    "Whenever we apply multi-head attention, we tend to process the inputs with the same 4 layers:\n",
    "1. Project the input from the `Embedding` layer (or previous Transformer Block) into query, key, and value. Units goes from `H_embed` → `H_qkv`\n",
    "2. Apply multi-headed attention (*involves the awkward Dropout layer nested within*). Still have `H_qkv` neurons.\n",
    "3. We wish to go back to the original number of neurons (`H_embed`) so we have a `Dense` layer that maps neurons `H_qkv` → `H_embed`.\n",
    "4. We apply another `Dropout` layer.\n",
    "\n",
    "To help automate/bundle these steps, implement them within a repeatable block called `MultiHeadAttentionBlock`."
   ]
  },
  {
   "cell_type": "code",
   "execution_count": 44,
   "metadata": {},
   "outputs": [],
   "source": [
    "from transformer_blocks import MultiHeadAttentionBlock"
   ]
  },
  {
   "cell_type": "markdown",
   "metadata": {},
   "source": [
    "#### Test: `MultiHeadAttentionBlock` (No Dropout) "
   ]
  },
  {
   "cell_type": "code",
   "execution_count": 45,
   "metadata": {},
   "outputs": [
    {
     "name": "stdout",
     "output_type": "stream",
     "text": [
      "Your attention block output is:\n",
      "tf.Tensor(\n",
      "[[[-0.5709 -1.4398  0.6815  1.401   0.7574 -1.1723]\n",
      "  [-0.6402 -0.6875  0.6452  1.0173  0.4651 -1.6087]\n",
      "  [-0.7561 -0.5228  0.4209  0.6666  0.5477 -1.1205]]\n",
      "\n",
      " [[ 1.593  -1.5829  0.6069 -0.7066  0.6006  0.1112]\n",
      "  [ 0.6322  0.054   0.2551 -0.4053  0.1574 -0.1207]\n",
      "  [ 0.2254  0.7104  0.0982 -0.428  -0.073  -0.2994]]], shape=(2, 3, 6), dtype=float32)\n",
      "and it should be:\n",
      "tf.Tensor(\n",
      "[[[-0.5709 -1.4398  0.6815  1.401   0.7574 -1.1723]\n",
      "  [-0.6402 -0.6875  0.6452  1.0173  0.4651 -1.6087]\n",
      "  [-0.7561 -0.5228  0.4209  0.6666  0.5477 -1.1205]]\n",
      "\n",
      " [[ 1.593  -1.5829  0.6069 -0.7066  0.6006  0.1112]\n",
      "  [ 0.6322  0.054   0.2551 -0.4053  0.1574 -0.1207]\n",
      "  [ 0.2254  0.7104  0.0982 -0.428  -0.073  -0.2994]]], shape=(2, 3, 6), dtype=float32)\n"
     ]
    }
   ],
   "source": [
    "tf.random.set_seed(1)\n",
    "x_test = tf.random.uniform(shape=(2, 3, 5))\n",
    "\n",
    "tf.random.set_seed(2)\n",
    "mhaBlock = MultiHeadAttentionBlock('testMHABlock',\n",
    "                                   num_heads=2,\n",
    "                                   units=6,\n",
    "                                   dropout_rate=0.,\n",
    "                                   causal=True,\n",
    "                                   prev_layer_or_block=None)\n",
    "attnOut = mhaBlock(x_test)\n",
    "print('Your attention block output is:')\n",
    "print(attnOut)\n",
    "print('and it should be:')\n",
    "print('''tf.Tensor(\n",
    "[[[-0.5709 -1.4398  0.6815  1.401   0.7574 -1.1723]\n",
    "  [-0.6402 -0.6875  0.6452  1.0173  0.4651 -1.6087]\n",
    "  [-0.7561 -0.5228  0.4209  0.6666  0.5477 -1.1205]]\n",
    "\n",
    " [[ 1.593  -1.5829  0.6069 -0.7066  0.6006  0.1112]\n",
    "  [ 0.6322  0.054   0.2551 -0.4053  0.1574 -0.1207]\n",
    "  [ 0.2254  0.7104  0.0982 -0.428  -0.073  -0.2994]]], shape=(2, 3, 6), dtype=float32)''')"
   ]
  },
  {
   "cell_type": "markdown",
   "metadata": {},
   "source": [
    "#### Test 1/2: `MultiHeadAttentionBlock` (With Dropout)\n",
    "\n",
    "Training mode"
   ]
  },
  {
   "cell_type": "code",
   "execution_count": 46,
   "metadata": {},
   "outputs": [
    {
     "name": "stdout",
     "output_type": "stream",
     "text": [
      "Your attention block output is:\n",
      "tf.Tensor(\n",
      "[[[-0.      3.5339  0.     -0.0559  0.      0.    ]\n",
      "  [ 0.      0.      0.      0.      0.      0.    ]\n",
      "  [-2.4667  0.      0.5861 -0.      0.     -0.    ]]\n",
      "\n",
      " [[ 0.     -2.8067 -2.7201 -0.      2.6466  1.5454]\n",
      "  [-0.      0.     -0.     -0.      1.8928  1.4068]\n",
      "  [-1.6319  0.      0.8425 -1.1164  0.      0.    ]]], shape=(2, 3, 6), dtype=float32)\n",
      "and it should be:\n",
      "tf.Tensor(\n",
      "[[[-0.      3.5339  0.     -0.0559  0.      0.    ]\n",
      "  [ 0.      0.      0.      0.      0.      0.    ]\n",
      "  [-2.4667  0.      0.5861 -0.      0.     -0.    ]]\n",
      "\n",
      " [[ 0.     -2.8067 -2.7201 -0.      2.6466  1.5454]\n",
      "  [-0.      0.     -0.     -0.      1.8928  1.4068]\n",
      "  [-1.6319  0.      0.8425 -1.1164  0.      0.    ]]], shape=(2, 3, 6), dtype=float32)\n"
     ]
    }
   ],
   "source": [
    "tf.random.set_seed(1)\n",
    "x_test = tf.random.uniform(shape=(2, 3, 5))\n",
    "\n",
    "tf.random.set_seed(2)\n",
    "mhaBlock = MultiHeadAttentionBlock('testMHABlock',\n",
    "                                   num_heads=2,\n",
    "                                   units=6,\n",
    "                                   dropout_rate=0.5,\n",
    "                                   causal=True,\n",
    "                                   prev_layer_or_block=None)\n",
    "mhaBlock.set_mode(is_training=True)\n",
    "attnOut = mhaBlock(x_test)\n",
    "print('Your attention block output is:')\n",
    "print(attnOut)\n",
    "print('and it should be:')\n",
    "print('''tf.Tensor(\n",
    "[[[-0.      3.5339  0.     -0.0559  0.      0.    ]\n",
    "  [ 0.      0.      0.      0.      0.      0.    ]\n",
    "  [-2.4667  0.      0.5861 -0.      0.     -0.    ]]\n",
    "\n",
    " [[ 0.     -2.8067 -2.7201 -0.      2.6466  1.5454]\n",
    "  [-0.      0.     -0.     -0.      1.8928  1.4068]\n",
    "  [-1.6319  0.      0.8425 -1.1164  0.      0.    ]]], shape=(2, 3, 6), dtype=float32)''')"
   ]
  },
  {
   "cell_type": "markdown",
   "metadata": {},
   "source": [
    "#### Test 2/2: `MultiHeadAttentionBlock` (With Dropout)\n",
    "\n",
    "Predict mode"
   ]
  },
  {
   "cell_type": "code",
   "execution_count": 47,
   "metadata": {},
   "outputs": [
    {
     "name": "stdout",
     "output_type": "stream",
     "text": [
      "Your attention block output is:\n",
      "tf.Tensor(\n",
      "[[[-1.1534  1.123  -0.4634  0.4363 -0.8906 -0.2021]\n",
      "  [-1.5149  1.8546 -0.2039  0.1518 -0.7866 -0.1945]\n",
      "  [-1.1517  1.6016 -0.0353  0.1228 -0.5384 -0.245 ]]\n",
      "\n",
      " [[ 0.0518 -0.7017 -0.68   -0.2356  0.6617  0.3863]\n",
      "  [-0.2434  0.0704 -0.0387 -0.2261  0.4732  0.3517]\n",
      "  [-0.408   0.5133  0.2106 -0.2791  0.3466  0.3328]]], shape=(2, 3, 6), dtype=float32)\n",
      "and it should be:\n",
      "tf.Tensor(\n",
      "[[[-1.1534  1.123  -0.4634  0.4363 -0.8906 -0.2021]\n",
      "  [-1.5149  1.8546 -0.2039  0.1518 -0.7866 -0.1945]\n",
      "  [-1.1517  1.6016 -0.0353  0.1228 -0.5384 -0.245 ]]\n",
      "\n",
      " [[ 0.0518 -0.7017 -0.68   -0.2356  0.6617  0.3863]\n",
      "  [-0.2434  0.0704 -0.0387 -0.2261  0.4732  0.3517]\n",
      "  [-0.408   0.5133  0.2106 -0.2791  0.3466  0.3328]]], shape=(2, 3, 6), dtype=float32)\n"
     ]
    }
   ],
   "source": [
    "mhaBlock.set_mode(is_training=False)\n",
    "attnOut = mhaBlock(x_test)\n",
    "print('Your attention block output is:')\n",
    "print(attnOut)\n",
    "print('and it should be:')\n",
    "print('''tf.Tensor(\n",
    "[[[-1.1534  1.123  -0.4634  0.4363 -0.8906 -0.2021]\n",
    "  [-1.5149  1.8546 -0.2039  0.1518 -0.7866 -0.1945]\n",
    "  [-1.1517  1.6016 -0.0353  0.1228 -0.5384 -0.245 ]]\n",
    "\n",
    " [[ 0.0518 -0.7017 -0.68   -0.2356  0.6617  0.3863]\n",
    "  [-0.2434  0.0704 -0.0387 -0.2261  0.4732  0.3517]\n",
    "  [-0.408   0.5133  0.2106 -0.2791  0.3466  0.3328]]], shape=(2, 3, 6), dtype=float32)''')"
   ]
  },
  {
   "cell_type": "markdown",
   "metadata": {},
   "source": [
    "### 3e. Implement `MLPBlock`\n",
    "\n",
    "The last major component of the Transformer Block is a sub MLP block that occurs after the processing in the `MultiHeadAttentionBlock`. It contains two `Dense` layers followed by a `Dropout` layer. The `Dense` layers implement a bottleneck: increasing units by 4x, then decreasing the number of units back to the baseline level. *This is somewhat analogous to ResNet's Bottleneck Block*.\n",
    "\n",
    "In the first `Dense` layer, when the units expand to 4x the baseline, a new activation function tends to be used: **Gaussian Error Linear Unit (GELU)**. Before you implement and test the `MLPBlock`, first:\n",
    "1. Implement GELU in the `gelu` method of your `Layer` class (*see below equation*)\n",
    "2. Add support for GELU activation in the `compute_net_activation` method of your `Layer` class.\n",
    "\n",
    "Here is a refresher on the equation:\n",
    "\n",
    "$$\n",
    "\\text{GELU}(\\text{netIn}) = 0.5 x \\left(1 + \\tanh\\left[\\sqrt{\\frac{2}{\\pi}} \\left(netIn + 0.044715 netIn^3\\right)\\right]\\right)\n",
    "$$"
   ]
  },
  {
   "cell_type": "code",
   "execution_count": 48,
   "metadata": {},
   "outputs": [],
   "source": [
    "from transformer_blocks import MLPBlock"
   ]
  },
  {
   "cell_type": "markdown",
   "metadata": {},
   "source": [
    "#### Test: GELU activation"
   ]
  },
  {
   "cell_type": "code",
   "execution_count": 49,
   "metadata": {},
   "outputs": [
    {
     "name": "stdout",
     "output_type": "stream",
     "text": [
      "netActs after applying GELU are:\n",
      "[[ 0.0007  0.0004  0.0002 -0.0003 -0.0002]]\n",
      "and should be\n",
      "[[ 0.0007  0.0004  0.0002 -0.0003 -0.0002]]\n",
      "netActs after applying GELU (layer_norm turned on) are:\n",
      "[[-0.0024  0.0023 -0.0023  0.0002 -0.0003  0.0011]]\n",
      "and should be\n",
      "[[-0.0024  0.0023 -0.0023  0.0002 -0.0003  0.0011]]\n"
     ]
    }
   ],
   "source": [
    "tf.random.set_seed(0)\n",
    "x_test = tf.random.uniform(shape=(1, 7))\n",
    "\n",
    "tf.random.set_seed(1)\n",
    "denseTest = Dense('testDense', units=5, activation='gelu')\n",
    "test_out_1 = denseTest(x_test)\n",
    "print(f'netActs after applying GELU are:\\n{test_out_1.numpy()}\\nand should be\\n[[ 0.0007  0.0004  0.0002 -0.0003 -0.0002]]')\n",
    "\n",
    "tf.random.set_seed(2)\n",
    "denseTest = Dense('testDense', units=6, activation='gelu', do_layer_norm=True)\n",
    "test_out_1 = denseTest(x_test)\n",
    "print(f'netActs after applying GELU (layer_norm turned on) are:\\n{test_out_1.numpy()}\\nand should be\\n[[-0.0024  0.0023 -0.0023  0.0002 -0.0003  0.0011]]')"
   ]
  },
  {
   "cell_type": "markdown",
   "metadata": {},
   "source": [
    "#### Test: `MLPBlock` (No dropout)"
   ]
  },
  {
   "cell_type": "code",
   "execution_count": 50,
   "metadata": {},
   "outputs": [
    {
     "name": "stdout",
     "output_type": "stream",
     "text": [
      "netActs from your MLPBlock are:\n",
      "tf.Tensor(\n",
      "[[[-0.1837 -0.044  -0.2113 -0.1475 -0.2642  0.3548 -0.4907]\n",
      "  [-0.4057  0.1358 -0.0993 -0.4647 -0.4678 -0.1536 -0.1301]\n",
      "  [ 0.9095  0.152  -0.4679  0.2902 -0.7817  1.5217 -0.2833]]\n",
      "\n",
      " [[-0.4854  0.5821  0.1405  0.2118  0.602  -0.1737  0.5802]\n",
      "  [ 0.485  -0.5016 -0.0709 -0.1024 -0.6311  0.2167 -0.2006]\n",
      "  [ 0.0839 -0.1037 -0.0383 -0.1329  0.1339 -0.3871 -0.0003]]], shape=(2, 3, 7), dtype=float32)\n",
      "and should be:\n",
      "tf.Tensor(\n",
      "[[[-0.1837 -0.044  -0.2113 -0.1475 -0.2642  0.3548 -0.4907]\n",
      "  [-0.4057  0.1358 -0.0993 -0.4647 -0.4678 -0.1536 -0.1301]\n",
      "  [ 0.9095  0.152  -0.4679  0.2902 -0.7817  1.5217 -0.2833]]\n",
      "\n",
      " [[-0.4854  0.5821  0.1405  0.2118  0.602  -0.1737  0.5802]\n",
      "  [ 0.485  -0.5016 -0.0709 -0.1024 -0.6311  0.2167 -0.2006]\n",
      "  [ 0.0839 -0.1037 -0.0383 -0.1329  0.1339 -0.3871 -0.0003]]], shape=(2, 3, 7), dtype=float32)\n"
     ]
    }
   ],
   "source": [
    "tf.random.set_seed(1)\n",
    "x_test = tf.random.uniform(shape=(2, 3, 5))\n",
    "\n",
    "mlpblock = MLPBlock('testMLPBlock', units=7, prev_layer_or_block=None, dropout_rate=0.)\n",
    "test_net_acts = mlpblock(x_test)\n",
    "print('netActs from your MLPBlock are:')\n",
    "print(test_net_acts)\n",
    "print('and should be:')\n",
    "print('''tf.Tensor(\n",
    "[[[-0.1837 -0.044  -0.2113 -0.1475 -0.2642  0.3548 -0.4907]\n",
    "  [-0.4057  0.1358 -0.0993 -0.4647 -0.4678 -0.1536 -0.1301]\n",
    "  [ 0.9095  0.152  -0.4679  0.2902 -0.7817  1.5217 -0.2833]]\n",
    "\n",
    " [[-0.4854  0.5821  0.1405  0.2118  0.602  -0.1737  0.5802]\n",
    "  [ 0.485  -0.5016 -0.0709 -0.1024 -0.6311  0.2167 -0.2006]\n",
    "  [ 0.0839 -0.1037 -0.0383 -0.1329  0.1339 -0.3871 -0.0003]]], shape=(2, 3, 7), dtype=float32)''')"
   ]
  },
  {
   "cell_type": "markdown",
   "metadata": {},
   "source": [
    "#### Test: `MLPBlock` (Dropout 1/2)\n",
    "\n",
    "Training mode"
   ]
  },
  {
   "cell_type": "code",
   "execution_count": 51,
   "metadata": {},
   "outputs": [
    {
     "name": "stdout",
     "output_type": "stream",
     "text": [
      "netActs from your MLPBlock are:\n",
      "tf.Tensor(\n",
      "[[[ 0.9135 -1.0447 -0.2246  0.706  -1.1197]\n",
      "  [ 0.     -0.6826 -1.4628  0.0423 -0.    ]\n",
      "  [ 0.2141 -0.0222  0.0208  0.0865  0.232 ]]], shape=(1, 3, 5), dtype=float32)\n",
      "and should be:\n",
      "tf.Tensor(\n",
      "[[[ 0.9135 -1.0447 -0.2246  0.706  -1.1197]\n",
      "  [ 0.     -0.6826 -1.4628  0.0423 -0.    ]\n",
      "  [ 0.2141 -0.0222  0.0208  0.0865  0.232 ]]], shape=(1, 3, 5), dtype=float32)\n"
     ]
    }
   ],
   "source": [
    "tf.random.set_seed(1)\n",
    "x_test = tf.random.uniform(shape=(1, 3, 4))\n",
    "\n",
    "mlpblock = MLPBlock('testMLPBlock', units=5, prev_layer_or_block=None, dropout_rate=0.2)\n",
    "mlpblock.set_mode(is_training=True)\n",
    "test_net_acts = mlpblock(x_test)\n",
    "print('netActs from your MLPBlock are:')\n",
    "print(test_net_acts)\n",
    "print('and should be:')\n",
    "print('''tf.Tensor(\n",
    "[[[ 0.9135 -1.0447 -0.2246  0.706  -1.1197]\n",
    "  [ 0.     -0.6826 -1.4628  0.0423 -0.    ]\n",
    "  [ 0.2141 -0.0222  0.0208  0.0865  0.232 ]]], shape=(1, 3, 5), dtype=float32)''')"
   ]
  },
  {
   "cell_type": "markdown",
   "metadata": {},
   "source": [
    "#### Test: `MLPBlock` (Dropout 2/2)\n",
    "\n",
    "Prediction mode"
   ]
  },
  {
   "cell_type": "code",
   "execution_count": 52,
   "metadata": {},
   "outputs": [
    {
     "name": "stdout",
     "output_type": "stream",
     "text": [
      "netActs from your MLPBlock are:\n",
      "tf.Tensor(\n",
      "[[[ 0.7308 -0.8358 -0.1797  0.5648 -0.8958]\n",
      "  [ 1.4003 -0.5461 -1.1702  0.0338 -1.5015]\n",
      "  [ 0.1713 -0.0177  0.0166  0.0692  0.1856]]], shape=(1, 3, 5), dtype=float32)\n",
      "and should be:\n",
      "tf.Tensor(\n",
      "[[[ 0.7308 -0.8358 -0.1797  0.5648 -0.8958]\n",
      "  [ 1.4003 -0.5461 -1.1702  0.0338 -1.5015]\n",
      "  [ 0.1713 -0.0177  0.0166  0.0692  0.1856]]], shape=(1, 3, 5), dtype=float32)\n"
     ]
    }
   ],
   "source": [
    "mlpblock.set_mode(is_training=False)\n",
    "test_net_acts = mlpblock(x_test)\n",
    "print('netActs from your MLPBlock are:')\n",
    "print(test_net_acts)\n",
    "print('and should be:')\n",
    "print('''tf.Tensor(\n",
    "[[[ 0.7308 -0.8358 -0.1797  0.5648 -0.8958]\n",
    "  [ 1.4003 -0.5461 -1.1702  0.0338 -1.5015]\n",
    "  [ 0.1713 -0.0177  0.0166  0.0692  0.1856]]], shape=(1, 3, 5), dtype=float32)''')"
   ]
  },
  {
   "cell_type": "markdown",
   "metadata": {},
   "source": [
    "### 3f. Implement `TransformerBlock`\n",
    "\n",
    "Now we are ready to implement the full Transformer Block, which is composed of a `MultiHeadAttentionBlock` followed by the `MLPBlock`."
   ]
  },
  {
   "cell_type": "code",
   "execution_count": 53,
   "metadata": {},
   "outputs": [],
   "source": [
    "from transformer_blocks import TransformerBlock"
   ]
  },
  {
   "cell_type": "markdown",
   "metadata": {},
   "source": [
    "#### Test: `TransformerBlock` (No dropout)"
   ]
  },
  {
   "cell_type": "code",
   "execution_count": 54,
   "metadata": {},
   "outputs": [
    {
     "name": "stdout",
     "output_type": "stream",
     "text": [
      "netActs from your Transformer Block are:\n",
      "tf.Tensor(\n",
      "[[[-1.5531 -1.3262 -2.4073  0.243   0.1851  0.4998]\n",
      "  [ 0.2843 -0.3698  1.5316  0.615   0.9175 -0.3186]\n",
      "  [-0.1368  0.7006  0.321  -0.6023  1.3685  0.0439]]\n",
      "\n",
      " [[ 0.0586  0.329  -0.9239 -0.9192  3.2321 -0.4438]\n",
      "  [-0.6011 -0.3067 -2.2542  0.3201 -0.159   1.432 ]\n",
      "  [ 0.0053  1.1205 -0.3437  1.2761  1.454   0.4725]]], shape=(2, 3, 6), dtype=float32)\n",
      "and should be:\n",
      "tf.Tensor(\n",
      "[[[-1.5531 -1.3262 -2.4073  0.243   0.1851  0.4998]\n",
      "  [ 0.2843 -0.3698  1.5316  0.615   0.9175 -0.3186]\n",
      "  [-0.1368  0.7006  0.321  -0.6023  1.3685  0.0439]]\n",
      "\n",
      " [[ 0.0586  0.329  -0.9239 -0.9192  3.2321 -0.4438]\n",
      "  [-0.6011 -0.3067 -2.2542  0.3201 -0.159   1.432 ]\n",
      "  [ 0.0053  1.1205 -0.3437  1.2761  1.454   0.4725]]], shape=(2, 3, 6), dtype=float32)\n"
     ]
    }
   ],
   "source": [
    "tf.random.set_seed(1)\n",
    "x_test = tf.random.uniform(shape=(2, 3, 6))\n",
    "\n",
    "tblock = TransformerBlock('testTBlock', units=6, num_heads=3, prev_layer_or_block=None, dropout_rate=0.)\n",
    "test_net_acts = tblock(x_test)\n",
    "print('netActs from your Transformer Block are:')\n",
    "print(test_net_acts)\n",
    "print('and should be:')\n",
    "print('''tf.Tensor(\n",
    "[[[-1.5531 -1.3262 -2.4073  0.243   0.1851  0.4998]\n",
    "  [ 0.2843 -0.3698  1.5316  0.615   0.9175 -0.3186]\n",
    "  [-0.1368  0.7006  0.321  -0.6023  1.3685  0.0439]]\n",
    "\n",
    " [[ 0.0586  0.329  -0.9239 -0.9192  3.2321 -0.4438]\n",
    "  [-0.6011 -0.3067 -2.2542  0.3201 -0.159   1.432 ]\n",
    "  [ 0.0053  1.1205 -0.3437  1.2761  1.454   0.4725]]], shape=(2, 3, 6), dtype=float32)''')"
   ]
  },
  {
   "cell_type": "markdown",
   "metadata": {},
   "source": [
    "#### Test: `TransformerBlock` (Dropout 1/2)\n",
    "\n",
    "Training mode"
   ]
  },
  {
   "cell_type": "code",
   "execution_count": 55,
   "metadata": {},
   "outputs": [
    {
     "name": "stdout",
     "output_type": "stream",
     "text": [
      "netActs from your Transformer Block are:\n",
      "tf.Tensor(\n",
      "[[[ 0.2805  0.9015 -0.1326  2.7713]\n",
      "  [ 1.4169  0.4118  0.9758  0.248 ]\n",
      "  [ 0.6692  1.8499  0.3252  2.3496]]\n",
      "\n",
      " [[ 0.9539 -2.6124  3.2987  1.1689]\n",
      "  [-1.9677  1.3901  0.0221  0.9654]\n",
      "  [ 1.056  -0.0272 -2.0798  0.2343]]], shape=(2, 3, 4), dtype=float32)\n",
      "and should be:\n",
      "tf.Tensor(\n",
      "[[[ 0.2805  0.9015 -0.1326  2.7713]\n",
      "  [ 1.4169  0.4118  0.9758  0.248 ]\n",
      "  [ 0.6692  1.8499  0.3252  2.3496]]\n",
      "\n",
      " [[ 0.9539 -2.6124  3.2987  1.1689]\n",
      "  [-1.9677  1.3901  0.0221  0.9654]\n",
      "  [ 1.056  -0.0272 -2.0798  0.2343]]], shape=(2, 3, 4), dtype=float32)\n"
     ]
    }
   ],
   "source": [
    "tf.random.set_seed(1)\n",
    "x_test = tf.random.uniform(shape=(2, 3, 4))\n",
    "\n",
    "tblock = TransformerBlock('testTBlock', units=4, num_heads=2, prev_layer_or_block=None, dropout_rate=0.2)\n",
    "tblock.set_mode(is_training=True)\n",
    "test_net_acts = tblock(x_test)\n",
    "print('netActs from your Transformer Block are:')\n",
    "print(test_net_acts)\n",
    "print('and should be:')\n",
    "print('''tf.Tensor(\n",
    "[[[ 0.2805  0.9015 -0.1326  2.7713]\n",
    "  [ 1.4169  0.4118  0.9758  0.248 ]\n",
    "  [ 0.6692  1.8499  0.3252  2.3496]]\n",
    "\n",
    " [[ 0.9539 -2.6124  3.2987  1.1689]\n",
    "  [-1.9677  1.3901  0.0221  0.9654]\n",
    "  [ 1.056  -0.0272 -2.0798  0.2343]]], shape=(2, 3, 4), dtype=float32)''')"
   ]
  },
  {
   "cell_type": "markdown",
   "metadata": {},
   "source": [
    "#### Test: `TransformerBlock` (Dropout 2/2)\n",
    "\n",
    "Prediction mode"
   ]
  },
  {
   "cell_type": "code",
   "execution_count": 56,
   "metadata": {},
   "outputs": [
    {
     "name": "stdout",
     "output_type": "stream",
     "text": [
      "netActs from your Transformer Block are:\n",
      "tf.Tensor(\n",
      "[[[ 1.2375  1.3978  0.1956  1.901 ]\n",
      "  [ 0.9879  1.2677  0.2901  2.2666]\n",
      "  [ 0.5847  1.0634  0.1622  1.8624]]\n",
      "\n",
      " [[ 1.0252 -0.8074  2.0755  0.7679]\n",
      "  [-0.996   1.2571  0.741   0.7996]\n",
      "  [-0.2824  1.1839 -0.3884 -0.1844]]], shape=(2, 3, 4), dtype=float32)\n",
      "and should be:\n",
      "tf.Tensor(\n",
      "[[[ 1.2375  1.3978  0.1956  1.901 ]\n",
      "  [ 0.9879  1.2677  0.2901  2.2666]\n",
      "  [ 0.5847  1.0634  0.1622  1.8624]]\n",
      "\n",
      " [[ 1.0252 -0.8074  2.0755  0.7679]\n",
      "  [-0.996   1.2571  0.741   0.7996]\n",
      "  [-0.2824  1.1839 -0.3884 -0.1844]]], shape=(2, 3, 4), dtype=float32)\n"
     ]
    }
   ],
   "source": [
    "tblock.set_mode(is_training=False)\n",
    "test_net_acts = tblock(x_test)\n",
    "print('netActs from your Transformer Block are:')\n",
    "print(test_net_acts)\n",
    "print('and should be:')\n",
    "print('''tf.Tensor(\n",
    "[[[ 1.2375  1.3978  0.1956  1.901 ]\n",
    "  [ 0.9879  1.2677  0.2901  2.2666]\n",
    "  [ 0.5847  1.0634  0.1622  1.8624]]\n",
    "\n",
    " [[ 1.0252 -0.8074  2.0755  0.7679]\n",
    "  [-0.996   1.2571  0.741   0.7996]\n",
    "  [-0.2824  1.1839 -0.3884 -0.1844]]], shape=(2, 3, 4), dtype=float32)''')"
   ]
  },
  {
   "cell_type": "markdown",
   "metadata": {},
   "source": [
    "## Task 4: Positional encoding\n",
    "\n",
    "Although we organize each sample as an ordered list of `T` tokens, the attention mechanism does not \"see\" or consider that significance of the position of the characters in the sequence. This hinders the ability to predict the next character. For example, in the addition dataset, The `'+'` character always ONLY appears in index 1 or 2 (*because each operand can only be 1-2 digits long*). If you are predicting token at position 1-2, it should be helpful to take into account that `'+'` is a plausible/likely prediction! Conversely, the transformer should learn that it is unlike that `'+'` appears anywhere else other than in position 1-2. \n",
    "\n",
    "In transformers, we tend to inject a \"give-away, special code\" in the netActs that correlates to the position in the sequence so that the transformer can learn not only what character should come next given the set of previous characters sequence, but also the position of those characters in the sequence.\n",
    "\n",
    "We use a trigonometric function to inject these position codes into the netAct:\n",
    "\n",
    "$$\n",
    "\\text{PE}_{tj} = \n",
    "\\begin{cases}\n",
    "\\sin\\left(\\omega_j t\\right) & \\text{if t position even} \\\\ \\\\\n",
    "\\cos\\left(\\omega_j t\\right) & \\text{if t position odd}\n",
    "\\end{cases}\n",
    "$$\n",
    "\n",
    "where $t$ indices the position in the sequence (out of `T` positions), $j$ indices the neuron in the `Embedding` layer (out of `H_embed` total), and the frequency term $\\omega_j$ is defined as follows:\n",
    "\n",
    "$$\n",
    "\\omega_j = \\dfrac{1}{10000^{j / H_{\\text{embed}}}}\n",
    "$$\n",
    "\n",
    "In other words, each neuron in the embedding layer gets its own coding \"frequency\" of the sin/cos.\n",
    "\n",
    "The netIn value in the PositionalEncoding layer is just the input to the layer `x` plus the position encoding matrix $\\text{PE}$."
   ]
  },
  {
   "cell_type": "markdown",
   "metadata": {},
   "source": [
    "### 4a. Implement `PositionalEncoding` layer\n",
    "\n",
    "The class is in `transformer_layers.py`. Test your implementation below."
   ]
  },
  {
   "cell_type": "code",
   "execution_count": 57,
   "metadata": {},
   "outputs": [],
   "source": [
    "from transformer_layers import PositionalEncoding"
   ]
  },
  {
   "cell_type": "markdown",
   "metadata": {},
   "source": [
    "#### Test: `PositionalEncoding` layer (position encoding)"
   ]
  },
  {
   "cell_type": "code",
   "execution_count": 58,
   "metadata": {},
   "outputs": [
    {
     "name": "stdout",
     "output_type": "stream",
     "text": [
      "Your positional encoding matrix is:\n",
      "tf.Tensor(\n",
      "[[[ 0.      1.      0.      1.      0.      1.    ]\n",
      "  [ 0.8415  0.5403  0.0464  0.9989  0.0022  1.    ]\n",
      "  [ 0.9093 -0.4161  0.0927  0.9957  0.0043  1.    ]\n",
      "  [ 0.1411 -0.99    0.1388  0.9903  0.0065  1.    ]\n",
      "  [-0.7568 -0.6536  0.1846  0.9828  0.0086  1.    ]\n",
      "  [-0.9589  0.2837  0.23    0.9732  0.0108  0.9999]\n",
      "  [-0.2794  0.9602  0.2749  0.9615  0.0129  0.9999]\n",
      "  [ 0.657   0.7539  0.3192  0.9477  0.0151  0.9999]\n",
      "  [ 0.9894 -0.1455  0.3629  0.9318  0.0172  0.9999]\n",
      "  [ 0.4121 -0.9111  0.4057  0.914   0.0194  0.9998]]], shape=(1, 10, 6), dtype=float32)\n",
      "and it should be:\n",
      "tf.Tensor(\n",
      "[[[ 0.      1.      0.      1.      0.      1.    ]\n",
      "  [ 0.8415  0.5403  0.0464  0.9989  0.0022  1.    ]\n",
      "  [ 0.9093 -0.4161  0.0927  0.9957  0.0043  1.    ]\n",
      "  [ 0.1411 -0.99    0.1388  0.9903  0.0065  1.    ]\n",
      "  [-0.7568 -0.6536  0.1846  0.9828  0.0086  1.    ]\n",
      "  [-0.9589  0.2837  0.23    0.9732  0.0108  0.9999]\n",
      "  [-0.2794  0.9602  0.2749  0.9615  0.0129  0.9999]\n",
      "  [ 0.657   0.7539  0.3192  0.9477  0.0151  0.9999]\n",
      "  [ 0.9894 -0.1455  0.3629  0.9318  0.0172  0.9999]\n",
      "  [ 0.4121 -0.9111  0.4057  0.914   0.0194  0.9998]]], shape=(1, 10, 6), dtype=float32)\n"
     ]
    }
   ],
   "source": [
    "test_pe_lay = PositionalEncoding('testPELayer', embed_dim=6, prev_layer_or_block=None)\n",
    "pe_mat = test_pe_lay.create_position_encoding(embed_dim=6, seq_len=10)\n",
    "print('Your positional encoding matrix is:')\n",
    "print(pe_mat)\n",
    "print('and it should be:')\n",
    "print('''tf.Tensor(\n",
    "[[[ 0.      1.      0.      1.      0.      1.    ]\n",
    "  [ 0.8415  0.5403  0.0464  0.9989  0.0022  1.    ]\n",
    "  [ 0.9093 -0.4161  0.0927  0.9957  0.0043  1.    ]\n",
    "  [ 0.1411 -0.99    0.1388  0.9903  0.0065  1.    ]\n",
    "  [-0.7568 -0.6536  0.1846  0.9828  0.0086  1.    ]\n",
    "  [-0.9589  0.2837  0.23    0.9732  0.0108  0.9999]\n",
    "  [-0.2794  0.9602  0.2749  0.9615  0.0129  0.9999]\n",
    "  [ 0.657   0.7539  0.3192  0.9477  0.0151  0.9999]\n",
    "  [ 0.9894 -0.1455  0.3629  0.9318  0.0172  0.9999]\n",
    "  [ 0.4121 -0.9111  0.4057  0.914   0.0194  0.9998]]], shape=(1, 10, 6), dtype=float32)''')"
   ]
  },
  {
   "cell_type": "markdown",
   "metadata": {},
   "source": [
    "#### Test: `PositionalEncoding` layer (`net_in`)"
   ]
  },
  {
   "cell_type": "code",
   "execution_count": 64,
   "metadata": {},
   "outputs": [
    {
     "name": "stdout",
     "output_type": "stream",
     "text": [
      "Test x:\n",
      "tf.Tensor(\n",
      "[[[-0.0042 -0.0059  0.0007  0.0012 -0.0017  0.0062]\n",
      "  [-0.0001  0.01    0.0039 -0.0075  0.0042  0.0032]\n",
      "  [ 0.0014 -0.0027 -0.0016  0.0026  0.0083  0.0032]\n",
      "  [ 0.0067 -0.0083 -0.0044 -0.0097  0.0045  0.0053]\n",
      "  [ 0.0036  0.0007  0.0051 -0.0091 -0.009   0.005 ]\n",
      "  [-0.0065 -0.0038 -0.0042 -0.008  -0.0067  0.0054]\n",
      "  [ 0.0017  0.0096  0.0083 -0.0072 -0.008   0.0021]\n",
      "  [-0.0064  0.0004  0.0096 -0.0065 -0.0091  0.002 ]\n",
      "  [ 0.0013  0.0061  0.0017 -0.0079  0.0089 -0.0043]\n",
      "  [ 0.0011 -0.0044 -0.0084 -0.0022 -0.0086 -0.0092]]\n",
      "\n",
      " [[ 0.0085  0.0075 -0.0006 -0.0006  0.0026  0.0046]\n",
      "  [ 0.0087 -0.0028 -0.0059  0.0021 -0.002   0.0018]\n",
      "  [ 0.0074  0.0064 -0.0099 -0.0052 -0.006  -0.0092]\n",
      "  [ 0.0096 -0.0066  0.004   0.0047  0.0069  0.0047]\n",
      "  [ 0.0046 -0.0062  0.0047 -0.0062  0.0017 -0.0092]\n",
      "  [ 0.0034  0.0017 -0.01   -0.0005  0.0091  0.0047]\n",
      "  [ 0.0018 -0.0032  0.0054 -0.0088  0.0033 -0.0005]\n",
      "  [-0.0086  0.0094 -0.0008  0.     -0.0077  0.0046]\n",
      "  [ 0.0051 -0.0014 -0.0091  0.0008 -0.0068 -0.0021]\n",
      "  [ 0.0013 -0.0079  0.009  -0.0037 -0.0007  0.0018]]], shape=(2, 10, 6), dtype=float32)\n",
      "Your netIns are:\n",
      "tf.Tensor(\n",
      "[[[-0.0042  0.9941  0.0007  1.0012 -0.0017  1.0062]\n",
      "  [ 0.8413  0.5503  0.0503  0.9914  0.0064  1.0032]\n",
      "  [ 0.9107 -0.4189  0.0911  0.9983  0.0126  1.0032]\n",
      "  [ 0.1478 -0.9983  0.1344  0.9806  0.011   1.0053]\n",
      "  [-0.7532 -0.653   0.1897  0.9738 -0.0004  1.005 ]\n",
      "  [-0.9655  0.2799  0.2258  0.9652  0.0041  1.0053]\n",
      "  [-0.2777  0.9698  0.2832  0.9543  0.0049  1.002 ]\n",
      "  [ 0.6505  0.7543  0.3289  0.9412  0.006   1.0018]\n",
      "  [ 0.9906 -0.1394  0.3645  0.9239  0.0261  0.9955]\n",
      "  [ 0.4132 -0.9155  0.3973  0.9118  0.0108  0.9907]]\n",
      "\n",
      " [[ 0.0085  1.0075 -0.0006  0.9994  0.0026  1.0046]\n",
      "  [ 0.8502  0.5375  0.0405  1.001   0.0002  1.0018]\n",
      "  [ 0.9167 -0.4098  0.0828  0.9905 -0.0017  0.9908]\n",
      "  [ 0.1507 -0.9966  0.1428  0.9951  0.0133  1.0047]\n",
      "  [-0.7522 -0.6599  0.1893  0.9766  0.0103  0.9907]\n",
      "  [-0.9555  0.2854  0.22    0.9727  0.0198  1.0046]\n",
      "  [-0.2776  0.957   0.2803  0.9527  0.0163  0.9994]\n",
      "  [ 0.6483  0.7633  0.3185  0.9477  0.0073  1.0045]\n",
      "  [ 0.9945 -0.1469  0.3538  0.9326  0.0105  0.9978]\n",
      "  [ 0.4134 -0.9191  0.4146  0.9103  0.0187  1.0016]]], shape=(2, 10, 6), dtype=float32)\n"
     ]
    }
   ],
   "source": [
    "tf.random.set_seed(0)\n",
    "test_x = tf.random.uniform(shape=(2, 10, 6), minval=-0.01, maxval=0.01)\n",
    "test_pe_lay = PositionalEncoding('testPELayer', embed_dim=6, prev_layer_or_block=None)\n",
    "test_netins = test_pe_lay.compute_net_input(test_x)\n",
    "print('Test x:')\n",
    "print(test_x)\n",
    "print('Your netIns are:')\n",
    "print(test_netins)"
   ]
  },
  {
   "cell_type": "markdown",
   "metadata": {},
   "source": [
    "The cell above should output:\n",
    "\n",
    "```\n",
    "Your netIns are:\n",
    "tf.Tensor(\n",
    "[[[-0.0042  0.9941  0.0007  1.0012 -0.0017  1.0062]\n",
    "  [ 0.8413  0.5503  0.0503  0.9914  0.0064  1.0032]\n",
    "  [ 0.9107 -0.4189  0.0911  0.9983  0.0126  1.0032]\n",
    "  [ 0.1478 -0.9983  0.1344  0.9806  0.011   1.0053]\n",
    "  [-0.7532 -0.653   0.1897  0.9738 -0.0004  1.005 ]\n",
    "  [-0.9655  0.2799  0.2258  0.9652  0.0041  1.0053]\n",
    "  [-0.2777  0.9698  0.2832  0.9543  0.0049  1.002 ]\n",
    "  [ 0.6505  0.7543  0.3289  0.9412  0.006   1.0018]\n",
    "  [ 0.9906 -0.1394  0.3645  0.9239  0.0261  0.9955]\n",
    "  [ 0.4132 -0.9155  0.3973  0.9118  0.0108  0.9907]]\n",
    "\n",
    " [[ 0.0085  1.0075 -0.0006  0.9994  0.0026  1.0046]\n",
    "  [ 0.8502  0.5375  0.0405  1.001   0.0002  1.0018]\n",
    "  [ 0.9167 -0.4098  0.0828  0.9905 -0.0017  0.9908]\n",
    "  [ 0.1507 -0.9966  0.1428  0.9951  0.0133  1.0047]\n",
    "  [-0.7522 -0.6599  0.1893  0.9766  0.0103  0.9907]\n",
    "  [-0.9555  0.2854  0.22    0.9727  0.0198  1.0046]\n",
    "  [-0.2776  0.957   0.2803  0.9527  0.0163  0.9994]\n",
    "  [ 0.6483  0.7633  0.3185  0.9477  0.0073  1.0045]\n",
    "  [ 0.9945 -0.1469  0.3538  0.9326  0.0105  0.9978]\n",
    "  [ 0.4134 -0.9191  0.4146  0.9103  0.0187  1.0016]]], shape=(2, 10, 6), dtype=float32)\n",
    "```"
   ]
  },
  {
   "cell_type": "markdown",
   "metadata": {},
   "source": [
    "### 4b. Questions\n",
    "\n",
    "**Question 2:** Compare the `net_in` output from the last test above with the original input to position encoding matrix `pe_mat` from above. Point out specifically how the `net_in` clearly demonstrates position coding of the input `test_x`. *Hint: It might help to also print out `test_x`.*\n",
    "\n",
    "**Question 3:** In the cell below, make a heatmap showing the position encoding obtained when the embedding dimension is `100` and the sequence length is `50` tokens long. **Properly label the heatmap and clearly explain what the patterns in the heatmap mean.**"
   ]
  },
  {
   "cell_type": "markdown",
   "metadata": {},
   "source": [
    "**Answer 2:** The net_in output shows position coding because each time step in test_x is modified differently by the pe_mat. Identical embeddings at different positions produce different net_in values, so positional encoding adds unique position dependent patterns to the input.\n",
    "\n",
    "**Answer 3:** The heatmap shows the positional encoding where each row represents a token’s position and each column an embedding dimension. The repeating wave patterns reflect how sine and cosine functions encode positions, allowing the model to distinguish token order in a sequence."
   ]
  },
  {
   "cell_type": "code",
   "execution_count": 71,
   "metadata": {},
   "outputs": [
    {
     "data": {
      "image/png": "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",
      "text/plain": [
       "<Figure size 1200x600 with 2 Axes>"
      ]
     },
     "metadata": {},
     "output_type": "display_data"
    }
   ],
   "source": [
    "pos_enc_layer = PositionalEncoding(name='PE_Heatmap', embed_dim=100)\n",
    "pe_matrix = pos_enc_layer.create_position_encoding(100, 50).numpy()[0]\n",
    "\n",
    "plt.figure(figsize=(12, 6))\n",
    "plt.imshow(pe_matrix, aspect='auto')\n",
    "plt.colorbar(label='Encoding Value')\n",
    "plt.xlabel('Embedding layer neuron j')\n",
    "plt.ylabel('Sequence position t')\n",
    "plt.title('Positional Encoding Heatmap')\n",
    "plt.show()"
   ]
  },
  {
   "cell_type": "markdown",
   "metadata": {},
   "source": [
    "### 4c. Implement `PositionalEncodingBlock`\n",
    "\n",
    "In a transformer neural network, the positional encoding layer is usually followed by a `Dropout` layer. Let's make a block to bundle these two layers together."
   ]
  },
  {
   "cell_type": "code",
   "execution_count": 60,
   "metadata": {},
   "outputs": [],
   "source": [
    "from transformer_blocks import PositionalEncodingBlock"
   ]
  },
  {
   "cell_type": "markdown",
   "metadata": {},
   "source": [
    "#### Test: `PositionalEncodingBlock` (No dropout)"
   ]
  },
  {
   "cell_type": "code",
   "execution_count": 61,
   "metadata": {},
   "outputs": [
    {
     "name": "stdout",
     "output_type": "stream",
     "text": [
      "netActs from your PE Block are:\n",
      "tf.Tensor(\n",
      "[[[ 0.1651  1.9015  0.631   1.4345]\n",
      "  [ 1.1334  1.1828  0.9858  1.435 ]\n",
      "  [ 1.5694  0.1887  0.6566  1.6142]\n",
      "  [ 1.0305 -0.3622  0.562   1.0255]\n",
      "  [-0.3159 -0.401   0.9262  1.8865]]\n",
      "\n",
      " [[ 0.7873  1.0596  0.0711  1.3084]\n",
      "  [ 1.0927  1.4488  0.4815  1.2423]\n",
      "  [ 1.5423  0.1699  0.93    1.5699]\n",
      "  [ 0.6376 -0.3961  0.5714  1.4425]\n",
      "  [-0.4643  0.0803  0.9597  1.6677]]], shape=(2, 5, 4), dtype=float32)\n",
      "and should be:\n",
      "tf.Tensor(\n",
      "[[[ 0.1651  1.9015  0.631   1.4345]\n",
      "  [ 1.1334  1.1828  0.9858  1.435 ]\n",
      "  [ 1.5694  0.1887  0.6566  1.6142]\n",
      "  [ 1.0305 -0.3622  0.562   1.0255]\n",
      "  [-0.3159 -0.401   0.9262  1.8865]]\n",
      "\n",
      " [[ 0.7873  1.0596  0.0711  1.3084]\n",
      "  [ 1.0927  1.4488  0.4815  1.2423]\n",
      "  [ 1.5423  0.1699  0.93    1.5699]\n",
      "  [ 0.6376 -0.3961  0.5714  1.4425]\n",
      "  [-0.4643  0.0803  0.9597  1.6677]]], shape=(2, 5, 4), dtype=float32)\n"
     ]
    }
   ],
   "source": [
    "tf.random.set_seed(1)\n",
    "x_test = tf.random.uniform(shape=(2, 5, 4))\n",
    "\n",
    "peblock = PositionalEncodingBlock('testPElock', embed_dim=4, prev_layer_or_block=None, dropout_rate=0.)\n",
    "test_net_acts = peblock(x_test)\n",
    "print('netActs from your PE Block are:')\n",
    "print(test_net_acts)\n",
    "print('and should be:')\n",
    "print('''tf.Tensor(\n",
    "[[[ 0.1651  1.9015  0.631   1.4345]\n",
    "  [ 1.1334  1.1828  0.9858  1.435 ]\n",
    "  [ 1.5694  0.1887  0.6566  1.6142]\n",
    "  [ 1.0305 -0.3622  0.562   1.0255]\n",
    "  [-0.3159 -0.401   0.9262  1.8865]]\n",
    "\n",
    " [[ 0.7873  1.0596  0.0711  1.3084]\n",
    "  [ 1.0927  1.4488  0.4815  1.2423]\n",
    "  [ 1.5423  0.1699  0.93    1.5699]\n",
    "  [ 0.6376 -0.3961  0.5714  1.4425]\n",
    "  [-0.4643  0.0803  0.9597  1.6677]]], shape=(2, 5, 4), dtype=float32)''')"
   ]
  },
  {
   "cell_type": "markdown",
   "metadata": {},
   "source": [
    "#### Test: `PositionalEncodingBlock` (Dropout 1/2)\n",
    "\n",
    "Training mode"
   ]
  },
  {
   "cell_type": "code",
   "execution_count": 62,
   "metadata": {},
   "outputs": [
    {
     "name": "stdout",
     "output_type": "stream",
     "text": [
      "netActs from your PE Block are:\n",
      "tf.Tensor(\n",
      "[[[ 0.      3.803   1.2619  0.    ]\n",
      "  [ 0.      2.3656  1.9716  0.    ]\n",
      "  [ 3.1388  0.      1.3133  0.    ]\n",
      "  [ 0.     -0.      1.1239  2.0511]\n",
      "  [-0.     -0.      0.      0.    ]]\n",
      "\n",
      " [[ 1.5746  0.      0.1422  0.    ]\n",
      "  [ 0.      2.8975  0.      2.4847]\n",
      "  [ 0.      0.      0.      0.    ]\n",
      "  [ 1.2751 -0.      0.      0.    ]\n",
      "  [-0.      0.1606  1.9194  0.    ]]], shape=(2, 5, 4), dtype=float32)\n",
      "and should be:\n",
      "tf.Tensor(\n",
      "[[[ 0.      3.803   1.2619  0.    ]\n",
      "  [ 0.      2.3656  1.9716  0.    ]\n",
      "  [ 3.1388  0.      1.3133  0.    ]\n",
      "  [ 0.     -0.      1.1239  2.0511]\n",
      "  [-0.     -0.      0.      0.    ]]\n",
      "\n",
      " [[ 1.5746  0.      0.1422  0.    ]\n",
      "  [ 0.      2.8975  0.      2.4847]\n",
      "  [ 0.      0.      0.      0.    ]\n",
      "  [ 1.2751 -0.      0.      0.    ]\n",
      "  [-0.      0.1606  1.9194  0.    ]]], shape=(2, 5, 4), dtype=float32)\n"
     ]
    }
   ],
   "source": [
    "tf.random.set_seed(1)\n",
    "x_test = tf.random.uniform(shape=(2, 5, 4))\n",
    "\n",
    "peblock = PositionalEncodingBlock('testPElock', embed_dim=4, prev_layer_or_block=None, dropout_rate=0.5)\n",
    "peblock.set_mode(is_training=True)\n",
    "test_net_acts = peblock(x_test)\n",
    "print('netActs from your PE Block are:')\n",
    "print(test_net_acts)\n",
    "print('and should be:')\n",
    "print('''tf.Tensor(\n",
    "[[[ 0.      3.803   1.2619  0.    ]\n",
    "  [ 0.      2.3656  1.9716  0.    ]\n",
    "  [ 3.1388  0.      1.3133  0.    ]\n",
    "  [ 0.     -0.      1.1239  2.0511]\n",
    "  [-0.     -0.      0.      0.    ]]\n",
    "\n",
    " [[ 1.5746  0.      0.1422  0.    ]\n",
    "  [ 0.      2.8975  0.      2.4847]\n",
    "  [ 0.      0.      0.      0.    ]\n",
    "  [ 1.2751 -0.      0.      0.    ]\n",
    "  [-0.      0.1606  1.9194  0.    ]]], shape=(2, 5, 4), dtype=float32)''')"
   ]
  },
  {
   "cell_type": "markdown",
   "metadata": {},
   "source": [
    "#### Test: `PositionalEncodingBlock` (Dropout 2/2)\n",
    "\n",
    "Prediction mode"
   ]
  },
  {
   "cell_type": "code",
   "execution_count": 63,
   "metadata": {},
   "outputs": [
    {
     "name": "stdout",
     "output_type": "stream",
     "text": [
      "netActs from your PE Block are:\n",
      "tf.Tensor(\n",
      "[[[ 0.1651  1.9015  0.631   1.4345]\n",
      "  [ 1.1334  1.1828  0.9858  1.435 ]\n",
      "  [ 1.5694  0.1887  0.6566  1.6142]\n",
      "  [ 1.0305 -0.3622  0.562   1.0255]\n",
      "  [-0.3159 -0.401   0.9262  1.8865]]\n",
      "\n",
      " [[ 0.7873  1.0596  0.0711  1.3084]\n",
      "  [ 1.0927  1.4488  0.4815  1.2423]\n",
      "  [ 1.5423  0.1699  0.93    1.5699]\n",
      "  [ 0.6376 -0.3961  0.5714  1.4425]\n",
      "  [-0.4643  0.0803  0.9597  1.6677]]], shape=(2, 5, 4), dtype=float32)\n",
      "and should be:\n",
      "tf.Tensor(\n",
      "[[[ 0.1651  1.9015  0.631   1.4345]\n",
      "  [ 1.1334  1.1828  0.9858  1.435 ]\n",
      "  [ 1.5694  0.1887  0.6566  1.6142]\n",
      "  [ 1.0305 -0.3622  0.562   1.0255]\n",
      "  [-0.3159 -0.401   0.9262  1.8865]]\n",
      "\n",
      " [[ 0.7873  1.0596  0.0711  1.3084]\n",
      "  [ 1.0927  1.4488  0.4815  1.2423]\n",
      "  [ 1.5423  0.1699  0.93    1.5699]\n",
      "  [ 0.6376 -0.3961  0.5714  1.4425]\n",
      "  [-0.4643  0.0803  0.9597  1.6677]]], shape=(2, 5, 4), dtype=float32)\n"
     ]
    }
   ],
   "source": [
    "peblock.set_mode(is_training=False)\n",
    "test_net_acts = peblock(x_test)\n",
    "print('netActs from your PE Block are:')\n",
    "print(test_net_acts)\n",
    "print('and should be:')\n",
    "print('''tf.Tensor(\n",
    "[[[ 0.1651  1.9015  0.631   1.4345]\n",
    "  [ 1.1334  1.1828  0.9858  1.435 ]\n",
    "  [ 1.5694  0.1887  0.6566  1.6142]\n",
    "  [ 1.0305 -0.3622  0.562   1.0255]\n",
    "  [-0.3159 -0.401   0.9262  1.8865]]\n",
    "\n",
    " [[ 0.7873  1.0596  0.0711  1.3084]\n",
    "  [ 1.0927  1.4488  0.4815  1.2423]\n",
    "  [ 1.5423  0.1699  0.93    1.5699]\n",
    "  [ 0.6376 -0.3961  0.5714  1.4425]\n",
    "  [-0.4643  0.0803  0.9597  1.6677]]], shape=(2, 5, 4), dtype=float32)''')"
   ]
  }
 ],
 "metadata": {
  "kernelspec": {
   "display_name": "cs444",
   "language": "python",
   "name": "python3"
  },
  "language_info": {
   "codemirror_mode": {
    "name": "ipython",
    "version": 3
   },
   "file_extension": ".py",
   "mimetype": "text/x-python",
   "name": "python",
   "nbconvert_exporter": "python",
   "pygments_lexer": "ipython3",
   "version": "3.10.16"
  }
 },
 "nbformat": 4,
 "nbformat_minor": 2
}
