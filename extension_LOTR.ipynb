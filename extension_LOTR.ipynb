{
 "cells": [
  {
   "cell_type": "code",
   "execution_count": 2,
   "id": "122a60",
   "metadata": {
    "collapsed": false
   },
   "outputs": [
    {
     "name": "stdout",
     "output_type": "stream",
     "text": [
      "The autoreload extension is already loaded. To reload it, use:\n",
      "  %reload_ext autoreload\n"
     ]
    }
   ],
   "source": [
    "import numpy as np\n",
    "import tensorflow as tf\n",
    "import matplotlib.pyplot as plt\n",
    "\n",
    "plt.style.use(['seaborn-v0_8-colorblind', 'seaborn-v0_8-darkgrid'])\n",
    "plt.rcParams.update({'font.size': 20})\n",
    "\n",
    "np.set_printoptions(suppress=True, precision=4)\n",
    "\n",
    "# Automatically reload your external source code\n",
    "%load_ext autoreload\n",
    "%autoreload 2\n",
    "\n",
    "from gpts import GPTMini6\n",
    "from preprocess_corpus import load_document, make_char2ind_map, make_seqs_and_labels"
   ]
  },
  {
   "cell_type": "code",
   "execution_count": 0,
   "id": "48fa27",
   "metadata": {
    "collapsed": false
   },
   "outputs": [
   ],
   "source": [
   ]
  },
  {
   "cell_type": "code",
   "execution_count": 3,
   "id": "6d4236",
   "metadata": {
    "collapsed": false
   },
   "outputs": [
    {
     "name": "stderr",
     "output_type": "stream",
     "text": [
      "2025-05-14 02:32:53.669056: I tensorflow/core/common_runtime/gpu/gpu_device.cc:1928] Created device /job:localhost/replica:0/task:0/device:GPU:0 with 20601 MB memory:  -> device: 0, name: NVIDIA L4, pci bus id: 0000:00:03.0, compute capability: 8.9\n"
     ]
    },
    {
     "name": "stdout",
     "output_type": "stream",
     "text": [
      "---------------------------------------------------------------------------\n",
      "Dense layer output(output) shape: [1, 250, 88]\n",
      "TransformerBlock_5:\n",
      "\tTransformerBlock_5/MLP:\n",
      "\tDropout layer output(TransformerBlock_5/MLP/dropout) shape: [1, 250, 384]\n",
      "\tDense layer output(TransformerBlock_5/MLP/dense_1) shape: [1, 250, 384]\n",
      "\tDense layer output(TransformerBlock_5/MLP/dense_0) shape: [1, 250, 1536]\n",
      "\tTransformerBlock_5/multihead_attention:\n",
      "\tDropout layer output(TransformerBlock_5/multihead_attention/dropout) shape: [1, 250, 384]\n",
      "\tDense layer output(TransformerBlock_5/multihead_attention/dense_1) shape: [1, 250, 384]\n",
      "\tTransformerBlock_5/multihead_attention/attention:\n",
      "\tDropout layer output(TransformerBlock_5/multihead_attention/attention/dropout) shape: [1, 6, 250, 250]\n",
      "\tTransformerBlock_5/multihead_attention/qkv_block:\n",
      "\tDense layer output(TransformerBlock_5/multihead_attention/qkv_block/dense_v) shape: [1, 250, 384]\n",
      "\tDense layer output(TransformerBlock_5/multihead_attention/qkv_block/dense_k) shape: [1, 250, 384]\n",
      "\tDense layer output(TransformerBlock_5/multihead_attention/qkv_block/dense_q) shape: [1, 250, 384]\n",
      "TransformerBlock_4:\n",
      "\tTransformerBlock_4/MLP:\n",
      "\tDropout layer output(TransformerBlock_4/MLP/dropout) shape: [1, 250, 384]\n",
      "\tDense layer output(TransformerBlock_4/MLP/dense_1) shape: [1, 250, 384]\n",
      "\tDense layer output(TransformerBlock_4/MLP/dense_0) shape: [1, 250, 1536]\n",
      "\tTransformerBlock_4/multihead_attention:\n",
      "\tDropout layer output(TransformerBlock_4/multihead_attention/dropout) shape: [1, 250, 384]\n",
      "\tDense layer output(TransformerBlock_4/multihead_attention/dense_1) shape: [1, 250, 384]\n",
      "\tTransformerBlock_4/multihead_attention/attention:\n",
      "\tDropout layer output(TransformerBlock_4/multihead_attention/attention/dropout) shape: [1, 6, 250, 250]\n",
      "\tTransformerBlock_4/multihead_attention/qkv_block:\n",
      "\tDense layer output(TransformerBlock_4/multihead_attention/qkv_block/dense_v) shape: [1, 250, 384]\n",
      "\tDense layer output(TransformerBlock_4/multihead_attention/qkv_block/dense_k) shape: [1, 250, 384]\n",
      "\tDense layer output(TransformerBlock_4/multihead_attention/qkv_block/dense_q) shape: [1, 250, 384]\n",
      "TransformerBlock_3:\n",
      "\tTransformerBlock_3/MLP:\n",
      "\tDropout layer output(TransformerBlock_3/MLP/dropout) shape: [1, 250, 384]\n",
      "\tDense layer output(TransformerBlock_3/MLP/dense_1) shape: [1, 250, 384]\n",
      "\tDense layer output(TransformerBlock_3/MLP/dense_0) shape: [1, 250, 1536]\n",
      "\tTransformerBlock_3/multihead_attention:\n",
      "\tDropout layer output(TransformerBlock_3/multihead_attention/dropout) shape: [1, 250, 384]\n",
      "\tDense layer output(TransformerBlock_3/multihead_attention/dense_1) shape: [1, 250, 384]\n",
      "\tTransformerBlock_3/multihead_attention/attention:\n",
      "\tDropout layer output(TransformerBlock_3/multihead_attention/attention/dropout) shape: [1, 6, 250, 250]\n",
      "\tTransformerBlock_3/multihead_attention/qkv_block:\n",
      "\tDense layer output(TransformerBlock_3/multihead_attention/qkv_block/dense_v) shape: [1, 250, 384]\n",
      "\tDense layer output(TransformerBlock_3/multihead_attention/qkv_block/dense_k) shape: [1, 250, 384]\n",
      "\tDense layer output(TransformerBlock_3/multihead_attention/qkv_block/dense_q) shape: [1, 250, 384]\n",
      "TransformerBlock_2:\n",
      "\tTransformerBlock_2/MLP:\n",
      "\tDropout layer output(TransformerBlock_2/MLP/dropout) shape: [1, 250, 384]\n",
      "\tDense layer output(TransformerBlock_2/MLP/dense_1) shape: [1, 250, 384]\n",
      "\tDense layer output(TransformerBlock_2/MLP/dense_0) shape: [1, 250, 1536]\n",
      "\tTransformerBlock_2/multihead_attention:\n",
      "\tDropout layer output(TransformerBlock_2/multihead_attention/dropout) shape: [1, 250, 384]\n",
      "\tDense layer output(TransformerBlock_2/multihead_attention/dense_1) shape: [1, 250, 384]\n",
      "\tTransformerBlock_2/multihead_attention/attention:\n",
      "\tDropout layer output(TransformerBlock_2/multihead_attention/attention/dropout) shape: [1, 6, 250, 250]\n",
      "\tTransformerBlock_2/multihead_attention/qkv_block:\n",
      "\tDense layer output(TransformerBlock_2/multihead_attention/qkv_block/dense_v) shape: [1, 250, 384]\n",
      "\tDense layer output(TransformerBlock_2/multihead_attention/qkv_block/dense_k) shape: [1, 250, 384]\n",
      "\tDense layer output(TransformerBlock_2/multihead_attention/qkv_block/dense_q) shape: [1, 250, 384]\n",
      "TransformerBlock_1:\n",
      "\tTransformerBlock_1/MLP:\n",
      "\tDropout layer output(TransformerBlock_1/MLP/dropout) shape: [1, 250, 384]\n",
      "\tDense layer output(TransformerBlock_1/MLP/dense_1) shape: [1, 250, 384]\n",
      "\tDense layer output(TransformerBlock_1/MLP/dense_0) shape: [1, 250, 1536]\n",
      "\tTransformerBlock_1/multihead_attention:\n",
      "\tDropout layer output(TransformerBlock_1/multihead_attention/dropout) shape: [1, 250, 384]\n",
      "\tDense layer output(TransformerBlock_1/multihead_attention/dense_1) shape: [1, 250, 384]\n",
      "\tTransformerBlock_1/multihead_attention/attention:\n",
      "\tDropout layer output(TransformerBlock_1/multihead_attention/attention/dropout) shape: [1, 6, 250, 250]\n",
      "\tTransformerBlock_1/multihead_attention/qkv_block:\n",
      "\tDense layer output(TransformerBlock_1/multihead_attention/qkv_block/dense_v) shape: [1, 250, 384]\n",
      "\tDense layer output(TransformerBlock_1/multihead_attention/qkv_block/dense_k) shape: [1, 250, 384]\n",
      "\tDense layer output(TransformerBlock_1/multihead_attention/qkv_block/dense_q) shape: [1, 250, 384]\n",
      "TransformerBlock_0:\n",
      "\tTransformerBlock_0/MLP:\n",
      "\tDropout layer output(TransformerBlock_0/MLP/dropout) shape: [1, 250, 384]\n",
      "\tDense layer output(TransformerBlock_0/MLP/dense_1) shape: [1, 250, 384]\n",
      "\tDense layer output(TransformerBlock_0/MLP/dense_0) shape: [1, 250, 1536]\n",
      "\tTransformerBlock_0/multihead_attention:\n",
      "\tDropout layer output(TransformerBlock_0/multihead_attention/dropout) shape: [1, 250, 384]\n",
      "\tDense layer output(TransformerBlock_0/multihead_attention/dense_1) shape: [1, 250, 384]\n",
      "\tTransformerBlock_0/multihead_attention/attention:\n",
      "\tDropout layer output(TransformerBlock_0/multihead_attention/attention/dropout) shape: [1, 6, 250, 250]\n",
      "\tTransformerBlock_0/multihead_attention/qkv_block:\n",
      "\tDense layer output(TransformerBlock_0/multihead_attention/qkv_block/dense_v) shape: [1, 250, 384]\n",
      "\tDense layer output(TransformerBlock_0/multihead_attention/qkv_block/dense_k) shape: [1, 250, 384]\n",
      "\tDense layer output(TransformerBlock_0/multihead_attention/qkv_block/dense_q) shape: [1, 250, 384]\n",
      "PositionalEncodingBlock:\n",
      "\tDropout layer output(PositionalEncodingBlock/dropout) shape: [1, 250, 384]\n",
      "\tPositional encoding layer output(PositionalEncodingBlock/positional_enc_layer) shape: [1, 250, 384]\n",
      "Embedding layer output(EmbeddingLayer) shape: [1, 250, 384]\n",
      "---------------------------------------------------------------------------\n"
     ]
    },
    {
     "name": "stdout",
     "output_type": "stream",
     "text": [
      "Tensor(\"Reshape_32:0\", shape=(64, 250), dtype=float32)\n"
     ]
    },
    {
     "name": "stdout",
     "output_type": "stream",
     "text": [
      "Tensor(\"Reshape_32:0\", shape=(64, 250), dtype=float32)\n"
     ]
    },
    {
     "name": "stderr",
     "output_type": "stream",
     "text": [
      "WARNING: All log messages before absl::InitializeLog() is called are written to STDERR\n",
      "I0000 00:00:1747190013.659281     715 service.cc:145] XLA service 0x7bb4c8ce8800 initialized for platform CUDA (this does not guarantee that XLA will be used). Devices:\n",
      "I0000 00:00:1747190013.659323     715 service.cc:153]   StreamExecutor device (0): NVIDIA L4, Compute Capability 8.9\n"
     ]
    },
    {
     "name": "stderr",
     "output_type": "stream",
     "text": [
      "2025-05-14 02:33:34.143559: I tensorflow/compiler/mlir/tensorflow/utils/dump_mlir_util.cc:268] disabling MLIR crash reproducer, set env var `MLIR_CRASH_REPRODUCER_DIRECTORY` to enable.\n"
     ]
    },
    {
     "name": "stderr",
     "output_type": "stream",
     "text": [
      "2025-05-14 02:33:34.952785: I external/local_xla/xla/stream_executor/cuda/cuda_dnn.cc:465] Loaded cuDNN version 90400\n"
     ]
    },
    {
     "name": "stderr",
     "output_type": "stream",
     "text": [
      "I0000 00:00:1747190015.809923     715 device_compiler.h:188] Compiled cluster using XLA!  This line is logged at most once for the lifetime of the process.\n"
     ]
    },
    {
     "name": "stdout",
     "output_type": "stream",
     "text": [
      "Tensor(\"Reshape_32:0\", shape=(64, 250), dtype=float32)\n"
     ]
    },
    {
     "name": "stdout",
     "output_type": "stream",
     "text": [
      "Epoch 1: Training Loss = 3.1157, Validation Loss = 3.0936, Validation Accuracy = 0.1931\n",
      "Epoch 1/28 took 115.6613 seconds\n"
     ]
    },
    {
     "name": "stdout",
     "output_type": "stream",
     "text": [
      "Epoch 2: Training Loss = 2.7785, Validation Loss = 2.6051, Validation Accuracy = 0.2723\n",
      "Epoch 2/28 took 79.1418 seconds\n"
     ]
    },
    {
     "name": "stdout",
     "output_type": "stream",
     "text": [
      "Epoch 3: Training Loss = 2.4560, Validation Loss = 2.4684, Validation Accuracy = 0.2976\n",
      "Epoch 3/28 took 79.1192 seconds\n"
     ]
    },
    {
     "name": "stdout",
     "output_type": "stream",
     "text": [
      "Epoch 4: Training Loss = 2.2298, Validation Loss = 2.1656, Validation Accuracy = 0.3834\n",
      "Epoch 4/28 took 79.1173 seconds\n"
     ]
    },
    {
     "name": "stdout",
     "output_type": "stream",
     "text": [
      "Epoch 5: Training Loss = 1.9935, Validation Loss = 1.9192, Validation Accuracy = 0.4517\n",
      "Epoch 5/28 took 79.1038 seconds\n"
     ]
    },
    {
     "name": "stdout",
     "output_type": "stream",
     "text": [
      "Epoch 6: Training Loss = 1.7722, Validation Loss = 1.7697, Validation Accuracy = 0.4926\n",
      "Epoch 6/28 took 79.1074 seconds\n"
     ]
    },
    {
     "name": "stdout",
     "output_type": "stream",
     "text": [
      "Epoch 7: Training Loss = 1.6173, Validation Loss = 1.6612, Validation Accuracy = 0.5194\n",
      "Epoch 7/28 took 79.1071 seconds\n"
     ]
    },
    {
     "name": "stdout",
     "output_type": "stream",
     "text": [
      "Epoch 8: Training Loss = 1.5149, Validation Loss = 1.5765, Validation Accuracy = 0.5387\n",
      "Epoch 8/28 took 79.1150 seconds\n"
     ]
    },
    {
     "name": "stdout",
     "output_type": "stream",
     "text": [
      "Epoch 9: Training Loss = 1.4438, Validation Loss = 1.5289, Validation Accuracy = 0.5542\n",
      "Epoch 9/28 took 79.1106 seconds\n"
     ]
    },
    {
     "name": "stdout",
     "output_type": "stream",
     "text": [
      "Epoch 10: Training Loss = 1.3932, Validation Loss = 1.4858, Validation Accuracy = 0.5618\n",
      "Epoch 10/28 took 79.1011 seconds\n"
     ]
    },
    {
     "name": "stdout",
     "output_type": "stream",
     "text": [
      "Epoch 11: Training Loss = 1.3533, Validation Loss = 1.4514, Validation Accuracy = 0.5731\n",
      "Epoch 11/28 took 79.1210 seconds\n"
     ]
    },
    {
     "name": "stdout",
     "output_type": "stream",
     "text": [
      "Epoch 12: Training Loss = 1.3210, Validation Loss = 1.4281, Validation Accuracy = 0.5787\n",
      "Epoch 12/28 took 79.1032 seconds\n"
     ]
    },
    {
     "name": "stdout",
     "output_type": "stream",
     "text": [
      "Epoch 13: Training Loss = 1.2936, Validation Loss = 1.3983, Validation Accuracy = 0.5854\n",
      "Epoch 13/28 took 79.1033 seconds\n"
     ]
    },
    {
     "name": "stdout",
     "output_type": "stream",
     "text": [
      "Epoch 14: Training Loss = 1.2685, Validation Loss = 1.3792, Validation Accuracy = 0.5878\n",
      "Epoch 14/28 took 79.1269 seconds\n"
     ]
    },
    {
     "name": "stdout",
     "output_type": "stream",
     "text": [
      "Epoch 15: Training Loss = 1.2482, Validation Loss = 1.3760, Validation Accuracy = 0.5922\n",
      "Epoch 15/28 took 79.0998 seconds\n"
     ]
    },
    {
     "name": "stdout",
     "output_type": "stream",
     "text": [
      "Epoch 16: Training Loss = 1.2309, Validation Loss = 1.3559, Validation Accuracy = 0.5970\n",
      "Epoch 16/28 took 79.1081 seconds\n"
     ]
    },
    {
     "name": "stdout",
     "output_type": "stream",
     "text": [
      "Epoch 17: Training Loss = 1.2172, Validation Loss = 1.3511, Validation Accuracy = 0.5996\n",
      "Epoch 17/28 took 79.0827 seconds\n"
     ]
    },
    {
     "name": "stdout",
     "output_type": "stream",
     "text": [
      "Epoch 18: Training Loss = 1.2016, Validation Loss = 1.3327, Validation Accuracy = 0.6024\n",
      "Epoch 18/28 took 79.1128 seconds\n"
     ]
    },
    {
     "name": "stdout",
     "output_type": "stream",
     "text": [
      "Epoch 19: Training Loss = 1.1892, Validation Loss = 1.3189, Validation Accuracy = 0.6064\n",
      "Epoch 19/28 took 79.1256 seconds\n"
     ]
    },
    {
     "name": "stdout",
     "output_type": "stream",
     "text": [
      "Epoch 20: Training Loss = 1.1774, Validation Loss = 1.3172, Validation Accuracy = 0.6087\n",
      "Epoch 20/28 took 79.0716 seconds\n"
     ]
    },
    {
     "name": "stdout",
     "output_type": "stream",
     "text": [
      "Epoch 21: Training Loss = 1.1656, Validation Loss = 1.3058, Validation Accuracy = 0.6119\n",
      "Epoch 21/28 took 79.1078 seconds\n"
     ]
    },
    {
     "name": "stdout",
     "output_type": "stream",
     "text": [
      "Epoch 22: Training Loss = 1.1569, Validation Loss = 1.3024, Validation Accuracy = 0.6130\n",
      "Epoch 22/28 took 79.1080 seconds\n"
     ]
    },
    {
     "name": "stdout",
     "output_type": "stream",
     "text": [
      "Epoch 23: Training Loss = 1.1463, Validation Loss = 1.2966, Validation Accuracy = 0.6152\n",
      "Epoch 23/28 took 79.1012 seconds\n"
     ]
    },
    {
     "name": "stdout",
     "output_type": "stream",
     "text": [
      "Epoch 24: Training Loss = 1.1389, Validation Loss = 1.2942, Validation Accuracy = 0.6177\n",
      "Epoch 24/28 took 79.1190 seconds\n"
     ]
    },
    {
     "name": "stdout",
     "output_type": "stream",
     "text": [
      "Epoch 25: Training Loss = 1.1300, Validation Loss = 1.2857, Validation Accuracy = 0.6198\n",
      "Epoch 25/28 took 79.1065 seconds\n"
     ]
    },
    {
     "name": "stdout",
     "output_type": "stream",
     "text": [
      "Epoch 26: Training Loss = 1.1206, Validation Loss = 1.2875, Validation Accuracy = 0.6179\n",
      "Epoch 26/28 took 79.1144 seconds\n"
     ]
    },
    {
     "name": "stdout",
     "output_type": "stream",
     "text": [
      "Epoch 27: Training Loss = 1.1131, Validation Loss = 1.2714, Validation Accuracy = 0.6211\n",
      "Epoch 27/28 took 79.1067 seconds\n"
     ]
    },
    {
     "name": "stdout",
     "output_type": "stream",
     "text": [
      "Epoch 28: Training Loss = 1.1048, Validation Loss = 1.2668, Validation Accuracy = 0.6225\n",
      "Epoch 28/28 took 79.1223 seconds\n",
      "Finished training after 28 epochs!\n"
     ]
    }
   ],
   "source": [
    "# Load the document and create the char2ind map\n",
    "corpus, vocab = load_document(path2data = 'data/LOTR.txt')\n",
    "char2ind_map = make_char2ind_map(vocab)\n",
    "\n",
    "# Define sequence and labels\n",
    "seq_len = 250\n",
    "seqs, labels = make_seqs_and_labels(corpus, char2ind_map, seq_len=seq_len)\n",
    "\n",
    "# Add padding character to the char2ind map\n",
    "padding_char = '#'\n",
    "next_available_index = len(char2ind_map)\n",
    "char2ind_map[padding_char] = next_available_index\n",
    "\n",
    "# Split data\n",
    "seqs_train, seqs_val = seqs[200:], seqs[:200]\n",
    "labels_train, labels_val = labels[200:], labels[:200]\n",
    "\n",
    "# Set vocab size and padding character encoding\n",
    "vocab_sz = len(char2ind_map)\n",
    "padding_char_enc = char2ind_map['#']\n",
    "\n",
    "# Train\n",
    "minigpt = GPTMini6(vocab_sz=vocab_sz, seq_len=seq_len, padding_char_enc=padding_char_enc)\n",
    "minigpt.compile(loss='temporal_cross_entropy')\n",
    "train_loss_hist, val_loss_hist, _, _ = minigpt.fit(seqs_train, labels_train, seqs_val, labels_val, batch_size=64, patience=15, max_epochs=28, lr_max_decays=3, lr_patience=9)"
   ]
  },
  {
   "cell_type": "code",
   "execution_count": 5,
   "id": "90e187",
   "metadata": {
    "collapsed": false
   },
   "outputs": [
    {
     "data": {
      "image/png": "[encoded data removed]",
      "text/plain": [
       "<Figure size 640x480 with 1 Axes>"
      ]
     },
     "execution_count": 5,
     "metadata": {
     },
     "output_type": "execute_result"
    }
   ],
   "source": [
    "epochs = np.arange(len(train_loss_hist))\n",
    "plt.plot(epochs, train_loss_hist, label = \"train loss\")\n",
    "plt.plot(epochs, val_loss_hist, label = \"train loss\")\n",
    "plt.title(\"train and val loss of gptmini6 on lotr\")\n",
    "plt.xlabel(\"epochs\")\n",
    "plt.ylabel(\"loss\")\n",
    "plt.legend()\n",
    "plt.show()"
   ]
  },
  {
   "cell_type": "markdown",
   "id": "367982",
   "metadata": {
    "collapsed": false
   },
   "source": [
    "I would have liked to train this longer but it kept crashing from storage issues or something,maybe smaller batch size would have helped"
   ]
  },
  {
   "cell_type": "code",
   "execution_count": 6,
   "id": "f6c220",
   "metadata": {
    "collapsed": false,
    "scrolled": true
   },
   "outputs": [
    {
     "name": "stdout",
     "output_type": "stream",
     "text": [
      "When first the dawning breath of spring awoke, I saw "
     ]
    },
    {
     "name": "stdout",
     "output_type": "stream",
     "text": [
      "you "
     ]
    },
    {
     "name": "stdout",
     "output_type": "stream",
     "text": [
      "spe"
     ]
    },
    {
     "name": "stdout",
     "output_type": "stream",
     "text": [
      "akin"
     ]
    },
    {
     "name": "stdout",
     "output_type": "stream",
     "text": [
      "g Fr"
     ]
    },
    {
     "name": "stdout",
     "output_type": "stream",
     "text": [
      "odo "
     ]
    },
    {
     "name": "stdout",
     "output_type": "stream",
     "text": [
      "comm"
     ]
    },
    {
     "name": "stdout",
     "output_type": "stream",
     "text": [
      "and"
     ]
    },
    {
     "name": "stdout",
     "output_type": "stream",
     "text": [
      " to "
     ]
    },
    {
     "name": "stdout",
     "output_type": "stream",
     "text": [
      "Mina"
     ]
    },
    {
     "name": "stdout",
     "output_type": "stream",
     "text": [
      "s Ti"
     ]
    },
    {
     "name": "stdout",
     "output_type": "stream",
     "text": [
      "rith"
     ]
    },
    {
     "name": "stdout",
     "output_type": "stream",
     "text": [
      ". It"
     ]
    },
    {
     "name": "stdout",
     "output_type": "stream",
     "text": [
      " is "
     ]
    },
    {
     "name": "stdout",
     "output_type": "stream",
     "text": [
      "said"
     ]
    },
    {
     "name": "stdout",
     "output_type": "stream",
     "text": [
      " not"
     ]
    },
    {
     "name": "stdout",
     "output_type": "stream",
     "text": [
      "hing"
     ]
    },
    {
     "name": "stdout",
     "output_type": "stream",
     "text": [
      "; bu"
     ]
    },
    {
     "name": "stdout",
     "output_type": "stream",
     "text": [
      "t so"
     ]
    },
    {
     "name": "stdout",
     "output_type": "stream",
     "text": [
      " he "
     ]
    },
    {
     "name": "stdout",
     "output_type": "stream",
     "text": [
      "did "
     ]
    },
    {
     "name": "stdout",
     "output_type": "stream",
     "text": [
      "not "
     ]
    },
    {
     "name": "stdout",
     "output_type": "stream",
     "text": [
      "find"
     ]
    },
    {
     "name": "stdout",
     "output_type": "stream",
     "text": [
      ". It"
     ]
    },
    {
     "name": "stdout",
     "output_type": "stream",
     "text": [
      " was"
     ]
    },
    {
     "name": "stdout",
     "output_type": "stream",
     "text": [
      " a "
     ]
    },
    {
     "name": "stdout",
     "output_type": "stream",
     "text": [
      "figh"
     ]
    },
    {
     "name": "stdout",
     "output_type": "stream",
     "text": [
      "t st"
     ]
    },
    {
     "name": "stdout",
     "output_type": "stream",
     "text": [
      "rang"
     ]
    },
    {
     "name": "stdout",
     "output_type": "stream",
     "text": [
      "e ch"
     ]
    },
    {
     "name": "stdout",
     "output_type": "stream",
     "text": [
      "anc"
     ]
    },
    {
     "name": "stdout",
     "output_type": "stream",
     "text": [
      "e.'\n"
     ]
    },
    {
     "name": "stdout",
     "output_type": "stream",
     "text": [
      "   "
     ]
    },
    {
     "name": "stdout",
     "output_type": "stream",
     "text": [
      " Sha"
     ]
    },
    {
     "name": "stdout",
     "output_type": "stream",
     "text": [
      "grat"
     ]
    },
    {
     "name": "stdout",
     "output_type": "stream",
     "text": [
      " ask"
     ]
    },
    {
     "name": "stdout",
     "output_type": "stream",
     "text": [
      "ed i"
     ]
    },
    {
     "name": "stdout",
     "output_type": "stream",
     "text": [
      "t wi"
     ]
    },
    {
     "name": "stdout",
     "output_type": "stream",
     "text": [
      "th a"
     ]
    },
    {
     "name": "stdout",
     "output_type": "stream",
     "text": [
      " gre"
     ]
    },
    {
     "name": "stdout",
     "output_type": "stream",
     "text": [
      "y cr"
     ]
    },
    {
     "name": "stdout",
     "output_type": "stream",
     "text": [
      "y, f"
     ]
    },
    {
     "name": "stdout",
     "output_type": "stream",
     "text": [
      "or s"
     ]
    },
    {
     "name": "stdout",
     "output_type": "stream",
     "text": [
      "ome "
     ]
    },
    {
     "name": "stdout",
     "output_type": "stream",
     "text": [
      "stra"
     ]
    },
    {
     "name": "stdout",
     "output_type": "stream",
     "text": [
      "nge "
     ]
    },
    {
     "name": "stdout",
     "output_type": "stream",
     "text": [
      "wet,"
     ]
    },
    {
     "name": "stdout",
     "output_type": "stream",
     "text": [
      " had"
     ]
    },
    {
     "name": "stdout",
     "output_type": "stream",
     "text": [
      " sli"
     ]
    },
    {
     "name": "stdout",
     "output_type": "stream",
     "text": [
      "pped"
     ]
    },
    {
     "name": "stdout",
     "output_type": "stream",
     "text": [
      " in "
     ]
    },
    {
     "name": "stdout",
     "output_type": "stream",
     "text": [
      "clou"
     ]
    },
    {
     "name": "stdout",
     "output_type": "stream",
     "text": [
      "d, a"
     ]
    },
    {
     "name": "stdout",
     "output_type": "stream",
     "text": [
      "nd S"
     ]
    },
    {
     "name": "stdout",
     "output_type": "stream",
     "text": [
      "am d"
     ]
    },
    {
     "name": "stdout",
     "output_type": "stream",
     "text": [
      "id n"
     ]
    },
    {
     "name": "stdout",
     "output_type": "stream",
     "text": [
      "ot k"
     ]
    },
    {
     "name": "stdout",
     "output_type": "stream",
     "text": [
      "now "
     ]
    },
    {
     "name": "stdout",
     "output_type": "stream",
     "text": [
      "that"
     ]
    },
    {
     "name": "stdout",
     "output_type": "stream",
     "text": [
      " he "
     ]
    },
    {
     "name": "stdout",
     "output_type": "stream",
     "text": [
      "did "
     ]
    },
    {
     "name": "stdout",
     "output_type": "stream",
     "text": [
      "not "
     ]
    },
    {
     "name": "stdout",
     "output_type": "stream",
     "text": [
      "call"
     ]
    },
    {
     "name": "stdout",
     "output_type": "stream",
     "text": [
      "ed t"
     ]
    },
    {
     "name": "stdout",
     "output_type": "stream",
     "text": [
      "hem "
     ]
    },
    {
     "name": "stdout",
     "output_type": "stream",
     "text": [
      "like"
     ]
    },
    {
     "name": "stdout",
     "output_type": "stream",
     "text": [
      " a s"
     ]
    },
    {
     "name": "stdout",
     "output_type": "stream",
     "text": [
      "oft "
     ]
    },
    {
     "name": "stdout",
     "output_type": "stream",
     "text": [
      "dark"
     ]
    },
    {
     "name": "stdout",
     "output_type": "stream",
     "text": [
      " fir"
     ]
    },
    {
     "name": "stdout",
     "output_type": "stream",
     "text": [
      "e; a"
     ]
    },
    {
     "name": "stdout",
     "output_type": "stream",
     "text": [
      "ll t"
     ]
    },
    {
     "name": "stdout",
     "output_type": "stream",
     "text": [
      "he a"
     ]
    },
    {
     "name": "stdout",
     "output_type": "stream",
     "text": [
      "fter"
     ]
    },
    {
     "name": "stdout",
     "output_type": "stream",
     "text": [
      "noon"
     ]
    },
    {
     "name": "stdout",
     "output_type": "stream",
     "text": [
      " was"
     ]
    },
    {
     "name": "stdout",
     "output_type": "stream",
     "text": [
      " so "
     ]
    },
    {
     "name": "stdout",
     "output_type": "stream",
     "text": [
      "desi"
     ]
    },
    {
     "name": "stdout",
     "output_type": "stream",
     "text": [
      "re; "
     ]
    },
    {
     "name": "stdout",
     "output_type": "stream",
     "text": [
      "and "
     ]
    },
    {
     "name": "stdout",
     "output_type": "stream",
     "text": [
      "heed"
     ]
    },
    {
     "name": "stdout",
     "output_type": "stream",
     "text": [
      "less"
     ]
    },
    {
     "name": "stdout",
     "output_type": "stream",
     "text": [
      " blo"
     ]
    },
    {
     "name": "stdout",
     "output_type": "stream",
     "text": [
      "w fo"
     ]
    },
    {
     "name": "stdout",
     "output_type": "stream",
     "text": [
      "r a "
     ]
    },
    {
     "name": "stdout",
     "output_type": "stream",
     "text": [
      "frag"
     ]
    },
    {
     "name": "stdout",
     "output_type": "stream",
     "text": [
      "ment"
     ]
    },
    {
     "name": "stdout",
     "output_type": "stream",
     "text": [
      " whi"
     ]
    },
    {
     "name": "stdout",
     "output_type": "stream",
     "text": [
      "le a"
     ]
    },
    {
     "name": "stdout",
     "output_type": "stream",
     "text": [
      "ll t"
     ]
    },
    {
     "name": "stdout",
     "output_type": "stream",
     "text": [
      "he g"
     ]
    },
    {
     "name": "stdout",
     "output_type": "stream",
     "text": [
      "reat"
     ]
    },
    {
     "name": "stdout",
     "output_type": "stream",
     "text": [
      " hal"
     ]
    },
    {
     "name": "stdout",
     "output_type": "stream",
     "text": [
      "l to"
     ]
    },
    {
     "name": "stdout",
     "output_type": "stream",
     "text": [
      "ne "
     ]
    },
    {
     "name": "stdout",
     "output_type": "stream",
     "text": [
      "woul"
     ]
    },
    {
     "name": "stdout",
     "output_type": "stream",
     "text": [
      "d be"
     ]
    },
    {
     "name": "stdout",
     "output_type": "stream",
     "text": [
      " ful"
     ]
    },
    {
     "name": "stdout",
     "output_type": "stream",
     "text": [
      "l of"
     ]
    },
    {
     "name": "stdout",
     "output_type": "stream",
     "text": [
      " his"
     ]
    },
    {
     "name": "stdout",
     "output_type": "stream",
     "text": [
      " own"
     ]
    },
    {
     "name": "stdout",
     "output_type": "stream",
     "text": [
      " hou"
     ]
    },
    {
     "name": "stdout",
     "output_type": "stream",
     "text": [
      "se t"
     ]
    },
    {
     "name": "stdout",
     "output_type": "stream",
     "text": [
      "o b"
     ]
    },
    {
     "name": "stdout",
     "output_type": "stream",
     "text": [
      "eat "
     ]
    },
    {
     "name": "stdout",
     "output_type": "stream",
     "text": [
      "or h"
     ]
    },
    {
     "name": "stdout",
     "output_type": "stream",
     "text": [
      "is s"
     ]
    },
    {
     "name": "stdout",
     "output_type": "stream",
     "text": [
      "ide."
     ]
    },
    {
     "name": "stdout",
     "output_type": "stream",
     "text": [
      " The"
     ]
    },
    {
     "name": "stdout",
     "output_type": "stream",
     "text": [
      " upp"
     ]
    },
    {
     "name": "stdout",
     "output_type": "stream",
     "text": [
      "er g"
     ]
    },
    {
     "name": "stdout",
     "output_type": "stream",
     "text": [
      "rowt"
     ]
    },
    {
     "name": "stdout",
     "output_type": "stream",
     "text": [
      "h fe"
     ]
    },
    {
     "name": "stdout",
     "output_type": "stream",
     "text": [
      "rn, "
     ]
    },
    {
     "name": "stdout",
     "output_type": "stream",
     "text": [
      "ladd"
     ]
    },
    {
     "name": "stdout",
     "output_type": "stream",
     "text": [
      "er b"
     ]
    },
    {
     "name": "stdout",
     "output_type": "stream",
     "text": [
      "roa"
     ]
    },
    {
     "name": "stdout",
     "output_type": "stream",
     "text": [
      "der"
     ]
    },
    {
     "name": "stdout",
     "output_type": "stream",
     "text": [
      ", sa"
     ]
    },
    {
     "name": "stdout",
     "output_type": "stream",
     "text": [
      "ve a"
     ]
    },
    {
     "name": "stdout",
     "output_type": "stream",
     "text": [
      "nd f"
     ]
    },
    {
     "name": "stdout",
     "output_type": "stream",
     "text": [
      "uge "
     ]
    },
    {
     "name": "stdout",
     "output_type": "stream",
     "text": [
      "down"
     ]
    },
    {
     "name": "stdout",
     "output_type": "stream",
     "text": [
      " up "
     ]
    },
    {
     "name": "stdout",
     "output_type": "stream",
     "text": [
      "the "
     ]
    },
    {
     "name": "stdout",
     "output_type": "stream",
     "text": [
      "wate"
     ]
    },
    {
     "name": "stdout",
     "output_type": "stream",
     "text": [
      "rs, "
     ]
    },
    {
     "name": "stdout",
     "output_type": "stream",
     "text": [
      "and "
     ]
    },
    {
     "name": "stdout",
     "output_type": "stream",
     "text": [
      "gazi"
     ]
    },
    {
     "name": "stdout",
     "output_type": "stream",
     "text": [
      "ng w"
     ]
    },
    {
     "name": "stdout",
     "output_type": "stream",
     "text": [
      "itho"
     ]
    },
    {
     "name": "stdout",
     "output_type": "stream",
     "text": [
      "ut s"
     ]
    },
    {
     "name": "stdout",
     "output_type": "stream",
     "text": [
      "ecre"
     ]
    },
    {
     "name": "stdout",
     "output_type": "stream",
     "text": [
      "ted "
     ]
    },
    {
     "name": "stdout",
     "output_type": "stream",
     "text": [
      "and "
     ]
    },
    {
     "name": "stdout",
     "output_type": "stream",
     "text": [
      "gone"
     ]
    },
    {
     "name": "stdout",
     "output_type": "stream",
     "text": [
      ".\n",
      "  "
     ]
    },
    {
     "name": "stdout",
     "output_type": "stream",
     "text": [
      "   "
     ]
    },
    {
     "name": "stdout",
     "output_type": "stream",
     "text": [
      "Sam'"
     ]
    },
    {
     "name": "stdout",
     "output_type": "stream",
     "text": [
      "s he"
     ]
    },
    {
     "name": "stdout",
     "output_type": "stream",
     "text": [
      "ad w"
     ]
    },
    {
     "name": "stdout",
     "output_type": "stream",
     "text": [
      "as a"
     ]
    },
    {
     "name": "stdout",
     "output_type": "stream",
     "text": [
      "cros"
     ]
    },
    {
     "name": "stdout",
     "output_type": "stream",
     "text": [
      "s th"
     ]
    },
    {
     "name": "stdout",
     "output_type": "stream",
     "text": [
      "e wi"
     ]
    },
    {
     "name": "stdout",
     "output_type": "stream",
     "text": [
      "zar"
     ]
    },
    {
     "name": "stdout",
     "output_type": "stream",
     "text": [
      "d's "
     ]
    },
    {
     "name": "stdout",
     "output_type": "stream",
     "text": [
      "effo"
     ]
    },
    {
     "name": "stdout",
     "output_type": "stream",
     "text": [
      "rt h"
     ]
    },
    {
     "name": "stdout",
     "output_type": "stream",
     "text": [
      "alf "
     ]
    },
    {
     "name": "stdout",
     "output_type": "stream",
     "text": [
      "for "
     ]
    },
    {
     "name": "stdout",
     "output_type": "stream",
     "text": [
      "a lo"
     ]
    },
    {
     "name": "stdout",
     "output_type": "stream",
     "text": [
      "ng s"
     ]
    },
    {
     "name": "stdout",
     "output_type": "stream",
     "text": [
      "Frod"
     ]
    },
    {
     "name": "stdout",
     "output_type": "stream",
     "text": [
      "o's "
     ]
    },
    {
     "name": "stdout",
     "output_type": "stream",
     "text": [
      "spur"
     ]
    },
    {
     "name": "stdout",
     "output_type": "stream",
     "text": [
      ". Th"
     ]
    },
    {
     "name": "stdout",
     "output_type": "stream",
     "text": [
      "ere "
     ]
    },
    {
     "name": "stdout",
     "output_type": "stream",
     "text": [
      "was "
     ]
    },
    {
     "name": "stdout",
     "output_type": "stream",
     "text": [
      "a wo"
     ]
    },
    {
     "name": "stdout",
     "output_type": "stream",
     "text": [
      "oden"
     ]
    },
    {
     "name": "stdout",
     "output_type": "stream",
     "text": [
      " hob"
     ]
    },
    {
     "name": "stdout",
     "output_type": "stream",
     "text": [
      "bit "
     ]
    },
    {
     "name": "stdout",
     "output_type": "stream",
     "text": [
      "that"
     ]
    },
    {
     "name": "stdout",
     "output_type": "stream",
     "text": [
      " too"
     ]
    },
    {
     "name": "stdout",
     "output_type": "stream",
     "text": [
      "k t"
     ]
    },
    {
     "name": "stdout",
     "output_type": "stream",
     "text": [
      "he l"
     ]
    },
    {
     "name": "stdout",
     "output_type": "stream",
     "text": [
      "east"
     ]
    },
    {
     "name": "stdout",
     "output_type": "stream",
     "text": [
      " win"
     ]
    },
    {
     "name": "stdout",
     "output_type": "stream",
     "text": [
      "gs o"
     ]
    },
    {
     "name": "stdout",
     "output_type": "stream",
     "text": [
      "f re"
     ]
    },
    {
     "name": "stdout",
     "output_type": "stream",
     "text": [
      "scue"
     ]
    },
    {
     "name": "stdout",
     "output_type": "stream",
     "text": [
      "l, a"
     ]
    },
    {
     "name": "stdout",
     "output_type": "stream",
     "text": [
      "nd b"
     ]
    },
    {
     "name": "stdout",
     "output_type": "stream",
     "text": [
      "etwe"
     ]
    },
    {
     "name": "stdout",
     "output_type": "stream",
     "text": [
      "en t"
     ]
    },
    {
     "name": "stdout",
     "output_type": "stream",
     "text": [
      "he W"
     ]
    },
    {
     "name": "stdout",
     "output_type": "stream",
     "text": [
      "est "
     ]
    },
    {
     "name": "stdout",
     "output_type": "stream",
     "text": [
      "Took"
     ]
    },
    {
     "name": "stdout",
     "output_type": "stream",
     "text": [
      "-El"
     ]
    },
    {
     "name": "stdout",
     "output_type": "stream",
     "text": [
      "ven'"
     ]
    },
    {
     "name": "stdout",
     "output_type": "stream",
     "text": [
      "s go"
     ]
    },
    {
     "name": "stdout",
     "output_type": "stream",
     "text": [
      "od-b"
     ]
    },
    {
     "name": "stdout",
     "output_type": "stream",
     "text": [
      "ye t"
     ]
    },
    {
     "name": "stdout",
     "output_type": "stream",
     "text": [
      "ime."
     ]
    },
    {
     "name": "stdout",
     "output_type": "stream",
     "text": [
      " The"
     ]
    },
    {
     "name": "stdout",
     "output_type": "stream",
     "text": [
      "ns n"
     ]
    },
    {
     "name": "stdout",
     "output_type": "stream",
     "text": [
      "ow g"
     ]
    },
    {
     "name": "stdout",
     "output_type": "stream",
     "text": [
      "ave "
     ]
    },
    {
     "name": "stdout",
     "output_type": "stream",
     "text": [
      "no l"
     ]
    },
    {
     "name": "stdout",
     "output_type": "stream",
     "text": [
      "onge"
     ]
    },
    {
     "name": "stdout",
     "output_type": "stream",
     "text": [
      "r of"
     ]
    },
    {
     "name": "stdout",
     "output_type": "stream",
     "text": [
      " lis"
     ]
    },
    {
     "name": "stdout",
     "output_type": "stream",
     "text": [
      "teni"
     ]
    },
    {
     "name": "stdout",
     "output_type": "stream",
     "text": [
      "ng i"
     ]
    },
    {
     "name": "stdout",
     "output_type": "stream",
     "text": [
      "n th"
     ]
    },
    {
     "name": "stdout",
     "output_type": "stream",
     "text": [
      "is w"
     ]
    },
    {
     "name": "stdout",
     "output_type": "stream",
     "text": [
      "ar t"
     ]
    },
    {
     "name": "stdout",
     "output_type": "stream",
     "text": [
      "han"
     ]
    },
    {
     "name": "stdout",
     "output_type": "stream",
     "text": [
      " we "
     ]
    },
    {
     "name": "stdout",
     "output_type": "stream",
     "text": [
      "wish"
     ]
    },
    {
     "name": "stdout",
     "output_type": "stream",
     "text": [
      ". Bu"
     ]
    },
    {
     "name": "stdout",
     "output_type": "stream",
     "text": [
      "t be"
     ]
    },
    {
     "name": "stdout",
     "output_type": "stream",
     "text": [
      "yond"
     ]
    },
    {
     "name": "stdout",
     "output_type": "stream",
     "text": [
      " Min"
     ]
    },
    {
     "name": "stdout",
     "output_type": "stream",
     "text": [
      "as T"
     ]
    },
    {
     "name": "stdout",
     "output_type": "stream",
     "text": [
      "irit"
     ]
    },
    {
     "name": "stdout",
     "output_type": "stream",
     "text": [
      "h Un"
     ]
    },
    {
     "name": "stdout",
     "output_type": "stream",
     "text": [
      "derh"
     ]
    },
    {
     "name": "stdout",
     "output_type": "stream",
     "text": [
      "ill "
     ]
    },
    {
     "name": "stdout",
     "output_type": "stream",
     "text": [
      "less"
     ]
    },
    {
     "name": "stdout",
     "output_type": "stream",
     "text": [
      " in "
     ]
    },
    {
     "name": "stdout",
     "output_type": "stream",
     "text": [
      "Ort"
     ]
    },
    {
     "name": "stdout",
     "output_type": "stream",
     "text": [
      "hanc"
     ]
    },
    {
     "name": "stdout",
     "output_type": "stream",
     "text": [
      ", bu"
     ]
    },
    {
     "name": "stdout",
     "output_type": "stream",
     "text": [
      "t yo"
     ]
    },
    {
     "name": "stdout",
     "output_type": "stream",
     "text": [
      "u fr"
     ]
    },
    {
     "name": "stdout",
     "output_type": "stream",
     "text": [
      "iend"
     ]
    },
    {
     "name": "stdout",
     "output_type": "stream",
     "text": [
      "s ha"
     ]
    },
    {
     "name": "stdout",
     "output_type": "stream",
     "text": [
      "ve w"
     ]
    },
    {
     "name": "stdout",
     "output_type": "stream",
     "text": [
      "ans"
     ]
    },
    {
     "name": "stdout",
     "output_type": "stream",
     "text": [
      " thi"
     ]
    },
    {
     "name": "stdout",
     "output_type": "stream",
     "text": [
      "ngs "
     ]
    },
    {
     "name": "stdout",
     "output_type": "stream",
     "text": [
      "that"
     ]
    },
    {
     "name": "stdout",
     "output_type": "stream",
     "text": [
      " cou"
     ]
    },
    {
     "name": "stdout",
     "output_type": "stream",
     "text": [
      "ld m"
     ]
    },
    {
     "name": "stdout",
     "output_type": "stream",
     "text": [
      "ust "
     ]
    },
    {
     "name": "stdout",
     "output_type": "stream",
     "text": [
      "ligh"
     ]
    },
    {
     "name": "stdout",
     "output_type": "stream",
     "text": [
      "tly "
     ]
    },
    {
     "name": "stdout",
     "output_type": "stream",
     "text": [
      "be a"
     ]
    },
    {
     "name": "stdout",
     "output_type": "stream",
     "text": [
      " sha"
     ]
    },
    {
     "name": "stdout",
     "output_type": "stream",
     "text": [
      "ft n"
     ]
    },
    {
     "name": "stdout",
     "output_type": "stream",
     "text": [
      "ot p"
     ]
    },
    {
     "name": "stdout",
     "output_type": "stream",
     "text": [
      "lace"
     ]
    },
    {
     "name": "stdout",
     "output_type": "stream",
     "text": [
      ".'\n",
      " "
     ]
    },
    {
     "name": "stdout",
     "output_type": "stream",
     "text": [
      "   '"
     ]
    },
    {
     "name": "stdout",
     "output_type": "stream",
     "text": [
      "Go o"
     ]
    },
    {
     "name": "stdout",
     "output_type": "stream",
     "text": [
      "n,' "
     ]
    },
    {
     "name": "stdout",
     "output_type": "stream",
     "text": [
      "said"
     ]
    },
    {
     "name": "stdout",
     "output_type": "stream",
     "text": [
      " Gan"
     ]
    },
    {
     "name": "stdout",
     "output_type": "stream",
     "text": [
      "dalf"
     ]
    },
    {
     "name": "stdout",
     "output_type": "stream",
     "text": [
      ". `C"
     ]
    },
    {
     "name": "stdout",
     "output_type": "stream",
     "text": [
      "ome "
     ]
    },
    {
     "name": "stdout",
     "output_type": "stream",
     "text": [
      "to "
     ]
    },
    {
     "name": "stdout",
     "output_type": "stream",
     "text": [
      "the "
     ]
    },
    {
     "name": "stdout",
     "output_type": "stream",
     "text": [
      "bask"
     ]
    },
    {
     "name": "stdout",
     "output_type": "stream",
     "text": [
      " of "
     ]
    },
    {
     "name": "stdout",
     "output_type": "stream",
     "text": [
      "good"
     ]
    },
    {
     "name": "stdout",
     "output_type": "stream",
     "text": [
      " and"
     ]
    },
    {
     "name": "stdout",
     "output_type": "stream",
     "text": [
      " a b"
     ]
    },
    {
     "name": "stdout",
     "output_type": "stream",
     "text": [
      "reec"
     ]
    },
    {
     "name": "stdout",
     "output_type": "stream",
     "text": [
      "h fo"
     ]
    },
    {
     "name": "stdout",
     "output_type": "stream",
     "text": [
      "lk. "
     ]
    },
    {
     "name": "stdout",
     "output_type": "stream",
     "text": [
      "Sam "
     ]
    },
    {
     "name": "stdout",
     "output_type": "stream",
     "text": [
      "I sh"
     ]
    },
    {
     "name": "stdout",
     "output_type": "stream",
     "text": [
      "all "
     ]
    },
    {
     "name": "stdout",
     "output_type": "stream",
     "text": [
      "chie"
     ]
    },
    {
     "name": "stdout",
     "output_type": "stream",
     "text": [
      "fly."
     ]
    },
    {
     "name": "stdout",
     "output_type": "stream",
     "text": [
      " He "
     ]
    },
    {
     "name": "stdout",
     "output_type": "stream",
     "text": [
      "woul"
     ]
    },
    {
     "name": "stdout",
     "output_type": "stream",
     "text": [
      "d li"
     ]
    },
    {
     "name": "stdout",
     "output_type": "stream",
     "text": [
      "ke a"
     ]
    },
    {
     "name": "stdout",
     "output_type": "stream",
     "text": [
      " lea"
     ]
    },
    {
     "name": "stdout",
     "output_type": "stream",
     "text": [
      "f an"
     ]
    },
    {
     "name": "stdout",
     "output_type": "stream",
     "text": [
      "d lo"
     ]
    },
    {
     "name": "stdout",
     "output_type": "stream",
     "text": [
      "oked"
     ]
    },
    {
     "name": "stdout",
     "output_type": "stream",
     "text": [
      " ove"
     ]
    },
    {
     "name": "stdout",
     "output_type": "stream",
     "text": [
      "r th"
     ]
    },
    {
     "name": "stdout",
     "output_type": "stream",
     "text": [
      "e Ri"
     ]
    },
    {
     "name": "stdout",
     "output_type": "stream",
     "text": [
      "ng a"
     ]
    },
    {
     "name": "stdout",
     "output_type": "stream",
     "text": [
      "nd t"
     ]
    },
    {
     "name": "stdout",
     "output_type": "stream",
     "text": [
      "road"
     ]
    },
    {
     "name": "stdout",
     "output_type": "stream",
     "text": [
      ". No"
     ]
    },
    {
     "name": "stdout",
     "output_type": "stream",
     "text": [
      "t co"
     ]
    },
    {
     "name": "stdout",
     "output_type": "stream",
     "text": [
      "mman"
     ]
    },
    {
     "name": "stdout",
     "output_type": "stream",
     "text": [
      "d co"
     ]
    },
    {
     "name": "stdout",
     "output_type": "stream",
     "text": [
      "mman"
     ]
    },
    {
     "name": "stdout",
     "output_type": "stream",
     "text": [
      "ds,"
     ]
    },
    {
     "name": "stdout",
     "output_type": "stream",
     "text": [
      " un"
     ]
    },
    {
     "name": "stdout",
     "output_type": "stream",
     "text": [
      "lock"
     ]
    },
    {
     "name": "stdout",
     "output_type": "stream",
     "text": [
      "ing "
     ]
    },
    {
     "name": "stdout",
     "output_type": "stream",
     "text": [
      "the "
     ]
    },
    {
     "name": "stdout",
     "output_type": "stream",
     "text": [
      "tree"
     ]
    },
    {
     "name": "stdout",
     "output_type": "stream",
     "text": [
      "s, "
     ]
    },
    {
     "name": "stdout",
     "output_type": "stream",
     "text": [
      "dra"
     ]
    },
    {
     "name": "stdout",
     "output_type": "stream",
     "text": [
      "ggi"
     ]
    },
    {
     "name": "stdout",
     "output_type": "stream",
     "text": [
      "ng "
     ]
    },
    {
     "name": "stdout",
     "output_type": "stream",
     "text": [
      "on a"
     ]
    },
    {
     "name": "stdout",
     "output_type": "stream",
     "text": [
      "s fa"
     ]
    },
    {
     "name": "stdout",
     "output_type": "stream",
     "text": [
      "r as"
     ]
    },
    {
     "name": "stdout",
     "output_type": "stream",
     "text": [
      " he "
     ]
    },
    {
     "name": "stdout",
     "output_type": "stream",
     "text": [
      "coul"
     ]
    },
    {
     "name": "stdout",
     "output_type": "stream",
     "text": [
      "d se"
     ]
    },
    {
     "name": "stdout",
     "output_type": "stream",
     "text": [
      "e th"
     ]
    },
    {
     "name": "stdout",
     "output_type": "stream",
     "text": [
      "e Sh"
     ]
    },
    {
     "name": "stdout",
     "output_type": "stream",
     "text": [
      "ire,"
     ]
    },
    {
     "name": "stdout",
     "output_type": "stream",
     "text": [
      " or "
     ]
    },
    {
     "name": "stdout",
     "output_type": "stream",
     "text": [
      "some"
     ]
    },
    {
     "name": "stdout",
     "output_type": "stream",
     "text": [
      "how "
     ]
    },
    {
     "name": "stdout",
     "output_type": "stream",
     "text": [
      "we s"
     ]
    },
    {
     "name": "stdout",
     "output_type": "stream",
     "text": [
      "ee h"
     ]
    },
    {
     "name": "stdout",
     "output_type": "stream",
     "text": [
      "im i"
     ]
    },
    {
     "name": "stdout",
     "output_type": "stream",
     "text": [
      "n yo"
     ]
    },
    {
     "name": "stdout",
     "output_type": "stream",
     "text": [
      "ur p"
     ]
    },
    {
     "name": "stdout",
     "output_type": "stream",
     "text": [
      "eril"
     ]
    },
    {
     "name": "stdout",
     "output_type": "stream",
     "text": [
      ". Al"
     ]
    },
    {
     "name": "stdout",
     "output_type": "stream",
     "text": [
      "l th"
     ]
    },
    {
     "name": "stdout",
     "output_type": "stream",
     "text": [
      "e la"
     ]
    },
    {
     "name": "stdout",
     "output_type": "stream",
     "text": [
      "st w"
     ]
    },
    {
     "name": "stdout",
     "output_type": "stream",
     "text": [
      "all "
     ]
    },
    {
     "name": "stdout",
     "output_type": "stream",
     "text": [
      "of a"
     ]
    },
    {
     "name": "stdout",
     "output_type": "stream",
     "text": [
      "ll t"
     ]
    },
    {
     "name": "stdout",
     "output_type": "stream",
     "text": [
      "hat "
     ]
    },
    {
     "name": "stdout",
     "output_type": "stream",
     "text": [
      "were"
     ]
    },
    {
     "name": "stdout",
     "output_type": "stream",
     "text": [
      " sma"
     ]
    },
    {
     "name": "stdout",
     "output_type": "stream",
     "text": [
      "ller"
     ]
    },
    {
     "name": "stdout",
     "output_type": "stream",
     "text": [
      " of "
     ]
    },
    {
     "name": "stdout",
     "output_type": "stream",
     "text": [
      "an e"
     ]
    },
    {
     "name": "stdout",
     "output_type": "stream",
     "text": [
      "ye, "
     ]
    },
    {
     "name": "stdout",
     "output_type": "stream",
     "text": [
      "if "
     ]
    },
    {
     "name": "stdout",
     "output_type": "stream",
     "text": [
      "desp"
     ]
    },
    {
     "name": "stdout",
     "output_type": "stream",
     "text": [
      "air "
     ]
    },
    {
     "name": "stdout",
     "output_type": "stream",
     "text": [
      "felt"
     ]
    },
    {
     "name": "stdout",
     "output_type": "stream",
     "text": [
      " it,"
     ]
    },
    {
     "name": "stdout",
     "output_type": "stream",
     "text": [
      " it "
     ]
    },
    {
     "name": "stdout",
     "output_type": "stream",
     "text": [
      "will"
     ]
    },
    {
     "name": "stdout",
     "output_type": "stream",
     "text": [
      " fol"
     ]
    },
    {
     "name": "stdout",
     "output_type": "stream",
     "text": [
      "low "
     ]
    },
    {
     "name": "stdout",
     "output_type": "stream",
     "text": [
      "to b"
     ]
    },
    {
     "name": "stdout",
     "output_type": "stream",
     "text": [
      "e li"
     ]
    },
    {
     "name": "stdout",
     "output_type": "stream",
     "text": [
      "sten"
     ]
    },
    {
     "name": "stdout",
     "output_type": "stream",
     "text": [
      "ing,"
     ]
    },
    {
     "name": "stdout",
     "output_type": "stream",
     "text": [
      " we "
     ]
    },
    {
     "name": "stdout",
     "output_type": "stream",
     "text": [
      "hear"
     ]
    },
    {
     "name": "stdout",
     "output_type": "stream",
     "text": [
      "d no"
     ]
    },
    {
     "name": "stdout",
     "output_type": "stream",
     "text": [
      "t se"
     ]
    },
    {
     "name": "stdout",
     "output_type": "stream",
     "text": [
      "e th"
     ]
    },
    {
     "name": "stdout",
     "output_type": "stream",
     "text": [
      "e ne"
     ]
    },
    {
     "name": "stdout",
     "output_type": "stream",
     "text": [
      "w fo"
     ]
    },
    {
     "name": "stdout",
     "output_type": "stream",
     "text": [
      "rebo"
     ]
    },
    {
     "name": "stdout",
     "output_type": "stream",
     "text": [
      "ded "
     ]
    },
    {
     "name": "stdout",
     "output_type": "stream",
     "text": [
      "was "
     ]
    },
    {
     "name": "stdout",
     "output_type": "stream",
     "text": [
      "a br"
     ]
    },
    {
     "name": "stdout",
     "output_type": "stream",
     "text": [
      "oken"
     ]
    },
    {
     "name": "stdout",
     "output_type": "stream",
     "text": [
      " dar"
     ]
    },
    {
     "name": "stdout",
     "output_type": "stream",
     "text": [
      "k in"
     ]
    },
    {
     "name": "stdout",
     "output_type": "stream",
     "text": [
      " fro"
     ]
    },
    {
     "name": "stdout",
     "output_type": "stream",
     "text": [
      "nt; "
     ]
    },
    {
     "name": "stdout",
     "output_type": "stream",
     "text": [
      "but "
     ]
    },
    {
     "name": "stdout",
     "output_type": "stream",
     "text": [
      "it's"
     ]
    },
    {
     "name": "stdout",
     "output_type": "stream",
     "text": [
      " tha"
     ]
    },
    {
     "name": "stdout",
     "output_type": "stream",
     "text": [
      "t ta"
     ]
    },
    {
     "name": "stdout",
     "output_type": "stream",
     "text": [
      "le o"
     ]
    },
    {
     "name": "stdout",
     "output_type": "stream",
     "text": [
      "ften"
     ]
    },
    {
     "name": "stdout",
     "output_type": "stream",
     "text": [
      " mor"
     ]
    },
    {
     "name": "stdout",
     "output_type": "stream",
     "text": [
      "e, w"
     ]
    },
    {
     "name": "stdout",
     "output_type": "stream",
     "text": [
      "here"
     ]
    },
    {
     "name": "stdout",
     "output_type": "stream",
     "text": [
      " the"
     ]
    },
    {
     "name": "stdout",
     "output_type": "stream",
     "text": [
      "y qu"
     ]
    },
    {
     "name": "stdout",
     "output_type": "stream",
     "text": [
      "ickl"
     ]
    },
    {
     "name": "stdout",
     "output_type": "stream",
     "text": [
      "y gl"
     ]
    },
    {
     "name": "stdout",
     "output_type": "stream",
     "text": [
      "ance"
     ]
    },
    {
     "name": "stdout",
     "output_type": "stream",
     "text": [
      "d to"
     ]
    },
    {
     "name": "stdout",
     "output_type": "stream",
     "text": [
      " bri"
     ]
    },
    {
     "name": "stdout",
     "output_type": "stream",
     "text": [
      "ng a"
     ]
    },
    {
     "name": "stdout",
     "output_type": "stream",
     "text": [
      " lar"
     ]
    },
    {
     "name": "stdout",
     "output_type": "stream",
     "text": [
      "ge u"
     ]
    },
    {
     "name": "stdout",
     "output_type": "stream",
     "text": [
      "ncou"
     ]
    },
    {
     "name": "stdout",
     "output_type": "stream",
     "text": [
      "ntry"
     ]
    },
    {
     "name": "stdout",
     "output_type": "stream",
     "text": [
      ".'\n",
      " "
     ]
    },
    {
     "name": "stdout",
     "output_type": "stream",
     "text": [
      "    "
     ]
    },
    {
     "name": "stdout",
     "output_type": "stream",
     "text": [
      "It w"
     ]
    },
    {
     "name": "stdout",
     "output_type": "stream",
     "text": [
      "as a"
     ]
    },
    {
     "name": "stdout",
     "output_type": "stream",
     "text": [
      "n au"
     ]
    },
    {
     "name": "stdout",
     "output_type": "stream",
     "text": [
      "sue "
     ]
    },
    {
     "name": "stdout",
     "output_type": "stream",
     "text": [
      "thi"
     ]
    },
    {
     "name": "stdout",
     "output_type": "stream",
     "text": [
      "s s"
     ]
    },
    {
     "name": "stdout",
     "output_type": "stream",
     "text": [
      "tro"
     ]
    },
    {
     "name": "stdout",
     "output_type": "stream",
     "text": [
      "ng "
     ]
    },
    {
     "name": "stdout",
     "output_type": "stream",
     "text": [
      "and"
     ]
    },
    {
     "name": "stdout",
     "output_type": "stream",
     "text": [
      " ho"
     ]
    },
    {
     "name": "stdout",
     "output_type": "stream",
     "text": [
      "le u"
     ]
    },
    {
     "name": "stdout",
     "output_type": "stream",
     "text": [
      "pon"
     ]
    },
    {
     "name": "stdout",
     "output_type": "stream",
     "text": [
      " th"
     ]
    },
    {
     "name": "stdout",
     "output_type": "stream",
     "text": [
      "e f"
     ]
    },
    {
     "name": "stdout",
     "output_type": "stream",
     "text": [
      "urn"
     ]
    },
    {
     "name": "stdout",
     "output_type": "stream",
     "text": [
      "ishm"
     ]
    },
    {
     "name": "stdout",
     "output_type": "stream",
     "text": [
      "ent"
     ]
    },
    {
     "name": "stdout",
     "output_type": "stream",
     "text": [
      "; bu"
     ]
    },
    {
     "name": "stdout",
     "output_type": "stream",
     "text": [
      "t t"
     ]
    },
    {
     "name": "stdout",
     "output_type": "stream",
     "text": [
      "here"
     ]
    },
    {
     "name": "stdout",
     "output_type": "stream",
     "text": [
      " was"
     ]
    },
    {
     "name": "stdout",
     "output_type": "stream",
     "text": [
      " a t"
     ]
    },
    {
     "name": "stdout",
     "output_type": "stream",
     "text": [
      "rick"
     ]
    },
    {
     "name": "stdout",
     "output_type": "stream",
     "text": [
      " han"
     ]
    },
    {
     "name": "stdout",
     "output_type": "stream",
     "text": [
      "ds, "
     ]
    },
    {
     "name": "stdout",
     "output_type": "stream",
     "text": [
      "of w"
     ]
    },
    {
     "name": "stdout",
     "output_type": "stream",
     "text": [
      "hit"
     ]
    },
    {
     "name": "stdout",
     "output_type": "stream",
     "text": [
      "e ye"
     ]
    },
    {
     "name": "stdout",
     "output_type": "stream",
     "text": [
      "ars "
     ]
    },
    {
     "name": "stdout",
     "output_type": "stream",
     "text": [
      "and "
     ]
    },
    {
     "name": "stdout",
     "output_type": "stream",
     "text": [
      "hear"
     ]
    },
    {
     "name": "stdout",
     "output_type": "stream",
     "text": [
      "ns f"
     ]
    }
   ],
   "source": [
    "from addition_dataset import make_ind2char_mapping\n",
    "ind2char_map = make_ind2char_mapping(char2ind_map)\n",
    "prompt = \"When first the dawning breath of spring awoke, I saw\"\n",
    "gen_text = minigpt.generate_sequence(prompt, 5000, char2ind_map, ind2char_map , method = None)\n",
    "\n",
    "\n",
    "print(\"***final output***\")\n",
    "print(''.join(gen_text))"
   ]
  },
  {
   "cell_type": "code",
   "execution_count": 3,
   "id": "0ba165",
   "metadata": {
    "collapsed": false
   },
   "outputs": [
    {
     "name": "stderr",
     "output_type": "stream",
     "text": [
      "2025-05-14 03:13:09.693998: I tensorflow/core/util/port.cc:153] oneDNN custom operations are on. You may see slightly different numerical results due to floating-point round-off errors from different computation orders. To turn them off, set the environment variable `TF_ENABLE_ONEDNN_OPTS=0`.\n",
      "2025-05-14 03:13:10.254007: E external/local_xla/xla/stream_executor/cuda/cuda_fft.cc:477] Unable to register cuFFT factory: Attempting to register factory for plugin cuFFT when one has already been registered\n",
      "WARNING: All log messages before absl::InitializeLog() is called are written to STDERR\n",
      "E0000 00:00:1747192390.458746     369 cuda_dnn.cc:8310] Unable to register cuDNN factory: Attempting to register factory for plugin cuDNN when one has already been registered\n",
      "E0000 00:00:1747192390.512127     369 cuda_blas.cc:1418] Unable to register cuBLAS factory: Attempting to register factory for plugin cuBLAS when one has already been registered\n",
      "2025-05-14 03:13:10.994738: I tensorflow/core/platform/cpu_feature_guard.cc:210] This TensorFlow binary is optimized to use available CPU instructions in performance-critical operations.\n",
      "To enable the following instructions: AVX2 AVX512F AVX512_VNNI FMA, in other operations, rebuild TensorFlow with the appropriate compiler flags.\n"
     ]
    },
    {
     "ename": "NameError",
     "evalue": "name 'char2ind_map' is not defined",
     "output_type": "error",
     "traceback": [
      "\u001b[0;31m---------------------------------------------------------------------------\u001b[0m",
      "\u001b[0;31mNameError\u001b[0m                                 Traceback (most recent call last)",
      "Cell \u001b[0;32mIn[3], line 2\u001b[0m\n\u001b[1;32m      1\u001b[0m \u001b[38;5;28;01mfrom\u001b[39;00m \u001b[38;5;21;01maddition_dataset\u001b[39;00m \u001b[38;5;28;01mimport\u001b[39;00m make_ind2char_mapping\n\u001b[0;32m----> 2\u001b[0m ind2char_map \u001b[38;5;241m=\u001b[39m make_ind2char_mapping(\u001b[43mchar2ind_map\u001b[49m)\n\u001b[1;32m      3\u001b[0m prompt \u001b[38;5;241m=\u001b[39m \u001b[38;5;124m\"\u001b[39m\u001b[38;5;124mFrodo did not approve that Mary and Pippen could not stop drinking\u001b[39m\u001b[38;5;124m\"\u001b[39m\n\u001b[1;32m      4\u001b[0m gen_text \u001b[38;5;241m=\u001b[39m minigpt\u001b[38;5;241m.\u001b[39mgenerate_sequence(prompt, \u001b[38;5;241m500\u001b[39m, char2ind_map, ind2char_map , method \u001b[38;5;241m=\u001b[39m \u001b[38;5;28;01mNone\u001b[39;00m)\n",
      "\u001b[0;31mNameError\u001b[0m: name 'char2ind_map' is not defined"
     ]
    }
   ],
   "source": [
    "from addition_dataset import make_ind2char_mapping\n",
    "ind2char_map = make_ind2char_mapping(char2ind_map)\n",
    "prompt = \"Frodo did not approve that Mary and Pippen could not stop drinking\"\n",
    "gen_text = minigpt.generate_sequence(prompt, 500, char2ind_map, ind2char_map , method = None)\n",
    "\n",
    "\n",
    "print(\"***final output***\")\n",
    "print(''.join(gen_text))"
   ]
  },
  {
   "cell_type": "markdown",
   "id": "7f3a9f",
   "metadata": {
    "collapsed": false
   },
   "source": [
   ]
  }
 ],
 "metadata": {
  "kernelspec": {
   "argv": [
    "/usr/bin/python3",
    "-m",
    "ipykernel",
    "--HistoryManager.enabled=False",
    "--matplotlib=inline",
    "-c",
    "%config InlineBackend.figure_formats = set(['retina'])\nimport matplotlib; matplotlib.rcParams['figure.figsize'] = (12, 7)",
    "-f",
    "{connection_file}"
   ],
   "display_name": "Python 3 (system-wide)",
   "env": {
   },
   "language": "python",
   "metadata": {
    "cocalc": {
     "description": "Python 3 programming language",
     "priority": 100,
     "url": "https://www.python.org/"
    }
   },
   "name": "python3",
   "resource_dir": "/ext/jupyter/kernels/python3"
  }
 },
 "nbformat": 4,
 "nbformat_minor": 4
}