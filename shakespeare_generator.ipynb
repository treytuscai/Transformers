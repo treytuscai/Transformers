{
 "cells": [
  {
   "cell_type": "markdown",
   "id": "993849c2",
   "metadata": {
    "collapsed": false
   },
   "source": [
    "Trey Tuscai and Gordon Doore\n",
    "\n",
    "Spring 2025\n",
    "\n",
    "CS 444: Deep Learning\n",
    "\n",
    "#### Project 4: Transformers\n",
    "\n",
    "In this final notebook, we will train larger GPTs on a large corpus of prose — the entire works of Shakespeare. Once trained, you will be able to prompt your GPTs with some text and it will generate text that appears to follow."
   ]
  },
  {
   "cell_type": "code",
   "execution_count": 1,
   "id": "51fe93d6",
   "metadata": {
    "collapsed": false
   },
   "outputs": [
    {
     "name": "stderr",
     "output_type": "stream",
     "text": [
      "2025-05-14 03:21:07.599804: I tensorflow/core/util/port.cc:113] oneDNN custom operations are on. You may see slightly different numerical results due to floating-point round-off errors from different computation orders. To turn them off, set the environment variable `TF_ENABLE_ONEDNN_OPTS=0`.\n",
      "2025-05-14 03:21:19.826307: I tensorflow/core/platform/cpu_feature_guard.cc:211] This TensorFlow binary is optimized to use available CPU instructions in performance-critical operations.\n",
      "To enable the following instructions: SSE3 SSE4.1 SSE4.2 AVX, in other operations, rebuild TensorFlow with the appropriate compiler flags.\n"
     ]
    }
   ],
   "source": [
    "import numpy as np\n",
    "import tensorflow as tf\n",
    "import matplotlib.pyplot as plt\n",
    "\n",
    "plt.style.use(['seaborn-v0_8-colorblind', 'seaborn-v0_8-darkgrid'])\n",
    "plt.rcParams.update({'font.size': 20})\n",
    "\n",
    "np.set_printoptions(suppress=True, precision=4)\n",
    "\n",
    "# Automatically reload your external source code\n",
    "%load_ext autoreload\n",
    "%autoreload 2"
   ]
  },
  {
   "cell_type": "markdown",
   "id": "e0c72772",
   "metadata": {
    "collapsed": false
   },
   "source": [
    "![Some fun](images/transformer4.png)"
   ]
  },
  {
   "cell_type": "markdown",
   "id": "7b141eed",
   "metadata": {
    "collapsed": false
   },
   "source": [
    "## Task 8. Preprocess a large corpus of text\n",
    "\n",
    "**NOTE:** This is no Task 7. It got removed due to time constraints.\n",
    "\n",
    "<!-- Let's write code to load in the works of Shakespeare (`shakespeare.txt`) and preprocess it so that we can try a transformer on the text. -->\n",
    "\n",
    "Run the test code in this section to make sure the works of Shakespeare (`shakespeare.txt`) are loaded and preprocessed properly for the transformer."
   ]
  },
  {
   "cell_type": "code",
   "execution_count": 2,
   "id": "d0c63dfe",
   "metadata": {
    "collapsed": false
   },
   "outputs": [],
   "source": [
    "from preprocess_corpus import load_document, make_char2ind_map, make_seqs_and_labels"
   ]
  },
  {
   "cell_type": "markdown",
   "id": "47ca3a1c",
   "metadata": {
    "collapsed": false
   },
   "source": [
    "### 8a. Generate corpus and vocabulary\n",
    "\n",
    "<!-- In `preprocess_corpus.py`, implement the `load_document` function to load in the Shakespeare corpus and make the vocabulary. -->"
   ]
  },
  {
   "cell_type": "code",
   "execution_count": 3,
   "id": "6eeaa288",
   "metadata": {
    "collapsed": false
   },
   "outputs": [
    {
     "name": "stdout",
     "output_type": "stream",
     "text": [
      "The vocabulary has 65 tokens and it should have 65.\n",
      "The vocabulary is (split up over multiple lines):\n",
      "['\\n', ' ', '!', '$', '&', \"'\", ',', '-', '.', '3', ':', ';', '?', 'A', 'B', 'C', 'D', 'E', 'F', 'G', 'H', 'I', 'J', 'K', 'L']\n",
      "['M', 'N', 'O', 'P', 'Q', 'R', 'S', 'T', 'U', 'V', 'W', 'X', 'Y', 'Z', 'a', 'b', 'c', 'd', 'e', 'f', 'g', 'h', 'i', 'j', 'k']\n",
      "['l', 'm', 'n', 'o', 'p', 'q', 'r', 's', 't', 'u', 'v', 'w', 'x', 'y', 'z']\n",
      "\n",
      "and it should be:\n",
      "['\\n', ' ', '!', '$', '&', \"'\", ',', '-', '.', '3', ':', ';', '?', 'A', 'B', 'C', 'D', 'E', 'F', 'G', 'H', 'I', 'J', 'K', 'L']\n",
      "['M', 'N', 'O', 'P', 'Q', 'R', 'S', 'T', 'U', 'V', 'W', 'X', 'Y', 'Z', 'a', 'b', 'c', 'd', 'e', 'f', 'g', 'h', 'i', 'j', 'k']\n",
      "['l', 'm', 'n', 'o', 'p', 'q', 'r', 's', 't', 'u', 'v', 'w', 'x', 'y', 'z']\n",
      "The corpus has 1115394 chars and it should have 1115394.\n",
      "-------------------------------------------------------\n",
      "The first 50 chars of the corpus is:\n",
      "First Citizen:\n",
      "Before we proceed any further, hear\n",
      "and it should be:\n",
      "First Citizen:\n",
      "Before we proceed any further, hear\n",
      "-------------------------------------------------------\n",
      "The last 50 chars of the corpus is:\n",
      "eep--die, rather; wink'st\n",
      "Whiles thou art waking.\n",
      "\n",
      "and it should be:\n",
      "eep--die, rather; wink'st\n",
      "Whiles thou art waking.\n",
      "\n"
     ]
    }
   ],
   "source": [
    "corpus, vocab = load_document()\n",
    "\n",
    "print(f'The vocabulary has {len(vocab)} tokens and it should have 65.')\n",
    "print(f'The vocabulary is (split up over multiple lines):\\n{vocab[:25]}\\n{vocab[25:50]}\\n{vocab[50:]}\\n')\n",
    "print('and it should be:')\n",
    "print(\"\"\"['\\\\n', ' ', '!', '$', '&', \"'\", ',', '-', '.', '3', ':', ';', '?', 'A', 'B', 'C', 'D', 'E', 'F', 'G', 'H', 'I', 'J', 'K', 'L']\n",
    "['M', 'N', 'O', 'P', 'Q', 'R', 'S', 'T', 'U', 'V', 'W', 'X', 'Y', 'Z', 'a', 'b', 'c', 'd', 'e', 'f', 'g', 'h', 'i', 'j', 'k']\n",
    "['l', 'm', 'n', 'o', 'p', 'q', 'r', 's', 't', 'u', 'v', 'w', 'x', 'y', 'z']\"\"\")\n",
    "\n",
    "print(f'The corpus has {len(corpus)} chars and it should have 1115394.')\n",
    "print(55*'-')\n",
    "print('The first 50 chars of the corpus is:')\n",
    "print(corpus[:50])\n",
    "print('and it should be:')\n",
    "print('''First Citizen:\n",
    "Before we proceed any further, hear''')\n",
    "print(55*'-')\n",
    "print('The last 50 chars of the corpus is:')\n",
    "print(corpus[-50:])\n",
    "print('and it should be:')\n",
    "print('''eep--die, rather; wink'st\n",
    "Whiles thou art waking.\n",
    "''')"
   ]
  },
  {
   "cell_type": "markdown",
   "id": "d80fb62c",
   "metadata": {
    "collapsed": false
   },
   "source": [
    "### 8b. Create char2ind map\n",
    "\n",
    "<!-- In `preprocess_corpus.py`, implement the `make_char2ind_map` function and test it below. -->"
   ]
  },
  {
   "cell_type": "code",
   "execution_count": 4,
   "id": "3b736a8c",
   "metadata": {
    "collapsed": false
   },
   "outputs": [
    {
     "name": "stdout",
     "output_type": "stream",
     "text": [
      "Size of your char2ind map is 65 and it should be 65.\n",
      "Keys of your char2ind map:\n",
      "\n",
      " !$&',-.3:;?ABCDEFGHIJKLMNOPQRSTUVWXYZabcdefghijklmnopqrstuvwxyz\n",
      "They should be \n",
      "\n",
      " !$&',-.3:;?ABCDEFGHIJKLMNOPQRSTUVWXYZabcdefghijklmnopqrstuvwxyz\n",
      "Values of your char2ind map:\n",
      "[0, 1, 2, 3, 4, 5, 6, 7, 8, 9, 10, 11, 12, 13, 14, 15, 16, 17, 18, 19, 20, 21, 22, 23, 24, 25, 26, 27, 28, 29, 30, 31, 32, 33, 34, 35, 36, 37, 38, 39, 40, 41, 42, 43, 44, 45, 46, 47, 48, 49, 50, 51, 52, 53, 54, 55, 56, 57, 58, 59, 60, 61, 62, 63, 64]\n",
      "They should be\n",
      "[0, 1, 2, 3, 4, 5, 6, 7, 8, 9, 10, 11, 12, 13, 14, 15, 16, 17, 18, 19, 20, 21, 22, 23, 24, 25, 26, 27, 28, 29, 30, 31, 32, 33, 34, 35, 36, 37, 38, 39, 40, 41, 42, 43, 44, 45, 46, 47, 48, 49, 50, 51, 52, 53, 54, 55, 56, 57, 58, 59, 60, 61, 62, 63, 64]\n"
     ]
    }
   ],
   "source": [
    "char2ind_map = make_char2ind_map(vocab)\n",
    "\n",
    "print(f'Size of your char2ind map is {len(char2ind_map)} and it should be 65.')\n",
    "print('Keys of your char2ind map:')\n",
    "print(''.join(char2ind_map.keys()))\n",
    "print(\"They should be \\n\\n !$&',-.3:;?ABCDEFGHIJKLMNOPQRSTUVWXYZabcdefghijklmnopqrstuvwxyz\")\n",
    "print('Values of your char2ind map:')\n",
    "print(list(char2ind_map.values()))\n",
    "print(\"They should be\")\n",
    "print('[0, 1, 2, 3, 4, 5, 6, 7, 8, 9, 10, 11, 12, 13, 14, 15, 16, 17, 18, 19, 20, 21, 22, 23, 24, 25, 26, 27, 28, 29, 30, 31, 32, 33, 34, 35, 36, 37, 38, 39, 40, 41, 42, 43, 44, 45, 46, 47, 48, 49, 50, 51, 52, 53, 54, 55, 56, 57, 58, 59, 60, 61, 62, 63, 64]')\n"
   ]
  },
  {
   "cell_type": "markdown",
   "id": "80262ef7",
   "metadata": {
    "collapsed": false
   },
   "source": [
    "### 8c. Create sequences of int-coded texts and labels\n",
    "\n",
    "<!-- In `preprocess_corpus.py`, implement the `make_seqs_and_labels` function, which should extract sequential `seq_len` long chunks (*our desired sequence length for the transformer*) to form the sequences on which we will train the transformer. The labels/targets are just the chars shifted by 1 (i.e. the next char in the corpus). -->"
   ]
  },
  {
   "cell_type": "code",
   "execution_count": 5,
   "id": "a06b8247",
   "metadata": {
    "collapsed": false
   },
   "outputs": [
    {
     "name": "stderr",
     "output_type": "stream",
     "text": [
      "2025-05-14 03:22:21.141813: I tensorflow/core/common_runtime/gpu/gpu_device.cc:1928] Created device /job:localhost/replica:0/task:0/device:GPU:0 with 20601 MB memory:  -> device: 0, name: NVIDIA L4, pci bus id: 0000:00:03.0, compute capability: 8.9\n"
     ]
    },
    {
     "name": "stdout",
     "output_type": "stream",
     "text": [
      "The shape of your Shakespeare sequences is (4461, 250) and it should be (4461, 250).\n",
      "The shape of your Shakespeare labels is (4461, 250) and it should be (4461, 250).\n",
      "The first 15 int-coded tokens of the 1st few sequences are:\n",
      "[[18 47 56 57 58  1 15 47 58 47 64 43 52 10  0]\n",
      " [ 0 13 50 50 10  0 35 43  1 49 52 53 61  5 58]\n",
      " [ 1 41 47 58 47 64 43 52 57  6  1 58 46 43  1]\n",
      " [ 1 58 46 43  1 53 40 48 43 41 58  1 53 44  1]\n",
      " [31 43 41 53 52 42  1 15 47 58 47 64 43 52 10]]\n",
      "they should be:\n",
      "[[18 47 56 57 58  1 15 47 58 47 64 43 52 10  0]\n",
      " [ 0 13 50 50 10  0 35 43  1 49 52 53 61  5 58]\n",
      " [ 1 41 47 58 47 64 43 52 57  6  1 58 46 43  1]\n",
      " [ 1 58 46 43  1 53 40 48 43 41 58  1 53 44  1]\n",
      " [31 43 41 53 52 42  1 15 47 58 47 64 43 52 10]]\n",
      "The first 15 int-coded tokens of the last few sequences are:\n",
      "[[57 53  1 61 43 39 49 50 63  8  1 35 47 50 50]\n",
      " [ 6  0 16 53  1 52 53 58  1 53 51 47 58  1 58]\n",
      " [58 56 39 52 45 43  1 42 56 53 61 57 47 52 43]\n",
      " [42 56 53 54 54  5 42  6  1 39 57  1 40 63  1]\n",
      " [13 26 10  0 35 46 39 58  6  1 39 56 58  1 58]]\n",
      "they should be:\n",
      "[[57 53  1 61 43 39 49 50 63  8  1 35 47 50 50]\n",
      " [ 6  0 16 53  1 52 53 58  1 53 51 47 58  1 58]\n",
      " [58 56 39 52 45 43  1 42 56 53 61 57 47 52 43]\n",
      " [42 56 53 54 54  5 42  6  1 39 57  1 40 63  1]\n",
      " [13 26 10  0 35 46 39 58  6  1 39 56 58  1 58]]\n"
     ]
    }
   ],
   "source": [
    "seq_len = 250\n",
    "seqs, labels = make_seqs_and_labels(corpus, char2ind_map, seq_len=seq_len)\n",
    "\n",
    "print(f'The shape of your Shakespeare sequences is {seqs.shape} and it should be (4461, 250).')\n",
    "print(f'The shape of your Shakespeare labels is {labels.shape} and it should be (4461, 250).')\n",
    "print('The first 15 int-coded tokens of the 1st few sequences are:')\n",
    "print(seqs[:5, :15].numpy())\n",
    "print('they should be:')\n",
    "print('''[[18 47 56 57 58  1 15 47 58 47 64 43 52 10  0]\n",
    " [ 0 13 50 50 10  0 35 43  1 49 52 53 61  5 58]\n",
    " [ 1 41 47 58 47 64 43 52 57  6  1 58 46 43  1]\n",
    " [ 1 58 46 43  1 53 40 48 43 41 58  1 53 44  1]\n",
    " [31 43 41 53 52 42  1 15 47 58 47 64 43 52 10]]''')\n",
    "\n",
    "print('The first 15 int-coded tokens of the last few sequences are:')\n",
    "print(seqs[-5:, :15].numpy())\n",
    "print('they should be:')\n",
    "print('''[[57 53  1 61 43 39 49 50 63  8  1 35 47 50 50]\n",
    " [ 6  0 16 53  1 52 53 58  1 53 51 47 58  1 58]\n",
    " [58 56 39 52 45 43  1 42 56 53 61 57 47 52 43]\n",
    " [42 56 53 54 54  5 42  6  1 39 57  1 40 63  1]\n",
    " [13 26 10  0 35 46 39 58  6  1 39 56 58  1 58]]''')"
   ]
  },
  {
   "cell_type": "markdown",
   "id": "01dc6bc9",
   "metadata": {
    "collapsed": false
   },
   "source": [
    "### 8d. Add padding char to dictionary\n",
    "\n",
    "**TODO:** Add the usual padding char (`'#'`) to the char2ind map to the next available int slot."
   ]
  },
  {
   "cell_type": "code",
   "execution_count": 6,
   "id": "03d832fe",
   "metadata": {
    "collapsed": false
   },
   "outputs": [
    {
     "name": "stdout",
     "output_type": "stream",
     "text": [
      "Size of your char2ind map is 66 and it should be 66.\n",
      "Keys of your char2ind map:\n",
      "\n",
      " !$&',-.3:;?ABCDEFGHIJKLMNOPQRSTUVWXYZabcdefghijklmnopqrstuvwxyz#\n",
      "They should be \n",
      "\n",
      " !$&',-.3:;?ABCDEFGHIJKLMNOPQRSTUVWXYZabcdefghijklmnopqrstuvwxyz#\n",
      "Values of your char2ind map:\n",
      "[0, 1, 2, 3, 4, 5, 6, 7, 8, 9, 10, 11, 12, 13, 14, 15, 16, 17, 18, 19, 20, 21, 22, 23, 24, 25, 26, 27, 28, 29, 30, 31, 32, 33, 34, 35, 36, 37, 38, 39, 40, 41, 42, 43, 44, 45, 46, 47, 48, 49, 50, 51, 52, 53, 54, 55, 56, 57, 58, 59, 60, 61, 62, 63, 64, 65]\n",
      "They should be\n",
      "[0, 1, 2, 3, 4, 5, 6, 7, 8, 9, 10, 11, 12, 13, 14, 15, 16, 17, 18, 19, 20, 21, 22, 23, 24, 25, 26, 27, 28, 29, 30, 31, 32, 33, 34, 35, 36, 37, 38, 39, 40, 41, 42, 43, 44, 45, 46, 47, 48, 49, 50, 51, 52, 53, 54, 55, 56, 57, 58, 59, 60, 61, 62, 63, 64, 65]\n"
     ]
    }
   ],
   "source": [
    "# Add padding char to dictionary\n",
    "padding_char = '#'\n",
    "next_available_index = len(char2ind_map)\n",
    "char2ind_map[padding_char] = next_available_index\n",
    "print(f'Size of your char2ind map is {len(char2ind_map)} and it should be 66.')\n",
    "print('Keys of your char2ind map:')\n",
    "print(''.join(char2ind_map.keys()))\n",
    "print(\"They should be \\n\\n !$&',-.3:;?ABCDEFGHIJKLMNOPQRSTUVWXYZabcdefghijklmnopqrstuvwxyz#\")\n",
    "print('Values of your char2ind map:')\n",
    "print(list(char2ind_map.values()))\n",
    "print(\"They should be\")\n",
    "print('[0, 1, 2, 3, 4, 5, 6, 7, 8, 9, 10, 11, 12, 13, 14, 15, 16, 17, 18, 19, 20, 21, 22, 23, 24, 25, 26, 27, 28, 29, 30, 31, 32, 33, 34, 35, 36, 37, 38, 39, 40, 41, 42, 43, 44, 45, 46, 47, 48, 49, 50, 51, 52, 53, 54, 55, 56, 57, 58, 59, 60, 61, 62, 63, 64, 65]')"
   ]
  },
  {
   "cell_type": "markdown",
   "id": "0df99ac1",
   "metadata": {
    "collapsed": false
   },
   "source": [
    "## Task 9. Train GPT on Shakespeare\n",
    "\n",
    "Now we are ready to train a GPT on the works of Shakespeare!"
   ]
  },
  {
   "cell_type": "markdown",
   "id": "dd25755e",
   "metadata": {
    "collapsed": false
   },
   "source": [
    "### 9a. Build `GPTMini6`\n",
    "\n",
    "We will use a deeper transformer called `GPTMini6` for training on the Shakespeare corpus. Build the neural network then check the summary below."
   ]
  },
  {
   "cell_type": "code",
   "execution_count": 7,
   "id": "42d91153",
   "metadata": {
    "collapsed": false
   },
   "outputs": [],
   "source": [
    "from gpts import GPTMini6"
   ]
  },
  {
   "cell_type": "code",
   "execution_count": 8,
   "id": "4c69735c",
   "metadata": {
    "collapsed": false
   },
   "outputs": [
    {
     "name": "stdout",
     "output_type": "stream",
     "text": [
      "---------------------------------------------------------------------------\n",
      "Dense layer output(output) shape: [1, 15, 9]\n",
      "TransformerBlock_5:\n",
      "\tTransformerBlock_5/MLP:\n",
      "\tDropout layer output(TransformerBlock_5/MLP/dropout) shape: [1, 15, 384]\n",
      "\tDense layer output(TransformerBlock_5/MLP/dense_1) shape: [1, 15, 384]\n",
      "\tDense layer output(TransformerBlock_5/MLP/dense_0) shape: [1, 15, 1536]\n",
      "\tTransformerBlock_5/multihead_attention:\n",
      "\tDropout layer output(TransformerBlock_5/multihead_attention/dropout) shape: [1, 15, 384]\n",
      "\tDense layer output(TransformerBlock_5/multihead_attention/dense_1) shape: [1, 15, 384]\n",
      "\tTransformerBlock_5/multihead_attention/attention:\n",
      "\tDropout layer output(TransformerBlock_5/multihead_attention/attention/dropout) shape: [1, 6, 15, 15]\n",
      "\tTransformerBlock_5/multihead_attention/qkv_block:\n",
      "\tDense layer output(TransformerBlock_5/multihead_attention/qkv_block/dense_v) shape: [1, 15, 384]\n",
      "\tDense layer output(TransformerBlock_5/multihead_attention/qkv_block/dense_k) shape: [1, 15, 384]\n",
      "\tDense layer output(TransformerBlock_5/multihead_attention/qkv_block/dense_q) shape: [1, 15, 384]\n",
      "TransformerBlock_4:\n",
      "\tTransformerBlock_4/MLP:\n",
      "\tDropout layer output(TransformerBlock_4/MLP/dropout) shape: [1, 15, 384]\n",
      "\tDense layer output(TransformerBlock_4/MLP/dense_1) shape: [1, 15, 384]\n",
      "\tDense layer output(TransformerBlock_4/MLP/dense_0) shape: [1, 15, 1536]\n",
      "\tTransformerBlock_4/multihead_attention:\n",
      "\tDropout layer output(TransformerBlock_4/multihead_attention/dropout) shape: [1, 15, 384]\n",
      "\tDense layer output(TransformerBlock_4/multihead_attention/dense_1) shape: [1, 15, 384]\n",
      "\tTransformerBlock_4/multihead_attention/attention:\n",
      "\tDropout layer output(TransformerBlock_4/multihead_attention/attention/dropout) shape: [1, 6, 15, 15]\n",
      "\tTransformerBlock_4/multihead_attention/qkv_block:\n",
      "\tDense layer output(TransformerBlock_4/multihead_attention/qkv_block/dense_v) shape: [1, 15, 384]\n",
      "\tDense layer output(TransformerBlock_4/multihead_attention/qkv_block/dense_k) shape: [1, 15, 384]\n",
      "\tDense layer output(TransformerBlock_4/multihead_attention/qkv_block/dense_q) shape: [1, 15, 384]\n",
      "TransformerBlock_3:\n",
      "\tTransformerBlock_3/MLP:\n",
      "\tDropout layer output(TransformerBlock_3/MLP/dropout) shape: [1, 15, 384]\n",
      "\tDense layer output(TransformerBlock_3/MLP/dense_1) shape: [1, 15, 384]\n",
      "\tDense layer output(TransformerBlock_3/MLP/dense_0) shape: [1, 15, 1536]\n",
      "\tTransformerBlock_3/multihead_attention:\n",
      "\tDropout layer output(TransformerBlock_3/multihead_attention/dropout) shape: [1, 15, 384]\n",
      "\tDense layer output(TransformerBlock_3/multihead_attention/dense_1) shape: [1, 15, 384]\n",
      "\tTransformerBlock_3/multihead_attention/attention:\n",
      "\tDropout layer output(TransformerBlock_3/multihead_attention/attention/dropout) shape: [1, 6, 15, 15]\n",
      "\tTransformerBlock_3/multihead_attention/qkv_block:\n",
      "\tDense layer output(TransformerBlock_3/multihead_attention/qkv_block/dense_v) shape: [1, 15, 384]\n",
      "\tDense layer output(TransformerBlock_3/multihead_attention/qkv_block/dense_k) shape: [1, 15, 384]\n",
      "\tDense layer output(TransformerBlock_3/multihead_attention/qkv_block/dense_q) shape: [1, 15, 384]\n",
      "TransformerBlock_2:\n",
      "\tTransformerBlock_2/MLP:\n",
      "\tDropout layer output(TransformerBlock_2/MLP/dropout) shape: [1, 15, 384]\n",
      "\tDense layer output(TransformerBlock_2/MLP/dense_1) shape: [1, 15, 384]\n",
      "\tDense layer output(TransformerBlock_2/MLP/dense_0) shape: [1, 15, 1536]\n",
      "\tTransformerBlock_2/multihead_attention:\n",
      "\tDropout layer output(TransformerBlock_2/multihead_attention/dropout) shape: [1, 15, 384]\n",
      "\tDense layer output(TransformerBlock_2/multihead_attention/dense_1) shape: [1, 15, 384]\n",
      "\tTransformerBlock_2/multihead_attention/attention:\n",
      "\tDropout layer output(TransformerBlock_2/multihead_attention/attention/dropout) shape: [1, 6, 15, 15]\n",
      "\tTransformerBlock_2/multihead_attention/qkv_block:\n",
      "\tDense layer output(TransformerBlock_2/multihead_attention/qkv_block/dense_v) shape: [1, 15, 384]\n",
      "\tDense layer output(TransformerBlock_2/multihead_attention/qkv_block/dense_k) shape: [1, 15, 384]\n",
      "\tDense layer output(TransformerBlock_2/multihead_attention/qkv_block/dense_q) shape: [1, 15, 384]\n",
      "TransformerBlock_1:\n",
      "\tTransformerBlock_1/MLP:\n",
      "\tDropout layer output(TransformerBlock_1/MLP/dropout) shape: [1, 15, 384]\n",
      "\tDense layer output(TransformerBlock_1/MLP/dense_1) shape: [1, 15, 384]\n",
      "\tDense layer output(TransformerBlock_1/MLP/dense_0) shape: [1, 15, 1536]\n",
      "\tTransformerBlock_1/multihead_attention:\n",
      "\tDropout layer output(TransformerBlock_1/multihead_attention/dropout) shape: [1, 15, 384]\n",
      "\tDense layer output(TransformerBlock_1/multihead_attention/dense_1) shape: [1, 15, 384]\n",
      "\tTransformerBlock_1/multihead_attention/attention:\n",
      "\tDropout layer output(TransformerBlock_1/multihead_attention/attention/dropout) shape: [1, 6, 15, 15]\n",
      "\tTransformerBlock_1/multihead_attention/qkv_block:\n",
      "\tDense layer output(TransformerBlock_1/multihead_attention/qkv_block/dense_v) shape: [1, 15, 384]\n",
      "\tDense layer output(TransformerBlock_1/multihead_attention/qkv_block/dense_k) shape: [1, 15, 384]\n",
      "\tDense layer output(TransformerBlock_1/multihead_attention/qkv_block/dense_q) shape: [1, 15, 384]\n",
      "TransformerBlock_0:\n",
      "\tTransformerBlock_0/MLP:\n",
      "\tDropout layer output(TransformerBlock_0/MLP/dropout) shape: [1, 15, 384]\n",
      "\tDense layer output(TransformerBlock_0/MLP/dense_1) shape: [1, 15, 384]\n",
      "\tDense layer output(TransformerBlock_0/MLP/dense_0) shape: [1, 15, 1536]\n",
      "\tTransformerBlock_0/multihead_attention:\n",
      "\tDropout layer output(TransformerBlock_0/multihead_attention/dropout) shape: [1, 15, 384]\n",
      "\tDense layer output(TransformerBlock_0/multihead_attention/dense_1) shape: [1, 15, 384]\n",
      "\tTransformerBlock_0/multihead_attention/attention:\n",
      "\tDropout layer output(TransformerBlock_0/multihead_attention/attention/dropout) shape: [1, 6, 15, 15]\n",
      "\tTransformerBlock_0/multihead_attention/qkv_block:\n",
      "\tDense layer output(TransformerBlock_0/multihead_attention/qkv_block/dense_v) shape: [1, 15, 384]\n",
      "\tDense layer output(TransformerBlock_0/multihead_attention/qkv_block/dense_k) shape: [1, 15, 384]\n",
      "\tDense layer output(TransformerBlock_0/multihead_attention/qkv_block/dense_q) shape: [1, 15, 384]\n",
      "PositionalEncodingBlock:\n",
      "\tDropout layer output(PositionalEncodingBlock/dropout) shape: [1, 15, 384]\n",
      "\tPositional encoding layer output(PositionalEncodingBlock/positional_enc_layer) shape: [1, 15, 384]\n",
      "Embedding layer output(EmbeddingLayer) shape: [1, 15, 384]\n",
      "---------------------------------------------------------------------------\n"
     ]
    }
   ],
   "source": [
    "# TODO: Set padding_char_enc to the int coded padding token below\n",
    "padding_char_enc = char2ind_map['#']\n",
    "myminigpt = GPTMini6(vocab_sz=9, seq_len=15, padding_char_enc=padding_char_enc)\n",
    "myminigpt.compile(loss='temporal_cross_entropy')"
   ]
  },
  {
   "cell_type": "markdown",
   "id": "252ddd95",
   "metadata": {
    "collapsed": false
   },
   "source": [
    "The above cell should output:\n",
    "\n",
    "```\n",
    "---------------------------------------------------------------------------\n",
    "Dense layer output(output) shape: [1, 15, 9]\n",
    "TransformerBlock_5:\n",
    "\tTransformerBlock_5/MLP:\n",
    "\tDropout layer output(TransformerBlock_5/MLP/dropout) shape: [1, 15, 384]\n",
    "\tDense layer output(TransformerBlock_5/MLP/dense_1) shape: [1, 15, 384]\n",
    "\tDense layer output(TransformerBlock_5/MLP/dense_0) shape: [1, 15, 1536]\n",
    "\tTransformerBlock_5/multihead_attention:\n",
    "\tDropout layer output(TransformerBlock_5/multihead_attention/dropout) shape: [1, 15, 384]\n",
    "\tDense layer output(TransformerBlock_5/multihead_attention/dense_1) shape: [1, 15, 384]\n",
    "\tTransformerBlock_5/multihead_attention/attention:\n",
    "\tDropout layer output(TransformerBlock_5/multihead_attention/attention/dropout) shape: [1, 6, 15, 15]\n",
    "\tTransformerBlock_5/multihead_attention/qkv_block:\n",
    "\tDense layer output(TransformerBlock_5/multihead_attention/qkv_block/dense_v) shape: [1, 15, 384]\n",
    "\tDense layer output(TransformerBlock_5/multihead_attention/qkv_block/dense_k) shape: [1, 15, 384]\n",
    "\tDense layer output(TransformerBlock_5/multihead_attention/qkv_block/dense_q) shape: [1, 15, 384]\n",
    "TransformerBlock_4:\n",
    "\tTransformerBlock_4/MLP:\n",
    "\tDropout layer output(TransformerBlock_4/MLP/dropout) shape: [1, 15, 384]\n",
    "\tDense layer output(TransformerBlock_4/MLP/dense_1) shape: [1, 15, 384]\n",
    "\tDense layer output(TransformerBlock_4/MLP/dense_0) shape: [1, 15, 1536]\n",
    "\tTransformerBlock_4/multihead_attention:\n",
    "\tDropout layer output(TransformerBlock_4/multihead_attention/dropout) shape: [1, 15, 384]\n",
    "\tDense layer output(TransformerBlock_4/multihead_attention/dense_1) shape: [1, 15, 384]\n",
    "\tTransformerBlock_4/multihead_attention/attention:\n",
    "\tDropout layer output(TransformerBlock_4/multihead_attention/attention/dropout) shape: [1, 6, 15, 15]\n",
    "\tTransformerBlock_4/multihead_attention/qkv_block:\n",
    "\tDense layer output(TransformerBlock_4/multihead_attention/qkv_block/dense_v) shape: [1, 15, 384]\n",
    "\tDense layer output(TransformerBlock_4/multihead_attention/qkv_block/dense_k) shape: [1, 15, 384]\n",
    "\tDense layer output(TransformerBlock_4/multihead_attention/qkv_block/dense_q) shape: [1, 15, 384]\n",
    "TransformerBlock_3:\n",
    "\tTransformerBlock_3/MLP:\n",
    "\tDropout layer output(TransformerBlock_3/MLP/dropout) shape: [1, 15, 384]\n",
    "\tDense layer output(TransformerBlock_3/MLP/dense_1) shape: [1, 15, 384]\n",
    "\tDense layer output(TransformerBlock_3/MLP/dense_0) shape: [1, 15, 1536]\n",
    "\tTransformerBlock_3/multihead_attention:\n",
    "\tDropout layer output(TransformerBlock_3/multihead_attention/dropout) shape: [1, 15, 384]\n",
    "\tDense layer output(TransformerBlock_3/multihead_attention/dense_1) shape: [1, 15, 384]\n",
    "\tTransformerBlock_3/multihead_attention/attention:\n",
    "\tDropout layer output(TransformerBlock_3/multihead_attention/attention/dropout) shape: [1, 6, 15, 15]\n",
    "\tTransformerBlock_3/multihead_attention/qkv_block:\n",
    "\tDense layer output(TransformerBlock_3/multihead_attention/qkv_block/dense_v) shape: [1, 15, 384]\n",
    "\tDense layer output(TransformerBlock_3/multihead_attention/qkv_block/dense_k) shape: [1, 15, 384]\n",
    "\tDense layer output(TransformerBlock_3/multihead_attention/qkv_block/dense_q) shape: [1, 15, 384]\n",
    "TransformerBlock_2:\n",
    "\tTransformerBlock_2/MLP:\n",
    "\tDropout layer output(TransformerBlock_2/MLP/dropout) shape: [1, 15, 384]\n",
    "\tDense layer output(TransformerBlock_2/MLP/dense_1) shape: [1, 15, 384]\n",
    "\tDense layer output(TransformerBlock_2/MLP/dense_0) shape: [1, 15, 1536]\n",
    "\tTransformerBlock_2/multihead_attention:\n",
    "\tDropout layer output(TransformerBlock_2/multihead_attention/dropout) shape: [1, 15, 384]\n",
    "\tDense layer output(TransformerBlock_2/multihead_attention/dense_1) shape: [1, 15, 384]\n",
    "\tTransformerBlock_2/multihead_attention/attention:\n",
    "\tDropout layer output(TransformerBlock_2/multihead_attention/attention/dropout) shape: [1, 6, 15, 15]\n",
    "\tTransformerBlock_2/multihead_attention/qkv_block:\n",
    "\tDense layer output(TransformerBlock_2/multihead_attention/qkv_block/dense_v) shape: [1, 15, 384]\n",
    "\tDense layer output(TransformerBlock_2/multihead_attention/qkv_block/dense_k) shape: [1, 15, 384]\n",
    "\tDense layer output(TransformerBlock_2/multihead_attention/qkv_block/dense_q) shape: [1, 15, 384]\n",
    "TransformerBlock_1:\n",
    "\tTransformerBlock_1/MLP:\n",
    "\tDropout layer output(TransformerBlock_1/MLP/dropout) shape: [1, 15, 384]\n",
    "\tDense layer output(TransformerBlock_1/MLP/dense_1) shape: [1, 15, 384]\n",
    "\tDense layer output(TransformerBlock_1/MLP/dense_0) shape: [1, 15, 1536]\n",
    "\tTransformerBlock_1/multihead_attention:\n",
    "\tDropout layer output(TransformerBlock_1/multihead_attention/dropout) shape: [1, 15, 384]\n",
    "\tDense layer output(TransformerBlock_1/multihead_attention/dense_1) shape: [1, 15, 384]\n",
    "\tTransformerBlock_1/multihead_attention/attention:\n",
    "\tDropout layer output(TransformerBlock_1/multihead_attention/attention/dropout) shape: [1, 6, 15, 15]\n",
    "\tTransformerBlock_1/multihead_attention/qkv_block:\n",
    "\tDense layer output(TransformerBlock_1/multihead_attention/qkv_block/dense_v) shape: [1, 15, 384]\n",
    "\tDense layer output(TransformerBlock_1/multihead_attention/qkv_block/dense_k) shape: [1, 15, 384]\n",
    "\tDense layer output(TransformerBlock_1/multihead_attention/qkv_block/dense_q) shape: [1, 15, 384]\n",
    "TransformerBlock_0:\n",
    "\tTransformerBlock_0/MLP:\n",
    "\tDropout layer output(TransformerBlock_0/MLP/dropout) shape: [1, 15, 384]\n",
    "\tDense layer output(TransformerBlock_0/MLP/dense_1) shape: [1, 15, 384]\n",
    "\tDense layer output(TransformerBlock_0/MLP/dense_0) shape: [1, 15, 1536]\n",
    "\tTransformerBlock_0/multihead_attention:\n",
    "\tDropout layer output(TransformerBlock_0/multihead_attention/dropout) shape: [1, 15, 384]\n",
    "\tDense layer output(TransformerBlock_0/multihead_attention/dense_1) shape: [1, 15, 384]\n",
    "\tTransformerBlock_0/multihead_attention/attention:\n",
    "\tDropout layer output(TransformerBlock_0/multihead_attention/attention/dropout) shape: [1, 6, 15, 15]\n",
    "\tTransformerBlock_0/multihead_attention/qkv_block:\n",
    "\tDense layer output(TransformerBlock_0/multihead_attention/qkv_block/dense_v) shape: [1, 15, 384]\n",
    "\tDense layer output(TransformerBlock_0/multihead_attention/qkv_block/dense_k) shape: [1, 15, 384]\n",
    "\tDense layer output(TransformerBlock_0/multihead_attention/qkv_block/dense_q) shape: [1, 15, 384]\n",
    "PositionalEncodingBlock:\n",
    "\tDropout layer output(PositionalEncodingBlock/dropout) shape: [1, 15, 384]\n",
    "\tPositional encoding layer output(PositionalEncodingBlock/positional_enc_layer) shape: [1, 15, 384]\n",
    "Embedding layer output(EmbeddingLayer) shape: [1, 15, 384]\n",
    "---------------------------------------------------------------------------\n",
    "```"
   ]
  },
  {
   "cell_type": "markdown",
   "id": "86680bd4",
   "metadata": {
    "collapsed": false
   },
   "source": [
    "### 9b. Train `GPTMini6` on the works of Shakespeare\n",
    "\n",
    "Use default hyperparameters except for the following:\n",
    "- For the validation set, use the 1st 200 sequences. For the training set, use all sequences beyond the 1st 200.\n",
    "- Batch size of `64`.\n",
    "- Patience of `15`.\n",
    "- Learning rate decay patience of `9`.\n",
    "- Learning rate should be allowed to decay no more than `3` times.\n",
    "- Limit training to `100` epochs maximum.\n",
    "\n",
    "Make a well-labeled plot showing the **training and validation loss** over the course of training."
   ]
  },
  {
   "cell_type": "code",
   "execution_count": 9,
   "id": "9658f5d5",
   "metadata": {
    "collapsed": false
   },
   "outputs": [
    {
     "name": "stdout",
     "output_type": "stream",
     "text": [
      "---------------------------------------------------------------------------\n",
      "Dense layer output(output) shape: [1, 250, 66]\n",
      "TransformerBlock_5:\n",
      "\tTransformerBlock_5/MLP:\n",
      "\tDropout layer output(TransformerBlock_5/MLP/dropout) shape: [1, 250, 384]\n",
      "\tDense layer output(TransformerBlock_5/MLP/dense_1) shape: [1, 250, 384]\n",
      "\tDense layer output(TransformerBlock_5/MLP/dense_0) shape: [1, 250, 1536]\n",
      "\tTransformerBlock_5/multihead_attention:\n",
      "\tDropout layer output(TransformerBlock_5/multihead_attention/dropout) shape: [1, 250, 384]\n",
      "\tDense layer output(TransformerBlock_5/multihead_attention/dense_1) shape: [1, 250, 384]\n",
      "\tTransformerBlock_5/multihead_attention/attention:\n",
      "\tDropout layer output(TransformerBlock_5/multihead_attention/attention/dropout) shape: [1, 6, 250, 250]\n",
      "\tTransformerBlock_5/multihead_attention/qkv_block:\n",
      "\tDense layer output(TransformerBlock_5/multihead_attention/qkv_block/dense_v) shape: [1, 250, 384]\n",
      "\tDense layer output(TransformerBlock_5/multihead_attention/qkv_block/dense_k) shape: [1, 250, 384]\n",
      "\tDense layer output(TransformerBlock_5/multihead_attention/qkv_block/dense_q) shape: [1, 250, 384]\n",
      "TransformerBlock_4:\n",
      "\tTransformerBlock_4/MLP:\n",
      "\tDropout layer output(TransformerBlock_4/MLP/dropout) shape: [1, 250, 384]\n",
      "\tDense layer output(TransformerBlock_4/MLP/dense_1) shape: [1, 250, 384]\n",
      "\tDense layer output(TransformerBlock_4/MLP/dense_0) shape: [1, 250, 1536]\n",
      "\tTransformerBlock_4/multihead_attention:\n",
      "\tDropout layer output(TransformerBlock_4/multihead_attention/dropout) shape: [1, 250, 384]\n",
      "\tDense layer output(TransformerBlock_4/multihead_attention/dense_1) shape: [1, 250, 384]\n",
      "\tTransformerBlock_4/multihead_attention/attention:\n",
      "\tDropout layer output(TransformerBlock_4/multihead_attention/attention/dropout) shape: [1, 6, 250, 250]\n",
      "\tTransformerBlock_4/multihead_attention/qkv_block:\n",
      "\tDense layer output(TransformerBlock_4/multihead_attention/qkv_block/dense_v) shape: [1, 250, 384]\n",
      "\tDense layer output(TransformerBlock_4/multihead_attention/qkv_block/dense_k) shape: [1, 250, 384]\n",
      "\tDense layer output(TransformerBlock_4/multihead_attention/qkv_block/dense_q) shape: [1, 250, 384]\n",
      "TransformerBlock_3:\n",
      "\tTransformerBlock_3/MLP:\n",
      "\tDropout layer output(TransformerBlock_3/MLP/dropout) shape: [1, 250, 384]\n",
      "\tDense layer output(TransformerBlock_3/MLP/dense_1) shape: [1, 250, 384]\n",
      "\tDense layer output(TransformerBlock_3/MLP/dense_0) shape: [1, 250, 1536]\n",
      "\tTransformerBlock_3/multihead_attention:\n",
      "\tDropout layer output(TransformerBlock_3/multihead_attention/dropout) shape: [1, 250, 384]\n",
      "\tDense layer output(TransformerBlock_3/multihead_attention/dense_1) shape: [1, 250, 384]\n",
      "\tTransformerBlock_3/multihead_attention/attention:\n",
      "\tDropout layer output(TransformerBlock_3/multihead_attention/attention/dropout) shape: [1, 6, 250, 250]\n",
      "\tTransformerBlock_3/multihead_attention/qkv_block:\n",
      "\tDense layer output(TransformerBlock_3/multihead_attention/qkv_block/dense_v) shape: [1, 250, 384]\n",
      "\tDense layer output(TransformerBlock_3/multihead_attention/qkv_block/dense_k) shape: [1, 250, 384]\n",
      "\tDense layer output(TransformerBlock_3/multihead_attention/qkv_block/dense_q) shape: [1, 250, 384]\n",
      "TransformerBlock_2:\n",
      "\tTransformerBlock_2/MLP:\n",
      "\tDropout layer output(TransformerBlock_2/MLP/dropout) shape: [1, 250, 384]\n",
      "\tDense layer output(TransformerBlock_2/MLP/dense_1) shape: [1, 250, 384]\n",
      "\tDense layer output(TransformerBlock_2/MLP/dense_0) shape: [1, 250, 1536]\n",
      "\tTransformerBlock_2/multihead_attention:\n",
      "\tDropout layer output(TransformerBlock_2/multihead_attention/dropout) shape: [1, 250, 384]\n",
      "\tDense layer output(TransformerBlock_2/multihead_attention/dense_1) shape: [1, 250, 384]\n",
      "\tTransformerBlock_2/multihead_attention/attention:\n",
      "\tDropout layer output(TransformerBlock_2/multihead_attention/attention/dropout) shape: [1, 6, 250, 250]\n",
      "\tTransformerBlock_2/multihead_attention/qkv_block:\n",
      "\tDense layer output(TransformerBlock_2/multihead_attention/qkv_block/dense_v) shape: [1, 250, 384]\n",
      "\tDense layer output(TransformerBlock_2/multihead_attention/qkv_block/dense_k) shape: [1, 250, 384]\n",
      "\tDense layer output(TransformerBlock_2/multihead_attention/qkv_block/dense_q) shape: [1, 250, 384]\n",
      "TransformerBlock_1:\n",
      "\tTransformerBlock_1/MLP:\n",
      "\tDropout layer output(TransformerBlock_1/MLP/dropout) shape: [1, 250, 384]\n",
      "\tDense layer output(TransformerBlock_1/MLP/dense_1) shape: [1, 250, 384]\n",
      "\tDense layer output(TransformerBlock_1/MLP/dense_0) shape: [1, 250, 1536]\n",
      "\tTransformerBlock_1/multihead_attention:\n",
      "\tDropout layer output(TransformerBlock_1/multihead_attention/dropout) shape: [1, 250, 384]\n",
      "\tDense layer output(TransformerBlock_1/multihead_attention/dense_1) shape: [1, 250, 384]\n",
      "\tTransformerBlock_1/multihead_attention/attention:\n",
      "\tDropout layer output(TransformerBlock_1/multihead_attention/attention/dropout) shape: [1, 6, 250, 250]\n",
      "\tTransformerBlock_1/multihead_attention/qkv_block:\n",
      "\tDense layer output(TransformerBlock_1/multihead_attention/qkv_block/dense_v) shape: [1, 250, 384]\n",
      "\tDense layer output(TransformerBlock_1/multihead_attention/qkv_block/dense_k) shape: [1, 250, 384]\n",
      "\tDense layer output(TransformerBlock_1/multihead_attention/qkv_block/dense_q) shape: [1, 250, 384]\n",
      "TransformerBlock_0:\n",
      "\tTransformerBlock_0/MLP:\n",
      "\tDropout layer output(TransformerBlock_0/MLP/dropout) shape: [1, 250, 384]\n",
      "\tDense layer output(TransformerBlock_0/MLP/dense_1) shape: [1, 250, 384]\n",
      "\tDense layer output(TransformerBlock_0/MLP/dense_0) shape: [1, 250, 1536]\n",
      "\tTransformerBlock_0/multihead_attention:\n",
      "\tDropout layer output(TransformerBlock_0/multihead_attention/dropout) shape: [1, 250, 384]\n",
      "\tDense layer output(TransformerBlock_0/multihead_attention/dense_1) shape: [1, 250, 384]\n",
      "\tTransformerBlock_0/multihead_attention/attention:\n",
      "\tDropout layer output(TransformerBlock_0/multihead_attention/attention/dropout) shape: [1, 6, 250, 250]\n",
      "\tTransformerBlock_0/multihead_attention/qkv_block:\n",
      "\tDense layer output(TransformerBlock_0/multihead_attention/qkv_block/dense_v) shape: [1, 250, 384]\n",
      "\tDense layer output(TransformerBlock_0/multihead_attention/qkv_block/dense_k) shape: [1, 250, 384]\n",
      "\tDense layer output(TransformerBlock_0/multihead_attention/qkv_block/dense_q) shape: [1, 250, 384]\n",
      "PositionalEncodingBlock:\n",
      "\tDropout layer output(PositionalEncodingBlock/dropout) shape: [1, 250, 384]\n",
      "\tPositional encoding layer output(PositionalEncodingBlock/positional_enc_layer) shape: [1, 250, 384]\n",
      "Embedding layer output(EmbeddingLayer) shape: [1, 250, 384]\n",
      "---------------------------------------------------------------------------\n"
     ]
    },
    {
     "name": "stdout",
     "output_type": "stream",
     "text": [
      "Tensor(\"Reshape_32:0\", shape=(64, 250), dtype=float32)\n"
     ]
    },
    {
     "name": "stdout",
     "output_type": "stream",
     "text": [
      "Tensor(\"Reshape_32:0\", shape=(64, 250), dtype=float32)\n"
     ]
    },
    {
     "name": "stderr",
     "output_type": "stream",
     "text": [
      "WARNING: All log messages before absl::InitializeLog() is called are written to STDERR\n",
      "I0000 00:00:1747192983.003260     720 service.cc:145] XLA service 0x7e8628df5430 initialized for platform CUDA (this does not guarantee that XLA will be used). Devices:\n",
      "I0000 00:00:1747192983.003309     720 service.cc:153]   StreamExecutor device (0): NVIDIA L4, Compute Capability 8.9\n"
     ]
    },
    {
     "name": "stderr",
     "output_type": "stream",
     "text": [
      "2025-05-14 03:23:03.543886: I tensorflow/compiler/mlir/tensorflow/utils/dump_mlir_util.cc:268] disabling MLIR crash reproducer, set env var `MLIR_CRASH_REPRODUCER_DIRECTORY` to enable.\n"
     ]
    },
    {
     "name": "stderr",
     "output_type": "stream",
     "text": [
      "2025-05-14 03:23:04.245235: I external/local_xla/xla/stream_executor/cuda/cuda_dnn.cc:465] Loaded cuDNN version 90400\n"
     ]
    },
    {
     "name": "stderr",
     "output_type": "stream",
     "text": [
      "I0000 00:00:1747192984.991293     720 device_compiler.h:188] Compiled cluster using XLA!  This line is logged at most once for the lifetime of the process.\n"
     ]
    },
    {
     "name": "stdout",
     "output_type": "stream",
     "text": [
      "Tensor(\"Reshape_32:0\", shape=(64, 250), dtype=float32)\n"
     ]
    },
    {
     "name": "stdout",
     "output_type": "stream",
     "text": [
      "Epoch 1: Training Loss = 3.5661, Validation Loss = 3.2941, Validation Accuracy = 0.1485\n",
      "Epoch 1/100 took 65.3319 seconds\n"
     ]
    },
    {
     "name": "stdout",
     "output_type": "stream",
     "text": [
      "Epoch 2: Training Loss = 3.3273, Validation Loss = 3.2930, Validation Accuracy = 0.1485\n",
      "Epoch 2/100 took 28.6268 seconds\n"
     ]
    },
    {
     "name": "stdout",
     "output_type": "stream",
     "text": [
      "Epoch 3: Training Loss = 3.3227, Validation Loss = 3.2916, Validation Accuracy = 0.1485\n",
      "Epoch 3/100 took 28.6818 seconds\n"
     ]
    },
    {
     "name": "stdout",
     "output_type": "stream",
     "text": [
      "Epoch 4: Training Loss = 3.3175, Validation Loss = 3.2837, Validation Accuracy = 0.1485\n",
      "Epoch 4/100 took 28.6517 seconds\n"
     ]
    },
    {
     "name": "stdout",
     "output_type": "stream",
     "text": [
      "Epoch 5: Training Loss = 3.1132, Validation Loss = 2.7608, Validation Accuracy = 0.2447\n",
      "Epoch 5/100 took 28.6270 seconds\n"
     ]
    },
    {
     "name": "stdout",
     "output_type": "stream",
     "text": [
      "Epoch 6: Training Loss = 2.6880, Validation Loss = 2.5997, Validation Accuracy = 0.2630\n",
      "Epoch 6/100 took 28.6433 seconds\n"
     ]
    },
    {
     "name": "stdout",
     "output_type": "stream",
     "text": [
      "Epoch 7: Training Loss = 2.5742, Validation Loss = 2.5391, Validation Accuracy = 0.2752\n",
      "Epoch 7/100 took 28.6507 seconds\n"
     ]
    },
    {
     "name": "stdout",
     "output_type": "stream",
     "text": [
      "Epoch 8: Training Loss = 2.5144, Validation Loss = 2.4767, Validation Accuracy = 0.2794\n",
      "Epoch 8/100 took 28.6450 seconds\n"
     ]
    },
    {
     "name": "stdout",
     "output_type": "stream",
     "text": [
      "Epoch 9: Training Loss = 2.4433, Validation Loss = 2.3535, Validation Accuracy = 0.3134\n",
      "Epoch 9/100 took 28.6389 seconds\n"
     ]
    },
    {
     "name": "stdout",
     "output_type": "stream",
     "text": [
      "Epoch 10: Training Loss = 2.3349, Validation Loss = 2.2582, Validation Accuracy = 0.3394\n",
      "Epoch 10/100 took 28.6517 seconds\n"
     ]
    },
    {
     "name": "stdout",
     "output_type": "stream",
     "text": [
      "Epoch 11: Training Loss = 2.2499, Validation Loss = 2.1714, Validation Accuracy = 0.3608\n",
      "Epoch 11/100 took 28.6482 seconds\n"
     ]
    },
    {
     "name": "stdout",
     "output_type": "stream",
     "text": [
      "Epoch 12: Training Loss = 2.1639, Validation Loss = 2.0882, Validation Accuracy = 0.3827\n",
      "Epoch 12/100 took 28.6571 seconds\n"
     ]
    },
    {
     "name": "stdout",
     "output_type": "stream",
     "text": [
      "Epoch 13: Training Loss = 2.0696, Validation Loss = 1.9905, Validation Accuracy = 0.4094\n",
      "Epoch 13/100 took 28.6420 seconds\n"
     ]
    },
    {
     "name": "stdout",
     "output_type": "stream",
     "text": [
      "Epoch 14: Training Loss = 1.9865, Validation Loss = 1.8978, Validation Accuracy = 0.4348\n",
      "Epoch 14/100 took 28.6372 seconds\n"
     ]
    },
    {
     "name": "stdout",
     "output_type": "stream",
     "text": [
      "Epoch 15: Training Loss = 1.9040, Validation Loss = 1.8380, Validation Accuracy = 0.4521\n",
      "Epoch 15/100 took 28.6470 seconds\n"
     ]
    },
    {
     "name": "stdout",
     "output_type": "stream",
     "text": [
      "Epoch 16: Training Loss = 1.8326, Validation Loss = 1.7853, Validation Accuracy = 0.4658\n",
      "Epoch 16/100 took 28.6404 seconds\n"
     ]
    },
    {
     "name": "stdout",
     "output_type": "stream",
     "text": [
      "Epoch 17: Training Loss = 1.7719, Validation Loss = 1.7396, Validation Accuracy = 0.4781\n",
      "Epoch 17/100 took 28.6463 seconds\n"
     ]
    },
    {
     "name": "stdout",
     "output_type": "stream",
     "text": [
      "Epoch 18: Training Loss = 1.7190, Validation Loss = 1.6971, Validation Accuracy = 0.4893\n",
      "Epoch 18/100 took 28.6427 seconds\n"
     ]
    },
    {
     "name": "stdout",
     "output_type": "stream",
     "text": [
      "Epoch 19: Training Loss = 1.6735, Validation Loss = 1.6571, Validation Accuracy = 0.5016\n",
      "Epoch 19/100 took 28.6505 seconds\n"
     ]
    },
    {
     "name": "stdout",
     "output_type": "stream",
     "text": [
      "Epoch 20: Training Loss = 1.6365, Validation Loss = 1.6210, Validation Accuracy = 0.5101\n",
      "Epoch 20/100 took 28.6520 seconds\n"
     ]
    },
    {
     "name": "stdout",
     "output_type": "stream",
     "text": [
      "Epoch 21: Training Loss = 1.5976, Validation Loss = 1.6133, Validation Accuracy = 0.5125\n",
      "Epoch 21/100 took 28.6482 seconds\n"
     ]
    },
    {
     "name": "stdout",
     "output_type": "stream",
     "text": [
      "Epoch 22: Training Loss = 1.5677, Validation Loss = 1.5990, Validation Accuracy = 0.5173\n",
      "Epoch 22/100 took 28.6439 seconds\n"
     ]
    },
    {
     "name": "stdout",
     "output_type": "stream",
     "text": [
      "Epoch 23: Training Loss = 1.5411, Validation Loss = 1.5715, Validation Accuracy = 0.5259\n",
      "Epoch 23/100 took 28.6443 seconds\n"
     ]
    },
    {
     "name": "stdout",
     "output_type": "stream",
     "text": [
      "Epoch 24: Training Loss = 1.5197, Validation Loss = 1.5520, Validation Accuracy = 0.5296\n",
      "Epoch 24/100 took 28.6375 seconds\n"
     ]
    },
    {
     "name": "stdout",
     "output_type": "stream",
     "text": [
      "Epoch 25: Training Loss = 1.4982, Validation Loss = 1.5278, Validation Accuracy = 0.5353\n",
      "Epoch 25/100 took 28.6364 seconds\n"
     ]
    },
    {
     "name": "stdout",
     "output_type": "stream",
     "text": [
      "Epoch 26: Training Loss = 1.4747, Validation Loss = 1.5223, Validation Accuracy = 0.5400\n",
      "Epoch 26/100 took 28.6410 seconds\n"
     ]
    },
    {
     "name": "stdout",
     "output_type": "stream",
     "text": [
      "Epoch 27: Training Loss = 1.4545, Validation Loss = 1.5129, Validation Accuracy = 0.5382\n",
      "Epoch 27/100 took 28.6350 seconds\n"
     ]
    },
    {
     "name": "stdout",
     "output_type": "stream",
     "text": [
      "Epoch 28: Training Loss = 1.4378, Validation Loss = 1.5015, Validation Accuracy = 0.5446\n",
      "Epoch 28/100 took 28.6515 seconds\n"
     ]
    },
    {
     "name": "stdout",
     "output_type": "stream",
     "text": [
      "Epoch 29: Training Loss = 1.4251, Validation Loss = 1.4857, Validation Accuracy = 0.5449\n",
      "Epoch 29/100 took 28.6373 seconds\n"
     ]
    },
    {
     "name": "stdout",
     "output_type": "stream",
     "text": [
      "Epoch 30: Training Loss = 1.4127, Validation Loss = 1.4806, Validation Accuracy = 0.5496\n",
      "Epoch 30/100 took 28.6537 seconds\n"
     ]
    },
    {
     "name": "stdout",
     "output_type": "stream",
     "text": [
      "Epoch 31: Training Loss = 1.3973, Validation Loss = 1.4789, Validation Accuracy = 0.5527\n",
      "Epoch 31/100 took 28.6456 seconds\n"
     ]
    },
    {
     "name": "stdout",
     "output_type": "stream",
     "text": [
      "Epoch 32: Training Loss = 1.3848, Validation Loss = 1.4771, Validation Accuracy = 0.5518\n",
      "Epoch 32/100 took 28.6363 seconds\n"
     ]
    },
    {
     "name": "stdout",
     "output_type": "stream",
     "text": [
      "Epoch 33: Training Loss = 1.3736, Validation Loss = 1.4650, Validation Accuracy = 0.5556\n",
      "Epoch 33/100 took 28.6364 seconds\n"
     ]
    },
    {
     "name": "stdout",
     "output_type": "stream",
     "text": [
      "Epoch 34: Training Loss = 1.3641, Validation Loss = 1.4620, Validation Accuracy = 0.5562\n",
      "Epoch 34/100 took 28.6445 seconds\n"
     ]
    },
    {
     "name": "stdout",
     "output_type": "stream",
     "text": [
      "Epoch 35: Training Loss = 1.3502, Validation Loss = 1.4672, Validation Accuracy = 0.5560\n",
      "Epoch 35/100 took 28.6527 seconds\n"
     ]
    },
    {
     "name": "stdout",
     "output_type": "stream",
     "text": [
      "Epoch 36: Training Loss = 1.3422, Validation Loss = 1.4557, Validation Accuracy = 0.5582\n",
      "Epoch 36/100 took 28.6479 seconds\n"
     ]
    },
    {
     "name": "stdout",
     "output_type": "stream",
     "text": [
      "Epoch 37: Training Loss = 1.3352, Validation Loss = 1.4558, Validation Accuracy = 0.5598\n",
      "Epoch 37/100 took 28.6516 seconds\n"
     ]
    },
    {
     "name": "stdout",
     "output_type": "stream",
     "text": [
      "Epoch 38: Training Loss = 1.3251, Validation Loss = 1.4512, Validation Accuracy = 0.5617\n",
      "Epoch 38/100 took 28.6390 seconds\n"
     ]
    },
    {
     "name": "stdout",
     "output_type": "stream",
     "text": [
      "Epoch 39: Training Loss = 1.3110, Validation Loss = 1.4506, Validation Accuracy = 0.5638\n",
      "Epoch 39/100 took 28.6328 seconds\n"
     ]
    },
    {
     "name": "stdout",
     "output_type": "stream",
     "text": [
      "Epoch 40: Training Loss = 1.3056, Validation Loss = 1.4445, Validation Accuracy = 0.5645\n",
      "Epoch 40/100 took 28.6363 seconds\n"
     ]
    },
    {
     "name": "stdout",
     "output_type": "stream",
     "text": [
      "Epoch 41: Training Loss = 1.2984, Validation Loss = 1.4350, Validation Accuracy = 0.5664\n",
      "Epoch 41/100 took 28.6396 seconds\n"
     ]
    },
    {
     "name": "stdout",
     "output_type": "stream",
     "text": [
      "Epoch 42: Training Loss = 1.2913, Validation Loss = 1.4456, Validation Accuracy = 0.5629\n",
      "Epoch 42/100 took 28.6342 seconds\n"
     ]
    },
    {
     "name": "stdout",
     "output_type": "stream",
     "text": [
      "Epoch 43: Training Loss = 1.2790, Validation Loss = 1.4420, Validation Accuracy = 0.5647\n",
      "Epoch 43/100 took 28.6293 seconds\n"
     ]
    },
    {
     "name": "stdout",
     "output_type": "stream",
     "text": [
      "Epoch 44: Training Loss = 1.2683, Validation Loss = 1.4366, Validation Accuracy = 0.5655\n",
      "Epoch 44/100 took 28.6437 seconds\n"
     ]
    },
    {
     "name": "stdout",
     "output_type": "stream",
     "text": [
      "Epoch 45: Training Loss = 1.2638, Validation Loss = 1.4435, Validation Accuracy = 0.5673\n",
      "Epoch 45/100 took 28.6493 seconds\n"
     ]
    },
    {
     "name": "stdout",
     "output_type": "stream",
     "text": [
      "Epoch 46: Training Loss = 1.2515, Validation Loss = 1.4411, Validation Accuracy = 0.5673\n",
      "Epoch 46/100 took 28.6515 seconds\n"
     ]
    },
    {
     "name": "stdout",
     "output_type": "stream",
     "text": [
      "Epoch 47: Training Loss = 1.2461, Validation Loss = 1.4393, Validation Accuracy = 0.5688\n",
      "Epoch 47/100 took 28.6336 seconds\n"
     ]
    },
    {
     "name": "stdout",
     "output_type": "stream",
     "text": [
      "Epoch 48: Training Loss = 1.2397, Validation Loss = 1.4357, Validation Accuracy = 0.5699\n",
      "Epoch 48/100 took 28.6479 seconds\n"
     ]
    },
    {
     "name": "stdout",
     "output_type": "stream",
     "text": [
      "Current lr= 0.001 Updated lr= 0.0005\n",
      "Epoch 49: Training Loss = 1.2360, Validation Loss = 1.4428, Validation Accuracy = 0.5669\n",
      "Epoch 49/100 took 28.6461 seconds\n"
     ]
    },
    {
     "name": "stdout",
     "output_type": "stream",
     "text": [
      "Epoch 50: Training Loss = 1.2001, Validation Loss = 1.4347, Validation Accuracy = 0.5722\n",
      "Epoch 50/100 took 28.6342 seconds\n"
     ]
    },
    {
     "name": "stdout",
     "output_type": "stream",
     "text": [
      "Epoch 51: Training Loss = 1.1866, Validation Loss = 1.4314, Validation Accuracy = 0.5719\n",
      "Epoch 51/100 took 28.6383 seconds\n"
     ]
    },
    {
     "name": "stdout",
     "output_type": "stream",
     "text": [
      "Epoch 52: Training Loss = 1.1746, Validation Loss = 1.4408, Validation Accuracy = 0.5731\n",
      "Epoch 52/100 took 28.6451 seconds\n"
     ]
    },
    {
     "name": "stdout",
     "output_type": "stream",
     "text": [
      "Epoch 53: Training Loss = 1.1655, Validation Loss = 1.4432, Validation Accuracy = 0.5714\n",
      "Epoch 53/100 took 28.6412 seconds\n"
     ]
    },
    {
     "name": "stdout",
     "output_type": "stream",
     "text": [
      "Epoch 54: Training Loss = 1.1624, Validation Loss = 1.4534, Validation Accuracy = 0.5720\n",
      "Epoch 54/100 took 28.6272 seconds\n"
     ]
    },
    {
     "name": "stdout",
     "output_type": "stream",
     "text": [
      "Epoch 55: Training Loss = 1.1541, Validation Loss = 1.4533, Validation Accuracy = 0.5723\n",
      "Epoch 55/100 took 28.6483 seconds\n"
     ]
    },
    {
     "name": "stdout",
     "output_type": "stream",
     "text": [
      "Epoch 56: Training Loss = 1.1529, Validation Loss = 1.4535, Validation Accuracy = 0.5729\n",
      "Epoch 56/100 took 28.6444 seconds\n"
     ]
    },
    {
     "name": "stdout",
     "output_type": "stream",
     "text": [
      "Epoch 57: Training Loss = 1.1441, Validation Loss = 1.4657, Validation Accuracy = 0.5711\n",
      "Epoch 57/100 took 28.6356 seconds\n"
     ]
    },
    {
     "name": "stdout",
     "output_type": "stream",
     "text": [
      "Epoch 58: Training Loss = 1.1392, Validation Loss = 1.4606, Validation Accuracy = 0.5724\n",
      "Epoch 58/100 took 28.6321 seconds\n"
     ]
    },
    {
     "name": "stdout",
     "output_type": "stream",
     "text": [
      "Current lr= 0.0005 Updated lr= 0.00025\n",
      "Epoch 59: Training Loss = 1.1338, Validation Loss = 1.4675, Validation Accuracy = 0.5710\n",
      "Epoch 59/100 took 28.6399 seconds\n"
     ]
    },
    {
     "name": "stdout",
     "output_type": "stream",
     "text": [
      "Epoch 60: Training Loss = 1.1120, Validation Loss = 1.4598, Validation Accuracy = 0.5738\n",
      "Epoch 60/100 took 28.6479 seconds\n"
     ]
    },
    {
     "name": "stdout",
     "output_type": "stream",
     "text": [
      "Epoch 61: Training Loss = 1.1005, Validation Loss = 1.4654, Validation Accuracy = 0.5743\n",
      "Epoch 61/100 took 28.6483 seconds\n"
     ]
    },
    {
     "name": "stdout",
     "output_type": "stream",
     "text": [
      "Epoch 62: Training Loss = 1.0940, Validation Loss = 1.4690, Validation Accuracy = 0.5730\n",
      "Epoch 62/100 took 28.6501 seconds\n"
     ]
    },
    {
     "name": "stdout",
     "output_type": "stream",
     "text": [
      "Epoch 63: Training Loss = 1.0953, Validation Loss = 1.4791, Validation Accuracy = 0.5733\n",
      "Epoch 63/100 took 28.6436 seconds\n"
     ]
    },
    {
     "name": "stdout",
     "output_type": "stream",
     "text": [
      "Epoch 64: Training Loss = 1.0879, Validation Loss = 1.4799, Validation Accuracy = 0.5718\n",
      "Epoch 64/100 took 28.6520 seconds\n"
     ]
    },
    {
     "name": "stdout",
     "output_type": "stream",
     "text": [
      "Epoch 65: Training Loss = 1.0806, Validation Loss = 1.4834, Validation Accuracy = 0.5712\n",
      "Early stopping triggered at epoch 65\n",
      "Finished training after 65 epochs!\n"
     ]
    }
   ],
   "source": [
    "# Load the document and create the char2ind map\n",
    "corpus, vocab = load_document()\n",
    "char2ind_map = make_char2ind_map(vocab)\n",
    "\n",
    "# Define sequence and labels\n",
    "seq_len = 250\n",
    "seqs, labels = make_seqs_and_labels(corpus, char2ind_map, seq_len=seq_len)\n",
    "\n",
    "# Add padding character to the char2ind map\n",
    "padding_char = '#'\n",
    "next_available_index = len(char2ind_map)\n",
    "char2ind_map[padding_char] = next_available_index\n",
    "\n",
    "# Split data\n",
    "seqs_train, seqs_val = seqs[200:], seqs[:200]\n",
    "labels_train, labels_val = labels[200:], labels[:200]\n",
    "\n",
    "# Set vocab size and padding character encoding\n",
    "vocab_sz = len(char2ind_map)\n",
    "padding_char_enc = char2ind_map['#']\n",
    "\n",
    "# Train\n",
    "minigpt = GPTMini6(vocab_sz=vocab_sz, seq_len=seq_len, padding_char_enc=padding_char_enc)\n",
    "minigpt.compile(loss='temporal_cross_entropy')\n",
    "train_loss_hist, val_loss_hist, _, _ = minigpt.fit(seqs_train, labels_train, seqs_val, labels_val, batch_size=64, patience=15, max_epochs=100, lr_max_decays=3, lr_patience=9)"
   ]
  },
  {
   "cell_type": "code",
   "execution_count": 0,
   "id": "e845cdba",
   "metadata": {
    "collapsed": false
   },
   "outputs": [],
   "source": [
    "epochs = np.arange(len(train_loss_hist))\n",
    "plt.plot(epochs, train_loss_hist, label = \"train loss\")\n",
    "plt.plot(epochs, val_loss_hist, label = \"val loss\")\n",
    "plt.title(\"train and val loss of gptmini6 on shakespeare\")\n",
    "plt.xlabel(\"epochs\")\n",
    "plt.ylabel(\"loss\")\n",
    "plt.legend()\n",
    "plt.show()"
   ]
  },
  {
   "cell_type": "markdown",
   "id": "bc0bf1f9",
   "metadata": {
    "collapsed": false
   },
   "source": [
    "### 9c. Prompt GPT to generate Shakespearian text  \n",
    "\n",
    "Have your GPT to generate a large amount of text (e.g. generate 5000 chars) that follows a prompt of your choice (a string containing few words or a sentence).\n",
    "\n",
    "**Guidelines**\n",
    "1. Use your `make_ind2char_mapping` from the math datasets to make the reverse map.\n",
    "2. Use the `'distributed'` method for generating text.\n",
    "\n",
    "When you turn in your project, include an example of at least one long passage of generated text by your GPT below."
   ]
  },
  {
   "cell_type": "code",
   "execution_count": 11,
   "id": "ad8bb759",
   "metadata": {
    "collapsed": false
   },
   "outputs": [],
   "source": [
    "from addition_dataset import make_ind2char_mapping"
   ]
  },
  {
   "cell_type": "code",
   "execution_count": 12,
   "id": "80384f47",
   "metadata": {
    "collapsed": false,
    "scrolled": true
   },
   "outputs": [
    {
     "name": "stdout",
     "output_type": "stream",
     "text": [
      "When first the dawning breath of spring awoke, I saw\n"
     ]
    },
    {
     "name": "stdout",
     "output_type": "stream",
     "text": [
      "him "
     ]
    },
    {
     "name": "stdout",
     "output_type": "stream",
     "text": [
      "upon"
     ]
    },
    {
     "name": "stdout",
     "output_type": "stream",
     "text": [
      " his"
     ]
    },
    {
     "name": "stdout",
     "output_type": "stream",
     "text": [
      " wea"
     ]
    },
    {
     "name": "stdout",
     "output_type": "stream",
     "text": [
      "k an"
     ]
    },
    {
     "name": "stdout",
     "output_type": "stream",
     "text": [
      "d go"
     ]
    },
    {
     "name": "stdout",
     "output_type": "stream",
     "text": [
      "od "
     ]
    },
    {
     "name": "stdout",
     "output_type": "stream",
     "text": [
      "bani"
     ]
    },
    {
     "name": "stdout",
     "output_type": "stream",
     "text": [
      "shme"
     ]
    },
    {
     "name": "stdout",
     "output_type": "stream",
     "text": [
      "nt,"
     ]
    },
    {
     "name": "stdout",
     "output_type": "stream",
     "text": [
      "\n",
      "Hav"
     ]
    },
    {
     "name": "stdout",
     "output_type": "stream",
     "text": [
      "ing "
     ]
    },
    {
     "name": "stdout",
     "output_type": "stream",
     "text": [
      "our "
     ]
    },
    {
     "name": "stdout",
     "output_type": "stream",
     "text": [
      "virt"
     ]
    },
    {
     "name": "stdout",
     "output_type": "stream",
     "text": [
      "ue.\n"
     ]
    },
    {
     "name": "stdout",
     "output_type": "stream",
     "text": [
      "\n",
      "AU"
     ]
    },
    {
     "name": "stdout",
     "output_type": "stream",
     "text": [
      "TOL"
     ]
    },
    {
     "name": "stdout",
     "output_type": "stream",
     "text": [
      "YCUS"
     ]
    },
    {
     "name": "stdout",
     "output_type": "stream",
     "text": [
      ":\n",
      "My"
     ]
    },
    {
     "name": "stdout",
     "output_type": "stream",
     "text": [
      " lor"
     ]
    },
    {
     "name": "stdout",
     "output_type": "stream",
     "text": [
      "d!\n"
     ]
    },
    {
     "name": "stdout",
     "output_type": "stream",
     "text": [
      "\n",
      "She"
     ]
    },
    {
     "name": "stdout",
     "output_type": "stream",
     "text": [
      "phe"
     ]
    },
    {
     "name": "stdout",
     "output_type": "stream",
     "text": [
      "rd:\n"
     ]
    },
    {
     "name": "stdout",
     "output_type": "stream",
     "text": [
      "Swee"
     ]
    },
    {
     "name": "stdout",
     "output_type": "stream",
     "text": [
      "the"
     ]
    },
    {
     "name": "stdout",
     "output_type": "stream",
     "text": [
      "r Cl"
     ]
    },
    {
     "name": "stdout",
     "output_type": "stream",
     "text": [
      "aren"
     ]
    },
    {
     "name": "stdout",
     "output_type": "stream",
     "text": [
      "ce, "
     ]
    },
    {
     "name": "stdout",
     "output_type": "stream",
     "text": [
      "peac"
     ]
    },
    {
     "name": "stdout",
     "output_type": "stream",
     "text": [
      "e!\n"
     ]
    },
    {
     "name": "stdout",
     "output_type": "stream",
     "text": [
      "\n",
      "She"
     ]
    },
    {
     "name": "stdout",
     "output_type": "stream",
     "text": [
      "riff"
     ]
    },
    {
     "name": "stdout",
     "output_type": "stream",
     "text": [
      ":\n",
      "Th"
     ]
    },
    {
     "name": "stdout",
     "output_type": "stream",
     "text": [
      "ere "
     ]
    },
    {
     "name": "stdout",
     "output_type": "stream",
     "text": [
      "is n"
     ]
    },
    {
     "name": "stdout",
     "output_type": "stream",
     "text": [
      "o co"
     ]
    },
    {
     "name": "stdout",
     "output_type": "stream",
     "text": [
      "mmon"
     ]
    },
    {
     "name": "stdout",
     "output_type": "stream",
     "text": [
      " buy"
     ]
    },
    {
     "name": "stdout",
     "output_type": "stream",
     "text": [
      " a l"
     ]
    },
    {
     "name": "stdout",
     "output_type": "stream",
     "text": [
      "ord "
     ]
    },
    {
     "name": "stdout",
     "output_type": "stream",
     "text": [
      "with"
     ]
    },
    {
     "name": "stdout",
     "output_type": "stream",
     "text": [
      "al.\n"
     ]
    },
    {
     "name": "stdout",
     "output_type": "stream",
     "text": [
      "\n",
      "She"
     ]
    },
    {
     "name": "stdout",
     "output_type": "stream",
     "text": [
      "pher"
     ]
    },
    {
     "name": "stdout",
     "output_type": "stream",
     "text": [
      "d:\n",
      "T"
     ]
    },
    {
     "name": "stdout",
     "output_type": "stream",
     "text": [
      "ell"
     ]
    },
    {
     "name": "stdout",
     "output_type": "stream",
     "text": [
      " me,"
     ]
    },
    {
     "name": "stdout",
     "output_type": "stream",
     "text": [
      " you"
     ]
    },
    {
     "name": "stdout",
     "output_type": "stream",
     "text": [
      " mea"
     ]
    },
    {
     "name": "stdout",
     "output_type": "stream",
     "text": [
      "n th"
     ]
    },
    {
     "name": "stdout",
     "output_type": "stream",
     "text": [
      "e t"
     ]
    },
    {
     "name": "stdout",
     "output_type": "stream",
     "text": [
      "reac"
     ]
    },
    {
     "name": "stdout",
     "output_type": "stream",
     "text": [
      "her"
     ]
    },
    {
     "name": "stdout",
     "output_type": "stream",
     "text": [
      "ous "
     ]
    },
    {
     "name": "stdout",
     "output_type": "stream",
     "text": [
      "subj"
     ]
    },
    {
     "name": "stdout",
     "output_type": "stream",
     "text": [
      "ect "
     ]
    },
    {
     "name": "stdout",
     "output_type": "stream",
     "text": [
      "as\n",
      "A"
     ]
    },
    {
     "name": "stdout",
     "output_type": "stream",
     "text": [
      "s Ch"
     ]
    },
    {
     "name": "stdout",
     "output_type": "stream",
     "text": [
      "rist"
     ]
    },
    {
     "name": "stdout",
     "output_type": "stream",
     "text": [
      "ian "
     ]
    },
    {
     "name": "stdout",
     "output_type": "stream",
     "text": [
      "was"
     ]
    },
    {
     "name": "stdout",
     "output_type": "stream",
     "text": [
      " cru"
     ]
    },
    {
     "name": "stdout",
     "output_type": "stream",
     "text": [
      "el f"
     ]
    },
    {
     "name": "stdout",
     "output_type": "stream",
     "text": [
      "or m"
     ]
    },
    {
     "name": "stdout",
     "output_type": "stream",
     "text": [
      "y fa"
     ]
    },
    {
     "name": "stdout",
     "output_type": "stream",
     "text": [
      "ther"
     ]
    },
    {
     "name": "stdout",
     "output_type": "stream",
     "text": [
      "'s p"
     ]
    },
    {
     "name": "stdout",
     "output_type": "stream",
     "text": [
      "ass"
     ]
    },
    {
     "name": "stdout",
     "output_type": "stream",
     "text": [
      "ion\n"
     ]
    },
    {
     "name": "stdout",
     "output_type": "stream",
     "text": [
      "To c"
     ]
    },
    {
     "name": "stdout",
     "output_type": "stream",
     "text": [
      "ommm"
     ]
    },
    {
     "name": "stdout",
     "output_type": "stream",
     "text": [
      "on t"
     ]
    },
    {
     "name": "stdout",
     "output_type": "stream",
     "text": [
      "he b"
     ]
    },
    {
     "name": "stdout",
     "output_type": "stream",
     "text": [
      "usin"
     ]
    },
    {
     "name": "stdout",
     "output_type": "stream",
     "text": [
      "ess "
     ]
    },
    {
     "name": "stdout",
     "output_type": "stream",
     "text": [
      "of u"
     ]
    },
    {
     "name": "stdout",
     "output_type": "stream",
     "text": [
      "s: "
     ]
    },
    {
     "name": "stdout",
     "output_type": "stream",
     "text": [
      "peac"
     ]
    },
    {
     "name": "stdout",
     "output_type": "stream",
     "text": [
      "e is"
     ]
    },
    {
     "name": "stdout",
     "output_type": "stream",
     "text": [
      " fig"
     ]
    },
    {
     "name": "stdout",
     "output_type": "stream",
     "text": [
      "ht.\n"
     ]
    },
    {
     "name": "stdout",
     "output_type": "stream",
     "text": [
      "Arm "
     ]
    },
    {
     "name": "stdout",
     "output_type": "stream",
     "text": [
      "thou"
     ]
    },
    {
     "name": "stdout",
     "output_type": "stream",
     "text": [
      " wer"
     ]
    },
    {
     "name": "stdout",
     "output_type": "stream",
     "text": [
      "t'st"
     ]
    },
    {
     "name": "stdout",
     "output_type": "stream",
     "text": [
      ", th"
     ]
    },
    {
     "name": "stdout",
     "output_type": "stream",
     "text": [
      "ou, "
     ]
    },
    {
     "name": "stdout",
     "output_type": "stream",
     "text": [
      "best"
     ]
    },
    {
     "name": "stdout",
     "output_type": "stream",
     "text": [
      " Jul"
     ]
    },
    {
     "name": "stdout",
     "output_type": "stream",
     "text": [
      "iet,"
     ]
    },
    {
     "name": "stdout",
     "output_type": "stream",
     "text": [
      " sin"
     ]
    },
    {
     "name": "stdout",
     "output_type": "stream",
     "text": [
      "ce t"
     ]
    },
    {
     "name": "stdout",
     "output_type": "stream",
     "text": [
      "hou "
     ]
    },
    {
     "name": "stdout",
     "output_type": "stream",
     "text": [
      "art "
     ]
    },
    {
     "name": "stdout",
     "output_type": "stream",
     "text": [
      "it.\n"
     ]
    },
    {
     "name": "stdout",
     "output_type": "stream",
     "text": [
      "\n",
      "Se"
     ]
    },
    {
     "name": "stdout",
     "output_type": "stream",
     "text": [
      "cond"
     ]
    },
    {
     "name": "stdout",
     "output_type": "stream",
     "text": [
      " Mur"
     ]
    },
    {
     "name": "stdout",
     "output_type": "stream",
     "text": [
      "dere"
     ]
    },
    {
     "name": "stdout",
     "output_type": "stream",
     "text": [
      "r:\n",
      "Y"
     ]
    },
    {
     "name": "stdout",
     "output_type": "stream",
     "text": [
      "ou w"
     ]
    },
    {
     "name": "stdout",
     "output_type": "stream",
     "text": [
      "ere "
     ]
    },
    {
     "name": "stdout",
     "output_type": "stream",
     "text": [
      "thes"
     ]
    },
    {
     "name": "stdout",
     "output_type": "stream",
     "text": [
      "e qu"
     ]
    },
    {
     "name": "stdout",
     "output_type": "stream",
     "text": [
      "arre"
     ]
    },
    {
     "name": "stdout",
     "output_type": "stream",
     "text": [
      "l th"
     ]
    },
    {
     "name": "stdout",
     "output_type": "stream",
     "text": [
      "at "
     ]
    },
    {
     "name": "stdout",
     "output_type": "stream",
     "text": [
      "Rome"
     ]
    },
    {
     "name": "stdout",
     "output_type": "stream",
     "text": [
      "o's "
     ]
    },
    {
     "name": "stdout",
     "output_type": "stream",
     "text": [
      "lie?"
     ]
    },
    {
     "name": "stdout",
     "output_type": "stream",
     "text": [
      "\n",
      "\n",
      "Fi"
     ]
    },
    {
     "name": "stdout",
     "output_type": "stream",
     "text": [
      "rst "
     ]
    },
    {
     "name": "stdout",
     "output_type": "stream",
     "text": [
      "Murd"
     ]
    },
    {
     "name": "stdout",
     "output_type": "stream",
     "text": [
      "erer"
     ]
    },
    {
     "name": "stdout",
     "output_type": "stream",
     "text": [
      ":\n",
      "Ma"
     ]
    },
    {
     "name": "stdout",
     "output_type": "stream",
     "text": [
      "rry,"
     ]
    },
    {
     "name": "stdout",
     "output_type": "stream",
     "text": [
      " in "
     ]
    },
    {
     "name": "stdout",
     "output_type": "stream",
     "text": [
      "god "
     ]
    },
    {
     "name": "stdout",
     "output_type": "stream",
     "text": [
      "swee"
     ]
    },
    {
     "name": "stdout",
     "output_type": "stream",
     "text": [
      "t ha"
     ]
    },
    {
     "name": "stdout",
     "output_type": "stream",
     "text": [
      "te b"
     ]
    },
    {
     "name": "stdout",
     "output_type": "stream",
     "text": [
      "ut a"
     ]
    },
    {
     "name": "stdout",
     "output_type": "stream",
     "text": [
      "s no"
     ]
    },
    {
     "name": "stdout",
     "output_type": "stream",
     "text": [
      "t lo"
     ]
    },
    {
     "name": "stdout",
     "output_type": "stream",
     "text": [
      "ok'd"
     ]
    },
    {
     "name": "stdout",
     "output_type": "stream",
     "text": [
      "\n",
      "So "
     ]
    },
    {
     "name": "stdout",
     "output_type": "stream",
     "text": [
      "shar"
     ]
    },
    {
     "name": "stdout",
     "output_type": "stream",
     "text": [
      "p as"
     ]
    },
    {
     "name": "stdout",
     "output_type": "stream",
     "text": [
      " as "
     ]
    },
    {
     "name": "stdout",
     "output_type": "stream",
     "text": [
      "sick"
     ]
    },
    {
     "name": "stdout",
     "output_type": "stream",
     "text": [
      "ness"
     ]
    },
    {
     "name": "stdout",
     "output_type": "stream",
     "text": [
      " by "
     ]
    },
    {
     "name": "stdout",
     "output_type": "stream",
     "text": [
      "a r"
     ]
    },
    {
     "name": "stdout",
     "output_type": "stream",
     "text": [
      "oya"
     ]
    },
    {
     "name": "stdout",
     "output_type": "stream",
     "text": [
      "l m"
     ]
    },
    {
     "name": "stdout",
     "output_type": "stream",
     "text": [
      "ad?\n"
     ]
    },
    {
     "name": "stdout",
     "output_type": "stream",
     "text": [
      "\n",
      "Boa"
     ]
    },
    {
     "name": "stdout",
     "output_type": "stream",
     "text": [
      "tswa"
     ]
    },
    {
     "name": "stdout",
     "output_type": "stream",
     "text": [
      "in:\n"
     ]
    },
    {
     "name": "stdout",
     "output_type": "stream",
     "text": [
      "'How"
     ]
    },
    {
     "name": "stdout",
     "output_type": "stream",
     "text": [
      "! wh"
     ]
    },
    {
     "name": "stdout",
     "output_type": "stream",
     "text": [
      "at b"
     ]
    },
    {
     "name": "stdout",
     "output_type": "stream",
     "text": [
      "ack "
     ]
    },
    {
     "name": "stdout",
     "output_type": "stream",
     "text": [
      "esti"
     ]
    },
    {
     "name": "stdout",
     "output_type": "stream",
     "text": [
      "lenc"
     ]
    },
    {
     "name": "stdout",
     "output_type": "stream",
     "text": [
      "e, t"
     ]
    },
    {
     "name": "stdout",
     "output_type": "stream",
     "text": [
      "hat "
     ]
    },
    {
     "name": "stdout",
     "output_type": "stream",
     "text": [
      "news"
     ]
    },
    {
     "name": "stdout",
     "output_type": "stream",
     "text": [
      "?\n",
      "\n",
      "S"
     ]
    },
    {
     "name": "stdout",
     "output_type": "stream",
     "text": [
      "on:\n"
     ]
    },
    {
     "name": "stdout",
     "output_type": "stream",
     "text": [
      "If i"
     ]
    },
    {
     "name": "stdout",
     "output_type": "stream",
     "text": [
      "t be"
     ]
    },
    {
     "name": "stdout",
     "output_type": "stream",
     "text": [
      " a v"
     ]
    },
    {
     "name": "stdout",
     "output_type": "stream",
     "text": [
      "illa"
     ]
    },
    {
     "name": "stdout",
     "output_type": "stream",
     "text": [
      "in.\n"
     ]
    },
    {
     "name": "stdout",
     "output_type": "stream",
     "text": [
      "\n",
      "MEN"
     ]
    },
    {
     "name": "stdout",
     "output_type": "stream",
     "text": [
      "ENIU"
     ]
    },
    {
     "name": "stdout",
     "output_type": "stream",
     "text": [
      "S:\n",
      "N"
     ]
    },
    {
     "name": "stdout",
     "output_type": "stream",
     "text": [
      "ight"
     ]
    },
    {
     "name": "stdout",
     "output_type": "stream",
     "text": [
      "'s o"
     ]
    },
    {
     "name": "stdout",
     "output_type": "stream",
     "text": [
      "n m"
     ]
    },
    {
     "name": "stdout",
     "output_type": "stream",
     "text": [
      "y wo"
     ]
    },
    {
     "name": "stdout",
     "output_type": "stream",
     "text": [
      "man"
     ]
    },
    {
     "name": "stdout",
     "output_type": "stream",
     "text": [
      ",\n",
      "Fo"
     ]
    },
    {
     "name": "stdout",
     "output_type": "stream",
     "text": [
      "r wh"
     ]
    },
    {
     "name": "stdout",
     "output_type": "stream",
     "text": [
      "at t"
     ]
    },
    {
     "name": "stdout",
     "output_type": "stream",
     "text": [
      "hink"
     ]
    },
    {
     "name": "stdout",
     "output_type": "stream",
     "text": [
      " you"
     ]
    },
    {
     "name": "stdout",
     "output_type": "stream",
     "text": [
      " or "
     ]
    },
    {
     "name": "stdout",
     "output_type": "stream",
     "text": [
      "fear"
     ]
    },
    {
     "name": "stdout",
     "output_type": "stream",
     "text": [
      " is "
     ]
    },
    {
     "name": "stdout",
     "output_type": "stream",
     "text": [
      "but "
     ]
    },
    {
     "name": "stdout",
     "output_type": "stream",
     "text": [
      "paus"
     ]
    },
    {
     "name": "stdout",
     "output_type": "stream",
     "text": [
      "e,\n",
      "L"
     ]
    },
    {
     "name": "stdout",
     "output_type": "stream",
     "text": [
      "ike "
     ]
    },
    {
     "name": "stdout",
     "output_type": "stream",
     "text": [
      "eac"
     ]
    },
    {
     "name": "stdout",
     "output_type": "stream",
     "text": [
      "h ot"
     ]
    },
    {
     "name": "stdout",
     "output_type": "stream",
     "text": [
      "her."
     ]
    },
    {
     "name": "stdout",
     "output_type": "stream",
     "text": [
      "\n",
      "\n",
      "Se"
     ]
    },
    {
     "name": "stdout",
     "output_type": "stream",
     "text": [
      "cond"
     ]
    },
    {
     "name": "stdout",
     "output_type": "stream",
     "text": [
      " Ser"
     ]
    },
    {
     "name": "stdout",
     "output_type": "stream",
     "text": [
      "ving"
     ]
    },
    {
     "name": "stdout",
     "output_type": "stream",
     "text": [
      "man:"
     ]
    },
    {
     "name": "stdout",
     "output_type": "stream",
     "text": [
      "\n",
      "Boy"
     ]
    },
    {
     "name": "stdout",
     "output_type": "stream",
     "text": [
      " wha"
     ]
    },
    {
     "name": "stdout",
     "output_type": "stream",
     "text": [
      "t sa"
     ]
    },
    {
     "name": "stdout",
     "output_type": "stream",
     "text": [
      "d he"
     ]
    },
    {
     "name": "stdout",
     "output_type": "stream",
     "text": [
      " dot"
     ]
    },
    {
     "name": "stdout",
     "output_type": "stream",
     "text": [
      "h sp"
     ]
    },
    {
     "name": "stdout",
     "output_type": "stream",
     "text": [
      "eak."
     ]
    },
    {
     "name": "stdout",
     "output_type": "stream",
     "text": [
      "\n",
      "\n",
      "Fi"
     ]
    },
    {
     "name": "stdout",
     "output_type": "stream",
     "text": [
      "rst "
     ]
    },
    {
     "name": "stdout",
     "output_type": "stream",
     "text": [
      "Sena"
     ]
    },
    {
     "name": "stdout",
     "output_type": "stream",
     "text": [
      "tor:"
     ]
    },
    {
     "name": "stdout",
     "output_type": "stream",
     "text": [
      "\n",
      "Loo"
     ]
    },
    {
     "name": "stdout",
     "output_type": "stream",
     "text": [
      "k he"
     ]
    },
    {
     "name": "stdout",
     "output_type": "stream",
     "text": [
      " is "
     ]
    },
    {
     "name": "stdout",
     "output_type": "stream",
     "text": [
      "she"
     ]
    },
    {
     "name": "stdout",
     "output_type": "stream",
     "text": [
      "?\n",
      "\n",
      "F"
     ]
    },
    {
     "name": "stdout",
     "output_type": "stream",
     "text": [
      "irst"
     ]
    },
    {
     "name": "stdout",
     "output_type": "stream",
     "text": [
      " Sen"
     ]
    },
    {
     "name": "stdout",
     "output_type": "stream",
     "text": [
      "ator"
     ]
    },
    {
     "name": "stdout",
     "output_type": "stream",
     "text": [
      ":\n",
      "Ha"
     ]
    },
    {
     "name": "stdout",
     "output_type": "stream",
     "text": [
      "!\n",
      "\n",
      "B"
     ]
    },
    {
     "name": "stdout",
     "output_type": "stream",
     "text": [
      "RUTU"
     ]
    },
    {
     "name": "stdout",
     "output_type": "stream",
     "text": [
      "S:\n",
      "W"
     ]
    },
    {
     "name": "stdout",
     "output_type": "stream",
     "text": [
      "hat!"
     ]
    },
    {
     "name": "stdout",
     "output_type": "stream",
     "text": [
      "\n",
      "\n",
      "Se"
     ]
    },
    {
     "name": "stdout",
     "output_type": "stream",
     "text": [
      "cond"
     ]
    },
    {
     "name": "stdout",
     "output_type": "stream",
     "text": [
      " Se"
     ]
    },
    {
     "name": "stdout",
     "output_type": "stream",
     "text": [
      "rvan"
     ]
    },
    {
     "name": "stdout",
     "output_type": "stream",
     "text": [
      "t:\n",
      "S"
     ]
    },
    {
     "name": "stdout",
     "output_type": "stream",
     "text": [
      "ir, "
     ]
    },
    {
     "name": "stdout",
     "output_type": "stream",
     "text": [
      "it y"
     ]
    },
    {
     "name": "stdout",
     "output_type": "stream",
     "text": [
      "ou g"
     ]
    },
    {
     "name": "stdout",
     "output_type": "stream",
     "text": [
      "o to"
     ]
    },
    {
     "name": "stdout",
     "output_type": "stream",
     "text": [
      " a b"
     ]
    },
    {
     "name": "stdout",
     "output_type": "stream",
     "text": [
      "ook "
     ]
    },
    {
     "name": "stdout",
     "output_type": "stream",
     "text": [
      "for "
     ]
    },
    {
     "name": "stdout",
     "output_type": "stream",
     "text": [
      "such"
     ]
    },
    {
     "name": "stdout",
     "output_type": "stream",
     "text": [
      " de"
     ]
    },
    {
     "name": "stdout",
     "output_type": "stream",
     "text": [
      "adly"
     ]
    },
    {
     "name": "stdout",
     "output_type": "stream",
     "text": [
      " dea"
     ]
    },
    {
     "name": "stdout",
     "output_type": "stream",
     "text": [
      "d?\n",
      "\n"
     ]
    },
    {
     "name": "stdout",
     "output_type": "stream",
     "text": [
      "Firs"
     ]
    },
    {
     "name": "stdout",
     "output_type": "stream",
     "text": [
      "t Se"
     ]
    },
    {
     "name": "stdout",
     "output_type": "stream",
     "text": [
      "rvin"
     ]
    },
    {
     "name": "stdout",
     "output_type": "stream",
     "text": [
      "gman"
     ]
    },
    {
     "name": "stdout",
     "output_type": "stream",
     "text": [
      ":\n",
      "No"
     ]
    },
    {
     "name": "stdout",
     "output_type": "stream",
     "text": [
      "t hi"
     ]
    },
    {
     "name": "stdout",
     "output_type": "stream",
     "text": [
      "s me"
     ]
    },
    {
     "name": "stdout",
     "output_type": "stream",
     "text": [
      "redy"
     ]
    },
    {
     "name": "stdout",
     "output_type": "stream",
     "text": [
      ", si"
     ]
    },
    {
     "name": "stdout",
     "output_type": "stream",
     "text": [
      "r.\n",
      "\n"
     ]
    },
    {
     "name": "stdout",
     "output_type": "stream",
     "text": [
      "Firs"
     ]
    },
    {
     "name": "stdout",
     "output_type": "stream",
     "text": [
      "t Se"
     ]
    },
    {
     "name": "stdout",
     "output_type": "stream",
     "text": [
      "rvin"
     ]
    },
    {
     "name": "stdout",
     "output_type": "stream",
     "text": [
      "gman"
     ]
    },
    {
     "name": "stdout",
     "output_type": "stream",
     "text": [
      ":\n",
      "Wh"
     ]
    },
    {
     "name": "stdout",
     "output_type": "stream",
     "text": [
      "ich "
     ]
    },
    {
     "name": "stdout",
     "output_type": "stream",
     "text": [
      "did "
     ]
    },
    {
     "name": "stdout",
     "output_type": "stream",
     "text": [
      "not "
     ]
    },
    {
     "name": "stdout",
     "output_type": "stream",
     "text": [
      "to c"
     ]
    },
    {
     "name": "stdout",
     "output_type": "stream",
     "text": [
      "omm"
     ]
    },
    {
     "name": "stdout",
     "output_type": "stream",
     "text": [
      "and "
     ]
    },
    {
     "name": "stdout",
     "output_type": "stream",
     "text": [
      "me?\n"
     ]
    },
    {
     "name": "stdout",
     "output_type": "stream",
     "text": [
      "\n",
      "Fir"
     ]
    },
    {
     "name": "stdout",
     "output_type": "stream",
     "text": [
      "st S"
     ]
    },
    {
     "name": "stdout",
     "output_type": "stream",
     "text": [
      "ervi"
     ]
    },
    {
     "name": "stdout",
     "output_type": "stream",
     "text": [
      "ngma"
     ]
    },
    {
     "name": "stdout",
     "output_type": "stream",
     "text": [
      "n:\n",
      "G"
     ]
    },
    {
     "name": "stdout",
     "output_type": "stream",
     "text": [
      "ood "
     ]
    },
    {
     "name": "stdout",
     "output_type": "stream",
     "text": [
      "Paul"
     ]
    },
    {
     "name": "stdout",
     "output_type": "stream",
     "text": [
      "ina;"
     ]
    },
    {
     "name": "stdout",
     "output_type": "stream",
     "text": [
      "\n",
      "Pit"
     ]
    },
    {
     "name": "stdout",
     "output_type": "stream",
     "text": [
      "chy "
     ]
    },
    {
     "name": "stdout",
     "output_type": "stream",
     "text": [
      "six "
     ]
    },
    {
     "name": "stdout",
     "output_type": "stream",
     "text": [
      "and "
     ]
    },
    {
     "name": "stdout",
     "output_type": "stream",
     "text": [
      "scor"
     ]
    },
    {
     "name": "stdout",
     "output_type": "stream",
     "text": [
      "n no"
     ]
    },
    {
     "name": "stdout",
     "output_type": "stream",
     "text": [
      " lor"
     ]
    },
    {
     "name": "stdout",
     "output_type": "stream",
     "text": [
      "d.\n",
      "\n"
     ]
    },
    {
     "name": "stdout",
     "output_type": "stream",
     "text": [
      "Firs"
     ]
    },
    {
     "name": "stdout",
     "output_type": "stream",
     "text": [
      "t Se"
     ]
    },
    {
     "name": "stdout",
     "output_type": "stream",
     "text": [
      "nato"
     ]
    },
    {
     "name": "stdout",
     "output_type": "stream",
     "text": [
      "r:\n",
      "L"
     ]
    },
    {
     "name": "stdout",
     "output_type": "stream",
     "text": [
      "ook "
     ]
    },
    {
     "name": "stdout",
     "output_type": "stream",
     "text": [
      "he, "
     ]
    },
    {
     "name": "stdout",
     "output_type": "stream",
     "text": [
      "ho! "
     ]
    },
    {
     "name": "stdout",
     "output_type": "stream",
     "text": [
      "but"
     ]
    },
    {
     "name": "stdout",
     "output_type": "stream",
     "text": [
      " we'"
     ]
    },
    {
     "name": "stdout",
     "output_type": "stream",
     "text": [
      "ll g"
     ]
    },
    {
     "name": "stdout",
     "output_type": "stream",
     "text": [
      "rave"
     ]
    },
    {
     "name": "stdout",
     "output_type": "stream",
     "text": [
      " the"
     ]
    },
    {
     "name": "stdout",
     "output_type": "stream",
     "text": [
      " Tow"
     ]
    },
    {
     "name": "stdout",
     "output_type": "stream",
     "text": [
      "er.\n"
     ]
    },
    {
     "name": "stdout",
     "output_type": "stream",
     "text": [
      "\n",
      "Thi"
     ]
    },
    {
     "name": "stdout",
     "output_type": "stream",
     "text": [
      "rd S"
     ]
    },
    {
     "name": "stdout",
     "output_type": "stream",
     "text": [
      "ervi"
     ]
    },
    {
     "name": "stdout",
     "output_type": "stream",
     "text": [
      "ngma"
     ]
    },
    {
     "name": "stdout",
     "output_type": "stream",
     "text": [
      "n:\n",
      "N"
     ]
    },
    {
     "name": "stdout",
     "output_type": "stream",
     "text": [
      "ow, "
     ]
    },
    {
     "name": "stdout",
     "output_type": "stream",
     "text": [
      "by S"
     ]
    },
    {
     "name": "stdout",
     "output_type": "stream",
     "text": [
      "aint"
     ]
    },
    {
     "name": "stdout",
     "output_type": "stream",
     "text": [
      " Geo"
     ]
    },
    {
     "name": "stdout",
     "output_type": "stream",
     "text": [
      "rge "
     ]
    },
    {
     "name": "stdout",
     "output_type": "stream",
     "text": [
      "and"
     ]
    },
    {
     "name": "stdout",
     "output_type": "stream",
     "text": [
      " pra"
     ]
    },
    {
     "name": "stdout",
     "output_type": "stream",
     "text": [
      "y us"
     ]
    },
    {
     "name": "stdout",
     "output_type": "stream",
     "text": [
      " wit"
     ]
    },
    {
     "name": "stdout",
     "output_type": "stream",
     "text": [
      "h me"
     ]
    },
    {
     "name": "stdout",
     "output_type": "stream",
     "text": [
      ".\n",
      "\n",
      "S"
     ]
    },
    {
     "name": "stdout",
     "output_type": "stream",
     "text": [
      "econ"
     ]
    },
    {
     "name": "stdout",
     "output_type": "stream",
     "text": [
      "d Se"
     ]
    },
    {
     "name": "stdout",
     "output_type": "stream",
     "text": [
      "rvin"
     ]
    },
    {
     "name": "stdout",
     "output_type": "stream",
     "text": [
      "gman"
     ]
    },
    {
     "name": "stdout",
     "output_type": "stream",
     "text": [
      ":\n",
      "Pr"
     ]
    },
    {
     "name": "stdout",
     "output_type": "stream",
     "text": [
      "ay,"
     ]
    },
    {
     "name": "stdout",
     "output_type": "stream",
     "text": [
      " sir"
     ]
    },
    {
     "name": "stdout",
     "output_type": "stream",
     "text": [
      "?\n",
      "\n",
      "T"
     ]
    },
    {
     "name": "stdout",
     "output_type": "stream",
     "text": [
      "hird"
     ]
    },
    {
     "name": "stdout",
     "output_type": "stream",
     "text": [
      " Cit"
     ]
    },
    {
     "name": "stdout",
     "output_type": "stream",
     "text": [
      "izen"
     ]
    },
    {
     "name": "stdout",
     "output_type": "stream",
     "text": [
      ":\n",
      "We"
     ]
    },
    {
     "name": "stdout",
     "output_type": "stream",
     "text": [
      " wil"
     ]
    },
    {
     "name": "stdout",
     "output_type": "stream",
     "text": [
      "l y"
     ]
    },
    {
     "name": "stdout",
     "output_type": "stream",
     "text": [
      "ou "
     ]
    },
    {
     "name": "stdout",
     "output_type": "stream",
     "text": [
      "go o"
     ]
    },
    {
     "name": "stdout",
     "output_type": "stream",
     "text": [
      "n:--"
     ]
    },
    {
     "name": "stdout",
     "output_type": "stream",
     "text": [
      "\n",
      "\n",
      "Sh"
     ]
    },
    {
     "name": "stdout",
     "output_type": "stream",
     "text": [
      "ephe"
     ]
    },
    {
     "name": "stdout",
     "output_type": "stream",
     "text": [
      "rd:\n"
     ]
    },
    {
     "name": "stdout",
     "output_type": "stream",
     "text": [
      "The "
     ]
    },
    {
     "name": "stdout",
     "output_type": "stream",
     "text": [
      "fair"
     ]
    },
    {
     "name": "stdout",
     "output_type": "stream",
     "text": [
      "erer"
     ]
    },
    {
     "name": "stdout",
     "output_type": "stream",
     "text": [
      " wee"
     ]
    },
    {
     "name": "stdout",
     "output_type": "stream",
     "text": [
      "ping"
     ]
    },
    {
     "name": "stdout",
     "output_type": "stream",
     "text": [
      " dos"
     ]
    },
    {
     "name": "stdout",
     "output_type": "stream",
     "text": [
      "t th"
     ]
    },
    {
     "name": "stdout",
     "output_type": "stream",
     "text": [
      "ou w"
     ]
    },
    {
     "name": "stdout",
     "output_type": "stream",
     "text": [
      "hat"
     ]
    },
    {
     "name": "stdout",
     "output_type": "stream",
     "text": [
      " thi"
     ]
    },
    {
     "name": "stdout",
     "output_type": "stream",
     "text": [
      "s re"
     ]
    },
    {
     "name": "stdout",
     "output_type": "stream",
     "text": [
      "live"
     ]
    },
    {
     "name": "stdout",
     "output_type": "stream",
     "text": [
      "r\n",
      "Bu"
     ]
    },
    {
     "name": "stdout",
     "output_type": "stream",
     "text": [
      "t on"
     ]
    },
    {
     "name": "stdout",
     "output_type": "stream",
     "text": [
      "e an"
     ]
    },
    {
     "name": "stdout",
     "output_type": "stream",
     "text": [
      "d An"
     ]
    },
    {
     "name": "stdout",
     "output_type": "stream",
     "text": [
      "ne o"
     ]
    },
    {
     "name": "stdout",
     "output_type": "stream",
     "text": [
      "ffid"
     ]
    },
    {
     "name": "stdout",
     "output_type": "stream",
     "text": [
      "ent "
     ]
    },
    {
     "name": "stdout",
     "output_type": "stream",
     "text": [
      "back"
     ]
    },
    {
     "name": "stdout",
     "output_type": "stream",
     "text": [
      ".\n",
      "\n",
      "C"
     ]
    },
    {
     "name": "stdout",
     "output_type": "stream",
     "text": [
      "ORIO"
     ]
    },
    {
     "name": "stdout",
     "output_type": "stream",
     "text": [
      "LANU"
     ]
    },
    {
     "name": "stdout",
     "output_type": "stream",
     "text": [
      "S:\n",
      "I"
     ]
    },
    {
     "name": "stdout",
     "output_type": "stream",
     "text": [
      " wil"
     ]
    },
    {
     "name": "stdout",
     "output_type": "stream",
     "text": [
      "l no"
     ]
    },
    {
     "name": "stdout",
     "output_type": "stream",
     "text": [
      "t br"
     ]
    },
    {
     "name": "stdout",
     "output_type": "stream",
     "text": [
      "ingb"
     ]
    },
    {
     "name": "stdout",
     "output_type": "stream",
     "text": [
      "roke"
     ]
    },
    {
     "name": "stdout",
     "output_type": "stream",
     "text": [
      " my "
     ]
    },
    {
     "name": "stdout",
     "output_type": "stream",
     "text": [
      "fath"
     ]
    },
    {
     "name": "stdout",
     "output_type": "stream",
     "text": [
      "er g"
     ]
    },
    {
     "name": "stdout",
     "output_type": "stream",
     "text": [
      "rave"
     ]
    },
    {
     "name": "stdout",
     "output_type": "stream",
     "text": [
      "s.\n",
      "\n"
     ]
    },
    {
     "name": "stdout",
     "output_type": "stream",
     "text": [
      "Thir"
     ]
    },
    {
     "name": "stdout",
     "output_type": "stream",
     "text": [
      "d C"
     ]
    },
    {
     "name": "stdout",
     "output_type": "stream",
     "text": [
      "itiz"
     ]
    },
    {
     "name": "stdout",
     "output_type": "stream",
     "text": [
      "en:\n"
     ]
    },
    {
     "name": "stdout",
     "output_type": "stream",
     "text": [
      "I am"
     ]
    },
    {
     "name": "stdout",
     "output_type": "stream",
     "text": [
      " sur"
     ]
    },
    {
     "name": "stdout",
     "output_type": "stream",
     "text": [
      "e a "
     ]
    },
    {
     "name": "stdout",
     "output_type": "stream",
     "text": [
      "choo"
     ]
    },
    {
     "name": "stdout",
     "output_type": "stream",
     "text": [
      "se: "
     ]
    },
    {
     "name": "stdout",
     "output_type": "stream",
     "text": [
      "thou"
     ]
    },
    {
     "name": "stdout",
     "output_type": "stream",
     "text": [
      " kno"
     ]
    },
    {
     "name": "stdout",
     "output_type": "stream",
     "text": [
      "w'st"
     ]
    },
    {
     "name": "stdout",
     "output_type": "stream",
     "text": [
      " a g"
     ]
    },
    {
     "name": "stdout",
     "output_type": "stream",
     "text": [
      "rubb"
     ]
    },
    {
     "name": "stdout",
     "output_type": "stream",
     "text": [
      "'st\n"
     ]
    },
    {
     "name": "stdout",
     "output_type": "stream",
     "text": [
      "Whic"
     ]
    },
    {
     "name": "stdout",
     "output_type": "stream",
     "text": [
      "h y"
     ]
    },
    {
     "name": "stdout",
     "output_type": "stream",
     "text": [
      "ou h"
     ]
    },
    {
     "name": "stdout",
     "output_type": "stream",
     "text": [
      "ave "
     ]
    },
    {
     "name": "stdout",
     "output_type": "stream",
     "text": [
      "not,"
     ]
    },
    {
     "name": "stdout",
     "output_type": "stream",
     "text": [
      " fri"
     ]
    },
    {
     "name": "stdout",
     "output_type": "stream",
     "text": [
      "ar, "
     ]
    },
    {
     "name": "stdout",
     "output_type": "stream",
     "text": [
      "they"
     ]
    },
    {
     "name": "stdout",
     "output_type": "stream",
     "text": [
      " was"
     ]
    },
    {
     "name": "stdout",
     "output_type": "stream",
     "text": [
      " not"
     ]
    },
    {
     "name": "stdout",
     "output_type": "stream",
     "text": [
      " the"
     ]
    },
    {
     "name": "stdout",
     "output_type": "stream",
     "text": [
      "msel"
     ]
    },
    {
     "name": "stdout",
     "output_type": "stream",
     "text": [
      "ves\n"
     ]
    },
    {
     "name": "stdout",
     "output_type": "stream",
     "text": [
      "Do r"
     ]
    },
    {
     "name": "stdout",
     "output_type": "stream",
     "text": [
      "avel"
     ]
    },
    {
     "name": "stdout",
     "output_type": "stream",
     "text": [
      "l'd "
     ]
    },
    {
     "name": "stdout",
     "output_type": "stream",
     "text": [
      "my g"
     ]
    },
    {
     "name": "stdout",
     "output_type": "stream",
     "text": [
      "entl"
     ]
    },
    {
     "name": "stdout",
     "output_type": "stream",
     "text": [
      "eman"
     ]
    },
    {
     "name": "stdout",
     "output_type": "stream",
     "text": [
      ", se"
     ]
    },
    {
     "name": "stdout",
     "output_type": "stream",
     "text": [
      "ente"
     ]
    },
    {
     "name": "stdout",
     "output_type": "stream",
     "text": [
      "n th"
     ]
    },
    {
     "name": "stdout",
     "output_type": "stream",
     "text": [
      "eir "
     ]
    },
    {
     "name": "stdout",
     "output_type": "stream",
     "text": [
      "subj"
     ]
    },
    {
     "name": "stdout",
     "output_type": "stream",
     "text": [
      "ects"
     ]
    },
    {
     "name": "stdout",
     "output_type": "stream",
     "text": [
      "\n",
      "Fro"
     ]
    },
    {
     "name": "stdout",
     "output_type": "stream",
     "text": [
      "m th"
     ]
    },
    {
     "name": "stdout",
     "output_type": "stream",
     "text": [
      "e ea"
     ]
    },
    {
     "name": "stdout",
     "output_type": "stream",
     "text": [
      "rldo"
     ]
    },
    {
     "name": "stdout",
     "output_type": "stream",
     "text": [
      "m of"
     ]
    },
    {
     "name": "stdout",
     "output_type": "stream",
     "text": [
      " his"
     ]
    },
    {
     "name": "stdout",
     "output_type": "stream",
     "text": [
      " nam"
     ]
    },
    {
     "name": "stdout",
     "output_type": "stream",
     "text": [
      "e, b"
     ]
    },
    {
     "name": "stdout",
     "output_type": "stream",
     "text": [
      "ut f"
     ]
    },
    {
     "name": "stdout",
     "output_type": "stream",
     "text": [
      "rom "
     ]
    },
    {
     "name": "stdout",
     "output_type": "stream",
     "text": [
      "his "
     ]
    },
    {
     "name": "stdout",
     "output_type": "stream",
     "text": [
      "grav"
     ]
    },
    {
     "name": "stdout",
     "output_type": "stream",
     "text": [
      "e:\n",
      "H"
     ]
    },
    {
     "name": "stdout",
     "output_type": "stream",
     "text": [
      "ave"
     ]
    },
    {
     "name": "stdout",
     "output_type": "stream",
     "text": [
      " bee"
     ]
    },
    {
     "name": "stdout",
     "output_type": "stream",
     "text": [
      "n is"
     ]
    },
    {
     "name": "stdout",
     "output_type": "stream",
     "text": [
      " cha"
     ]
    },
    {
     "name": "stdout",
     "output_type": "stream",
     "text": [
      "ber "
     ]
    },
    {
     "name": "stdout",
     "output_type": "stream",
     "text": [
      "in B"
     ]
    },
    {
     "name": "stdout",
     "output_type": "stream",
     "text": [
      "ohem"
     ]
    },
    {
     "name": "stdout",
     "output_type": "stream",
     "text": [
      "ia a"
     ]
    },
    {
     "name": "stdout",
     "output_type": "stream",
     "text": [
      "nd c"
     ]
    },
    {
     "name": "stdout",
     "output_type": "stream",
     "text": [
      "ompa"
     ]
    },
    {
     "name": "stdout",
     "output_type": "stream",
     "text": [
      "nie"
     ]
    },
    {
     "name": "stdout",
     "output_type": "stream",
     "text": [
      "d,\n",
      "A"
     ]
    },
    {
     "name": "stdout",
     "output_type": "stream",
     "text": [
      "nd f"
     ]
    },
    {
     "name": "stdout",
     "output_type": "stream",
     "text": [
      "rom "
     ]
    },
    {
     "name": "stdout",
     "output_type": "stream",
     "text": [
      "such"
     ]
    },
    {
     "name": "stdout",
     "output_type": "stream",
     "text": [
      " as "
     ]
    },
    {
     "name": "stdout",
     "output_type": "stream",
     "text": [
      "grav"
     ]
    },
    {
     "name": "stdout",
     "output_type": "stream",
     "text": [
      "e as"
     ]
    },
    {
     "name": "stdout",
     "output_type": "stream",
     "text": [
      " eve"
     ]
    },
    {
     "name": "stdout",
     "output_type": "stream",
     "text": [
      "r ai"
     ]
    },
    {
     "name": "stdout",
     "output_type": "stream",
     "text": [
      "d,\n",
      "A"
     ]
    },
    {
     "name": "stdout",
     "output_type": "stream",
     "text": [
      "s sh"
     ]
    },
    {
     "name": "stdout",
     "output_type": "stream",
     "text": [
      "e sl"
     ]
    },
    {
     "name": "stdout",
     "output_type": "stream",
     "text": [
      "iled"
     ]
    },
    {
     "name": "stdout",
     "output_type": "stream",
     "text": [
      " my "
     ]
    },
    {
     "name": "stdout",
     "output_type": "stream",
     "text": [
      "mind"
     ]
    },
    {
     "name": "stdout",
     "output_type": "stream",
     "text": [
      " cop"
     ]
    },
    {
     "name": "stdout",
     "output_type": "stream",
     "text": [
      "y me"
     ]
    },
    {
     "name": "stdout",
     "output_type": "stream",
     "text": [
      "n to"
     ]
    },
    {
     "name": "stdout",
     "output_type": "stream",
     "text": [
      " nam"
     ]
    },
    {
     "name": "stdout",
     "output_type": "stream",
     "text": [
      "e,\n",
      "H"
     ]
    },
    {
     "name": "stdout",
     "output_type": "stream",
     "text": [
      "e is"
     ]
    },
    {
     "name": "stdout",
     "output_type": "stream",
     "text": [
      " not"
     ]
    },
    {
     "name": "stdout",
     "output_type": "stream",
     "text": [
      " con"
     ]
    },
    {
     "name": "stdout",
     "output_type": "stream",
     "text": [
      "fess"
     ]
    },
    {
     "name": "stdout",
     "output_type": "stream",
     "text": [
      " of "
     ]
    },
    {
     "name": "stdout",
     "output_type": "stream",
     "text": [
      "it, "
     ]
    },
    {
     "name": "stdout",
     "output_type": "stream",
     "text": [
      "some"
     ]
    },
    {
     "name": "stdout",
     "output_type": "stream",
     "text": [
      " ill"
     ]
    },
    {
     "name": "stdout",
     "output_type": "stream",
     "text": [
      "-pa"
     ]
    },
    {
     "name": "stdout",
     "output_type": "stream",
     "text": [
      "cker"
     ]
    },
    {
     "name": "stdout",
     "output_type": "stream",
     "text": [
      "'d r"
     ]
    },
    {
     "name": "stdout",
     "output_type": "stream",
     "text": [
      "esol"
     ]
    },
    {
     "name": "stdout",
     "output_type": "stream",
     "text": [
      "ve\n",
      "H"
     ]
    },
    {
     "name": "stdout",
     "output_type": "stream",
     "text": [
      "ath "
     ]
    },
    {
     "name": "stdout",
     "output_type": "stream",
     "text": [
      "been"
     ]
    },
    {
     "name": "stdout",
     "output_type": "stream",
     "text": [
      " pa"
     ]
    },
    {
     "name": "stdout",
     "output_type": "stream",
     "text": [
      "sca"
     ]
    },
    {
     "name": "stdout",
     "output_type": "stream",
     "text": [
      "ped,"
     ]
    },
    {
     "name": "stdout",
     "output_type": "stream",
     "text": [
      " rec"
     ]
    },
    {
     "name": "stdout",
     "output_type": "stream",
     "text": [
      "eive"
     ]
    },
    {
     "name": "stdout",
     "output_type": "stream",
     "text": [
      "d fo"
     ]
    },
    {
     "name": "stdout",
     "output_type": "stream",
     "text": [
      "r be"
     ]
    },
    {
     "name": "stdout",
     "output_type": "stream",
     "text": [
      "ar,\n"
     ]
    },
    {
     "name": "stdout",
     "output_type": "stream",
     "text": [
      "And "
     ]
    },
    {
     "name": "stdout",
     "output_type": "stream",
     "text": [
      "some"
     ]
    },
    {
     "name": "stdout",
     "output_type": "stream",
     "text": [
      " fai"
     ]
    },
    {
     "name": "stdout",
     "output_type": "stream",
     "text": [
      "r wa"
     ]
    },
    {
     "name": "stdout",
     "output_type": "stream",
     "text": [
      "s yo"
     ]
    },
    {
     "name": "stdout",
     "output_type": "stream",
     "text": [
      "ur b"
     ]
    },
    {
     "name": "stdout",
     "output_type": "stream",
     "text": [
      "roth"
     ]
    },
    {
     "name": "stdout",
     "output_type": "stream",
     "text": [
      "er's"
     ]
    },
    {
     "name": "stdout",
     "output_type": "stream",
     "text": [
      " hei"
     ]
    },
    {
     "name": "stdout",
     "output_type": "stream",
     "text": [
      "r.\n",
      "\n"
     ]
    },
    {
     "name": "stdout",
     "output_type": "stream",
     "text": [
      "JULI"
     ]
    },
    {
     "name": "stdout",
     "output_type": "stream",
     "text": [
      "ET:\n"
     ]
    },
    {
     "name": "stdout",
     "output_type": "stream",
     "text": [
      "But "
     ]
    },
    {
     "name": "stdout",
     "output_type": "stream",
     "text": [
      "far "
     ]
    },
    {
     "name": "stdout",
     "output_type": "stream",
     "text": [
      "well"
     ]
    },
    {
     "name": "stdout",
     "output_type": "stream",
     "text": [
      " and"
     ]
    },
    {
     "name": "stdout",
     "output_type": "stream",
     "text": [
      " bri"
     ]
    },
    {
     "name": "stdout",
     "output_type": "stream",
     "text": [
      "ng r"
     ]
    },
    {
     "name": "stdout",
     "output_type": "stream",
     "text": [
      "esor"
     ]
    },
    {
     "name": "stdout",
     "output_type": "stream",
     "text": [
      "t yo"
     ]
    },
    {
     "name": "stdout",
     "output_type": "stream",
     "text": [
      "ur f"
     ]
    },
    {
     "name": "stdout",
     "output_type": "stream",
     "text": [
      "ace,"
     ]
    },
    {
     "name": "stdout",
     "output_type": "stream",
     "text": [
      "\n",
      "And"
     ]
    },
    {
     "name": "stdout",
     "output_type": "stream",
     "text": [
      " gra"
     ]
    },
    {
     "name": "stdout",
     "output_type": "stream",
     "text": [
      "ciou"
     ]
    },
    {
     "name": "stdout",
     "output_type": "stream",
     "text": [
      "s c"
     ]
    },
    {
     "name": "stdout",
     "output_type": "stream",
     "text": [
      "ase"
     ]
    },
    {
     "name": "stdout",
     "output_type": "stream",
     "text": [
      " my"
     ]
    },
    {
     "name": "stdout",
     "output_type": "stream",
     "text": [
      " bo"
     ]
    },
    {
     "name": "stdout",
     "output_type": "stream",
     "text": [
      "dy b"
     ]
    },
    {
     "name": "stdout",
     "output_type": "stream",
     "text": [
      "e fa"
     ]
    },
    {
     "name": "stdout",
     "output_type": "stream",
     "text": [
      "ced\n"
     ]
    },
    {
     "name": "stdout",
     "output_type": "stream",
     "text": [
      "And "
     ]
    },
    {
     "name": "stdout",
     "output_type": "stream",
     "text": [
      "tha"
     ]
    },
    {
     "name": "stdout",
     "output_type": "stream",
     "text": [
      "t yo"
     ]
    },
    {
     "name": "stdout",
     "output_type": "stream",
     "text": [
      "u s"
     ]
    },
    {
     "name": "stdout",
     "output_type": "stream",
     "text": [
      "hall"
     ]
    },
    {
     "name": "stdout",
     "output_type": "stream",
     "text": [
      " rev"
     ]
    },
    {
     "name": "stdout",
     "output_type": "stream",
     "text": [
      "olt "
     ]
    },
    {
     "name": "stdout",
     "output_type": "stream",
     "text": [
      "me t"
     ]
    },
    {
     "name": "stdout",
     "output_type": "stream",
     "text": [
      "hink"
     ]
    },
    {
     "name": "stdout",
     "output_type": "stream",
     "text": [
      ".\n",
      "\n",
      "M"
     ]
    },
    {
     "name": "stdout",
     "output_type": "stream",
     "text": [
      "AMIL"
     ]
    },
    {
     "name": "stdout",
     "output_type": "stream",
     "text": [
      "LIUS"
     ]
    },
    {
     "name": "stdout",
     "output_type": "stream",
     "text": [
      ":\n",
      "He"
     ]
    },
    {
     "name": "stdout",
     "output_type": "stream",
     "text": [
      " is "
     ]
    },
    {
     "name": "stdout",
     "output_type": "stream",
     "text": [
      "not "
     ]
    },
    {
     "name": "stdout",
     "output_type": "stream",
     "text": [
      "the "
     ]
    },
    {
     "name": "stdout",
     "output_type": "stream",
     "text": [
      "burt"
     ]
    },
    {
     "name": "stdout",
     "output_type": "stream",
     "text": [
      "hred"
     ]
    },
    {
     "name": "stdout",
     "output_type": "stream",
     "text": [
      " of "
     ]
    },
    {
     "name": "stdout",
     "output_type": "stream",
     "text": [
      "his "
     ]
    },
    {
     "name": "stdout",
     "output_type": "stream",
     "text": [
      "head"
     ]
    },
    {
     "name": "stdout",
     "output_type": "stream",
     "text": [
      " bod"
     ]
    },
    {
     "name": "stdout",
     "output_type": "stream",
     "text": [
      "y's"
     ]
    },
    {
     "name": "stdout",
     "output_type": "stream",
     "text": [
      " dea"
     ]
    },
    {
     "name": "stdout",
     "output_type": "stream",
     "text": [
      "th,\n"
     ]
    },
    {
     "name": "stdout",
     "output_type": "stream",
     "text": [
      "That"
     ]
    },
    {
     "name": "stdout",
     "output_type": "stream",
     "text": [
      " you"
     ]
    },
    {
     "name": "stdout",
     "output_type": "stream",
     "text": [
      " hav"
     ]
    },
    {
     "name": "stdout",
     "output_type": "stream",
     "text": [
      "e lo"
     ]
    },
    {
     "name": "stdout",
     "output_type": "stream",
     "text": [
      "id b"
     ]
    },
    {
     "name": "stdout",
     "output_type": "stream",
     "text": [
      "y th"
     ]
    },
    {
     "name": "stdout",
     "output_type": "stream",
     "text": [
      "is s"
     ]
    },
    {
     "name": "stdout",
     "output_type": "stream",
     "text": [
      "cond"
     ]
    },
    {
     "name": "stdout",
     "output_type": "stream",
     "text": [
      "ula"
     ]
    },
    {
     "name": "stdout",
     "output_type": "stream",
     "text": [
      "r.\n",
      "\n"
     ]
    },
    {
     "name": "stdout",
     "output_type": "stream",
     "text": [
      "CAMI"
     ]
    },
    {
     "name": "stdout",
     "output_type": "stream",
     "text": [
      "LLO:"
     ]
    },
    {
     "name": "stdout",
     "output_type": "stream",
     "text": [
      "\n",
      "But"
     ]
    },
    {
     "name": "stdout",
     "output_type": "stream",
     "text": [
      " lea"
     ]
    },
    {
     "name": "stdout",
     "output_type": "stream",
     "text": [
      "ve y"
     ]
    },
    {
     "name": "stdout",
     "output_type": "stream",
     "text": [
      "ou f"
     ]
    },
    {
     "name": "stdout",
     "output_type": "stream",
     "text": [
      "ight"
     ]
    },
    {
     "name": "stdout",
     "output_type": "stream",
     "text": [
      " to "
     ]
    },
    {
     "name": "stdout",
     "output_type": "stream",
     "text": [
      "what"
     ]
    },
    {
     "name": "stdout",
     "output_type": "stream",
     "text": [
      " you"
     ]
    },
    {
     "name": "stdout",
     "output_type": "stream",
     "text": [
      " pay"
     ]
    },
    {
     "name": "stdout",
     "output_type": "stream",
     "text": [
      ",\n",
      "Th"
     ]
    },
    {
     "name": "stdout",
     "output_type": "stream",
     "text": [
      "at I"
     ]
    },
    {
     "name": "stdout",
     "output_type": "stream",
     "text": [
      " pro"
     ]
    },
    {
     "name": "stdout",
     "output_type": "stream",
     "text": [
      "mise"
     ]
    },
    {
     "name": "stdout",
     "output_type": "stream",
     "text": [
      " you"
     ]
    },
    {
     "name": "stdout",
     "output_type": "stream",
     "text": [
      "r ow"
     ]
    },
    {
     "name": "stdout",
     "output_type": "stream",
     "text": [
      "n fo"
     ]
    },
    {
     "name": "stdout",
     "output_type": "stream",
     "text": [
      "rtun"
     ]
    },
    {
     "name": "stdout",
     "output_type": "stream",
     "text": [
      "e, m"
     ]
    },
    {
     "name": "stdout",
     "output_type": "stream",
     "text": [
      "ost "
     ]
    },
    {
     "name": "stdout",
     "output_type": "stream",
     "text": [
      "pass"
     ]
    },
    {
     "name": "stdout",
     "output_type": "stream",
     "text": [
      "\n",
      "The"
     ]
    },
    {
     "name": "stdout",
     "output_type": "stream",
     "text": [
      " pit"
     ]
    },
    {
     "name": "stdout",
     "output_type": "stream",
     "text": [
      "eous"
     ]
    },
    {
     "name": "stdout",
     "output_type": "stream",
     "text": [
      " qua"
     ]
    },
    {
     "name": "stdout",
     "output_type": "stream",
     "text": [
      "rre"
     ]
    },
    {
     "name": "stdout",
     "output_type": "stream",
     "text": [
      "llin"
     ]
    },
    {
     "name": "stdout",
     "output_type": "stream",
     "text": [
      "g of"
     ]
    },
    {
     "name": "stdout",
     "output_type": "stream",
     "text": [
      " you"
     ]
    },
    {
     "name": "stdout",
     "output_type": "stream",
     "text": [
      "r pi"
     ]
    },
    {
     "name": "stdout",
     "output_type": "stream",
     "text": [
      "tch "
     ]
    },
    {
     "name": "stdout",
     "output_type": "stream",
     "text": [
      "all,"
     ]
    },
    {
     "name": "stdout",
     "output_type": "stream",
     "text": [
      "\n",
      "But"
     ]
    },
    {
     "name": "stdout",
     "output_type": "stream",
     "text": [
      " ref"
     ]
    },
    {
     "name": "stdout",
     "output_type": "stream",
     "text": [
      "er t"
     ]
    },
    {
     "name": "stdout",
     "output_type": "stream",
     "text": [
      "hine"
     ]
    },
    {
     "name": "stdout",
     "output_type": "stream",
     "text": [
      " eye"
     ]
    },
    {
     "name": "stdout",
     "output_type": "stream",
     "text": [
      "s a "
     ]
    },
    {
     "name": "stdout",
     "output_type": "stream",
     "text": [
      "bave"
     ]
    },
    {
     "name": "stdout",
     "output_type": "stream",
     "text": [
      " thr"
     ]
    },
    {
     "name": "stdout",
     "output_type": "stream",
     "text": [
      "ee c"
     ]
    },
    {
     "name": "stdout",
     "output_type": "stream",
     "text": [
      "rown"
     ]
    },
    {
     "name": "stdout",
     "output_type": "stream",
     "text": [
      "\n",
      "Ext"
     ]
    },
    {
     "name": "stdout",
     "output_type": "stream",
     "text": [
      "on o"
     ]
    },
    {
     "name": "stdout",
     "output_type": "stream",
     "text": [
      "n yo"
     ]
    },
    {
     "name": "stdout",
     "output_type": "stream",
     "text": [
      "nd g"
     ]
    },
    {
     "name": "stdout",
     "output_type": "stream",
     "text": [
      "age;"
     ]
    },
    {
     "name": "stdout",
     "output_type": "stream",
     "text": [
      " and"
     ]
    },
    {
     "name": "stdout",
     "output_type": "stream",
     "text": [
      " fel"
     ]
    },
    {
     "name": "stdout",
     "output_type": "stream",
     "text": [
      "lows"
     ]
    },
    {
     "name": "stdout",
     "output_type": "stream",
     "text": [
      ", yo"
     ]
    },
    {
     "name": "stdout",
     "output_type": "stream",
     "text": [
      "u ar"
     ]
    },
    {
     "name": "stdout",
     "output_type": "stream",
     "text": [
      "e fe"
     ]
    },
    {
     "name": "stdout",
     "output_type": "stream",
     "text": [
      "ar.\n"
     ]
    },
    {
     "name": "stdout",
     "output_type": "stream",
     "text": [
      "Qnog"
     ]
    },
    {
     "name": "stdout",
     "output_type": "stream",
     "text": [
      "lema"
     ]
    },
    {
     "name": "stdout",
     "output_type": "stream",
     "text": [
      "n, l"
     ]
    },
    {
     "name": "stdout",
     "output_type": "stream",
     "text": [
      "et's"
     ]
    },
    {
     "name": "stdout",
     "output_type": "stream",
     "text": [
      " not"
     ]
    },
    {
     "name": "stdout",
     "output_type": "stream",
     "text": [
      ", sw"
     ]
    },
    {
     "name": "stdout",
     "output_type": "stream",
     "text": [
      "eet "
     ]
    },
    {
     "name": "stdout",
     "output_type": "stream",
     "text": [
      "Kate"
     ]
    },
    {
     "name": "stdout",
     "output_type": "stream",
     "text": [
      ", an"
     ]
    },
    {
     "name": "stdout",
     "output_type": "stream",
     "text": [
      "d no"
     ]
    },
    {
     "name": "stdout",
     "output_type": "stream",
     "text": [
      "t da"
     ]
    },
    {
     "name": "stdout",
     "output_type": "stream",
     "text": [
      "y,\n",
      "P"
     ]
    },
    {
     "name": "stdout",
     "output_type": "stream",
     "text": [
      "ut i"
     ]
    },
    {
     "name": "stdout",
     "output_type": "stream",
     "text": [
      "n th"
     ]
    },
    {
     "name": "stdout",
     "output_type": "stream",
     "text": [
      "e sl"
     ]
    },
    {
     "name": "stdout",
     "output_type": "stream",
     "text": [
      "ain "
     ]
    },
    {
     "name": "stdout",
     "output_type": "stream",
     "text": [
      "of y"
     ]
    },
    {
     "name": "stdout",
     "output_type": "stream",
     "text": [
      "our "
     ]
    },
    {
     "name": "stdout",
     "output_type": "stream",
     "text": [
      "anci"
     ]
    },
    {
     "name": "stdout",
     "output_type": "stream",
     "text": [
      "ent "
     ]
    },
    {
     "name": "stdout",
     "output_type": "stream",
     "text": [
      "case"
     ]
    },
    {
     "name": "stdout",
     "output_type": "stream",
     "text": [
      ",\n",
      "An"
     ]
    },
    {
     "name": "stdout",
     "output_type": "stream",
     "text": [
      "d pr"
     ]
    },
    {
     "name": "stdout",
     "output_type": "stream",
     "text": [
      "aise"
     ]
    },
    {
     "name": "stdout",
     "output_type": "stream",
     "text": [
      " you"
     ]
    },
    {
     "name": "stdout",
     "output_type": "stream",
     "text": [
      "r da"
     ]
    },
    {
     "name": "stdout",
     "output_type": "stream",
     "text": [
      "ught"
     ]
    },
    {
     "name": "stdout",
     "output_type": "stream",
     "text": [
      "ers."
     ]
    },
    {
     "name": "stdout",
     "output_type": "stream",
     "text": [
      "\n",
      "\n",
      "QU"
     ]
    },
    {
     "name": "stdout",
     "output_type": "stream",
     "text": [
      "EEN "
     ]
    },
    {
     "name": "stdout",
     "output_type": "stream",
     "text": [
      "ELIZ"
     ]
    },
    {
     "name": "stdout",
     "output_type": "stream",
     "text": [
      "ABET"
     ]
    },
    {
     "name": "stdout",
     "output_type": "stream",
     "text": [
      "H:\n",
      "O"
     ]
    },
    {
     "name": "stdout",
     "output_type": "stream",
     "text": [
      ", wo"
     ]
    },
    {
     "name": "stdout",
     "output_type": "stream",
     "text": [
      "uld "
     ]
    },
    {
     "name": "stdout",
     "output_type": "stream",
     "text": [
      "you "
     ]
    },
    {
     "name": "stdout",
     "output_type": "stream",
     "text": [
      "have"
     ]
    },
    {
     "name": "stdout",
     "output_type": "stream",
     "text": [
      " don"
     ]
    },
    {
     "name": "stdout",
     "output_type": "stream",
     "text": [
      "e wo"
     ]
    },
    {
     "name": "stdout",
     "output_type": "stream",
     "text": [
      "nder"
     ]
    },
    {
     "name": "stdout",
     "output_type": "stream",
     "text": [
      ".\n",
      "\n",
      "K"
     ]
    },
    {
     "name": "stdout",
     "output_type": "stream",
     "text": [
      "ING "
     ]
    },
    {
     "name": "stdout",
     "output_type": "stream",
     "text": [
      "RICH"
     ]
    },
    {
     "name": "stdout",
     "output_type": "stream",
     "text": [
      "ARD "
     ]
    },
    {
     "name": "stdout",
     "output_type": "stream",
     "text": [
      "III:"
     ]
    },
    {
     "name": "stdout",
     "output_type": "stream",
     "text": [
      "\n",
      "Mor"
     ]
    },
    {
     "name": "stdout",
     "output_type": "stream",
     "text": [
      "e th"
     ]
    },
    {
     "name": "stdout",
     "output_type": "stream",
     "text": [
      "an c"
     ]
    },
    {
     "name": "stdout",
     "output_type": "stream",
     "text": [
      "ould"
     ]
    },
    {
     "name": "stdout",
     "output_type": "stream",
     "text": [
      " do "
     ]
    },
    {
     "name": "stdout",
     "output_type": "stream",
     "text": [
      "thee"
     ]
    },
    {
     "name": "stdout",
     "output_type": "stream",
     "text": [
      " to "
     ]
    },
    {
     "name": "stdout",
     "output_type": "stream",
     "text": [
      "make"
     ]
    },
    {
     "name": "stdout",
     "output_type": "stream",
     "text": [
      " not"
     ]
    },
    {
     "name": "stdout",
     "output_type": "stream",
     "text": [
      " ano"
     ]
    },
    {
     "name": "stdout",
     "output_type": "stream",
     "text": [
      "ther"
     ]
    },
    {
     "name": "stdout",
     "output_type": "stream",
     "text": [
      ",\n",
      "To"
     ]
    },
    {
     "name": "stdout",
     "output_type": "stream",
     "text": [
      " mak"
     ]
    },
    {
     "name": "stdout",
     "output_type": "stream",
     "text": [
      "e th"
     ]
    },
    {
     "name": "stdout",
     "output_type": "stream",
     "text": [
      "eir "
     ]
    },
    {
     "name": "stdout",
     "output_type": "stream",
     "text": [
      "brot"
     ]
    },
    {
     "name": "stdout",
     "output_type": "stream",
     "text": [
      "her "
     ]
    },
    {
     "name": "stdout",
     "output_type": "stream",
     "text": [
      "will"
     ]
    },
    {
     "name": "stdout",
     "output_type": "stream",
     "text": [
      " be "
     ]
    },
    {
     "name": "stdout",
     "output_type": "stream",
     "text": [
      "cont"
     ]
    },
    {
     "name": "stdout",
     "output_type": "stream",
     "text": [
      "ente"
     ]
    },
    {
     "name": "stdout",
     "output_type": "stream",
     "text": [
      "d.\n",
      "\n"
     ]
    },
    {
     "name": "stdout",
     "output_type": "stream",
     "text": [
      "KING"
     ]
    },
    {
     "name": "stdout",
     "output_type": "stream",
     "text": [
      " RIC"
     ]
    },
    {
     "name": "stdout",
     "output_type": "stream",
     "text": [
      "HARD"
     ]
    },
    {
     "name": "stdout",
     "output_type": "stream",
     "text": [
      " III"
     ]
    },
    {
     "name": "stdout",
     "output_type": "stream",
     "text": [
      "I:\n",
      "T"
     ]
    },
    {
     "name": "stdout",
     "output_type": "stream",
     "text": [
      "hen "
     ]
    },
    {
     "name": "stdout",
     "output_type": "stream",
     "text": [
      "we r"
     ]
    },
    {
     "name": "stdout",
     "output_type": "stream",
     "text": [
      "epre"
     ]
    },
    {
     "name": "stdout",
     "output_type": "stream",
     "text": [
      "ss "
     ]
    },
    {
     "name": "stdout",
     "output_type": "stream",
     "text": [
      "mean"
     ]
    }
   ],
   "source": [
    "ind2char_map = make_ind2char_mapping(char2ind_map)\n",
    "prompt = \"When first the dawning breath of spring awoke, I saw\"\n",
    "gen_text = minigpt.generate_sequence(prompt, 5000, char2ind_map, ind2char_map , method = None)\n",
    "\n",
    "\n",
    "print(\"***final output***\")\n",
    "print(''.join(gen_text))"
   ]
  },
  {
   "cell_type": "markdown",
   "id": "8a2c7c5a",
   "metadata": {
    "collapsed": false
   },
   "source": [
    "### 9d. Questions\n",
    "\n",
    "**Question 9:** Rerun your generation using the `'max'` method. Which method generates better sounding/more interesting text? **Why?**"
   ]
  },
  {
   "cell_type": "code",
   "execution_count": 0,
   "id": "417465",
   "metadata": {
    "collapsed": false,
    "scrolled": true
   },
   "outputs": [],
   "source": [
    "ind2char_map = make_ind2char_mapping(char2ind_map)\n",
    "prompt = \"When first the dawning breath of spring awoke, I saw\"\n",
    "gen_text = minigpt.generate_sequence(prompt, 5000, char2ind_map, ind2char_map , method = 'max')\n",
    "\n",
    "\n",
    "print(\"***final output***\")\n",
    "print(''.join(gen_text))"
   ]
  },
  {
   "cell_type": "code",
   "execution_count": 0,
   "id": "acef29",
   "metadata": {
    "collapsed": false
   },
   "outputs": [],
   "source": []
  },
  {
   "cell_type": "markdown",
   "id": "94714d5f",
   "metadata": {
    "collapsed": false
   },
   "source": [
    "**Answer 9:**\n",
    "\n",
    "The example without the max method was more interesting because it probabalistically selected the output character instead of using the one with the highest probability.  This is because for cases with similar context that end on a particular character, the max method can force a phrase to be repeated over and over, making for less interesting and more predicatble predictions. Without this, one can get different paths for context and thus output, making more interesting text output."
   ]
  },
  {
   "cell_type": "markdown",
   "id": "1c3523a5",
   "metadata": {
    "collapsed": false
   },
   "source": [
    "## Extensions\n",
    "\n",
    "### General guidelines\n",
    "\n",
    "1. Never integrate extensions into your base project so that they change the expected behavior of core functions. If your extension changes the core design/behavior, no problem, duplicate your working base project and add features from there.\n",
    "2. Check the rubric to keep in mind how extensions on this project will be graded.\n",
    "3. While I may consult your code and \"written log\" of what you did, **I am grading your extensions based on what you present in your 3-5 min video.**\n",
    "3. I suggest documenting your explorations in a \"log\" or \"lab notebook\" style (i.e. documenting your thought/progression/discovery/learning process). I'm not grading your writing, so you can keep it succinct. **Whatever is most useful to you to remember what you did.** \n",
    "4. I suggest taking a hypothesis driven approach. For example \"I was curious about X so I explored Y. I found Z, which was not what I expected because..., so then tried A...\"\n",
    "5. Make plots to help showcase your results.\n",
    "6. **More is not necessarily better.** Generally, a small number of \"in-depth\" extensions count for more than many \"shallow\" extensions.\n",
    "\n",
    "### AI guidelines\n",
    "\n",
    "You may use AI in mostly any capacity for extensions. However, keep in mind:\n",
    "1. There is no need to use AI at all!\n",
    "2. You are welcome to use AI as a tool (e.g. automate something that is tedious, help you get unstuck, etc.). However, you should be coding, you should be thinking, you should be writing, you should be creating. If you are spending most (or even close to most) of your time typing into a chatbot and copy-pasting, you have probably gone too far with AI use.\n",
    "3. I don't find large volumes of AI generated code/text/plots to be particularly impressive and you risk losing my interest while grading. Remember: I'm grading your extensions based on your video presentation. **More is not necessarily better.**\n",
    "\n",
    "### Video guidelines\n",
    "\n",
    "1. Please try to keep your video to 5 minutes (*I have other projects to grade!*). If you turn in a longer video, I make no promise that I will watch more than 5 minutes.\n",
    "2. Your screen should be shared as you show me what you did. A live video of your face should also appear somewhere on the screen (e.g. picture-in-picture overlay / split screen).\n",
    "3. Your partner should join you for the video and take turns talking, but, if necessary, it is fine to have one team member present during the record the video.\n",
    "4. Do not simply read text from your notebook, do not read from a prepared script. I am not grading how polished your video presentation is (see extension grading criteria on rubric). \n",
    "5. I am looking for original and creative explorations sparked by your curiosity/interest/passion in a topic. This should be apparent in your video.\n",
    "6. Be natural,, don't feel the need to impress me with fancy language. If it is helpful, imagine that we are talking one-on-one about your extension. Tell me what you did :)\n",
    "\n",
    "### Extension ideas"
   ]
  },
  {
   "cell_type": "markdown",
   "id": "ec837871",
   "metadata": {
    "collapsed": false
   },
   "source": [
    "#### 1. Generate text based on other corpora\n",
    "\n",
    "Train one of your GPTs on a different text dataset and use it to generate text that resembles that body of work."
   ]
  },
  {
   "cell_type": "markdown",
   "id": "55ab216c",
   "metadata": {
    "collapsed": false
   },
   "source": [
    "#### 2. GPT-1\n",
    "\n",
    "Train OpenAI's GPT-1 model. It has the same architecture as `GPTMini6` except it has:\n",
    "- 12 stacked Transformer Blocks\n",
    "- 12 attention heads\n",
    "- Embedding dimension of 768\n",
    "- Dropout rate of 0.2"
   ]
  },
  {
   "cell_type": "markdown",
   "id": "6310e422",
   "metadata": {
    "collapsed": false
   },
   "source": [
    "#### 3. GPT-2\n",
    "\n",
    "Train a model in the family of OpenAI's GPT2 models. It has the same architecture as `GPTMini6` except it has different values for (number of transformer blocks, embedding dimension, attention heads):\n",
    "\n",
    "**GPT-2 Medium:** (24, 1024, 16)<br/>\n",
    "**GPT-2 Large:** (36, 1280, 20)<br/>\n",
    "**GPT-2 XL:** (48, 1600, 25)\n",
    "\n",
    "Feel free to adapt/pare down based on training time and GPU resources."
   ]
  },
  {
   "cell_type": "markdown",
   "id": "654b1009",
   "metadata": {
    "collapsed": false
   },
   "source": [
    "#### 4. More complex arithmetic\n",
    "\n",
    "Explore any of the following:\n",
    "- Train your transformers to perform addition and/or multiplication with larger numbers.\n",
    "- Add support for negative integer operands.\n",
    "- Allow for longer chains of operands (e.g. `1+1+1+1=4`)\n",
    "- Add support for subtraction and/or other arithmetic operations."
   ]
  },
  {
   "cell_type": "markdown",
   "id": "84e529e9",
   "metadata": {
    "collapsed": false
   },
   "source": [
    "#### 5. Explore hyperparameters\n",
    "\n",
    "Explore how any of the following affects the quality of the generated text and/or loss:\n",
    "- Sequence length\n",
    "- Embedding dimension"
   ]
  }
 ],
 "metadata": {
  "kernelspec": {
   "display_name": "cs444",
   "language": "python",
   "name": "python3"
  },
  "language_info": {
   "codemirror_mode": {
    "name": "ipython",
    "version": 3
   },
   "file_extension": ".py",
   "mimetype": "text/x-python",
   "name": "python",
   "nbconvert_exporter": "python",
   "pygments_lexer": "ipython3",
   "version": "3.10.16"
  }
 },
 "nbformat": 4,
 "nbformat_minor": 4
}
